{
  "nbformat": 4,
  "nbformat_minor": 0,
  "metadata": {
    "colab": {
      "name": "Queimadas Brasileiras.ipynb",
      "provenance": [],
      "collapsed_sections": [],
      "include_colab_link": true
    },
    "kernelspec": {
      "name": "python3",
      "display_name": "Python 3"
    }
  },
  "cells": [
    {
      "cell_type": "markdown",
      "metadata": {
        "id": "view-in-github",
        "colab_type": "text"
      },
      "source": [
        "<a href=\"https://colab.research.google.com/github/DanOliveira-DS/data_science/blob/master/Queimadas_Brasileiras.ipynb\" target=\"_parent\"><img src=\"https://colab.research.google.com/assets/colab-badge.svg\" alt=\"Open In Colab\"/></a>"
      ]
    },
    {
      "cell_type": "markdown",
      "metadata": {
        "id": "NuEDFaAoAAbx",
        "colab_type": "text"
      },
      "source": [
        "<center><img width='60%' src=\"https://upload.wikimedia.org/wikipedia/commons/6/63/Amazon_fire_satellite_image.png\"></center>\n",
        "\n",
        "**Contexto**\n",
        "A floresta amazônica é a maior floresta tropical do mundo. Os incêndios florestais são um problema sério para a preservação das florestas tropicais. Compreender a frequência dos incêndios florestais em uma série temporal pode ajudar a tomar medidas para evitá-los. O Brasil possui a maior floresta tropical do planeta que é a floresta amazônica.\n",
        "\n",
        "**Conteúdo**\n",
        "\n",
        "Este relatório de conjunto de dados do número de incêndios florestais no Brasil dividido por estados. A série compreende o período de aproximadamente 20 anos (1998 a 2017). Os dados foram obtidos no site oficial do governo brasileiro.\n",
        "http://dados.gov.br/dataset/sistema-nacional-de-informacoes-florestais-snif\n",
        "\n",
        "**Inspiração**\n",
        "\n",
        "Com esses dados, é possível avaliar a evolução dos incêndios ao longo dos anos, bem como as regiões onde eles estavam concentrados. A Amazônia legal compreende os estados do Acre, Amapá, Pará, Amazonas, Rondônia, Roraima e parte de Mato Grosso, Tocantins e Maranhão.\n"
      ]
    },
    {
      "cell_type": "markdown",
      "metadata": {
        "id": "l8QIOmb8FjEE",
        "colab_type": "text"
      },
      "source": [
        "# Importando bibliotecas\n"
      ]
    },
    {
      "cell_type": "code",
      "metadata": {
        "id": "6QygKOsrb3wx",
        "colab_type": "code",
        "colab": {}
      },
      "source": [
        "# importando bibliotecas\n",
        "import pandas as pd\n",
        "import numpy as np\n",
        "\n",
        "# Visualização\n",
        "import seaborn as sns\n",
        "import matplotlib.pyplot as plt\n",
        "%matplotlib inline"
      ],
      "execution_count": 0,
      "outputs": []
    },
    {
      "cell_type": "markdown",
      "metadata": {
        "id": "ZVGLEDSbG77h",
        "colab_type": "text"
      },
      "source": [
        "# Coletando Dados\n",
        "O arquivo csv que contém os dados que vamos usar foi hospedado no meu repositório do GitHub. Você pode acessa-los clicando neste [link](https://raw.githubusercontent.com/DanOliveira-DS/data_science/master/dataset/amazon.csv)."
      ]
    },
    {
      "cell_type": "code",
      "metadata": {
        "id": "iw6yW8BqcM-E",
        "colab_type": "code",
        "colab": {}
      },
      "source": [
        "# atribuindo a base de dados a variavel amazon_df\n",
        "amazon_df = pd.read_csv(\"https://raw.githubusercontent.com/DanOliveira-DS/data_science/master/dataset/amazon.csv\",\n",
        "                        encoding=\"Latin1\")"
      ],
      "execution_count": 0,
      "outputs": []
    },
    {
      "cell_type": "markdown",
      "metadata": {
        "id": "I_FE-ttixEZH",
        "colab_type": "text"
      },
      "source": [
        "Foi preciso passar o parâmetro encoding=\"Latin1\" pois temos um UnicodeDecodeError. Esse erro acontece porque temos uma sequência ilegal de caracteres como mostrado na img  ![UnicodeDecodeError](https://drive.google.com/uc?id=17oPsXhwqTbHLdForNZ_frBW1NgyPLBUH)\n",
        "\n",
        "\n",
        "**obs.: usei Latin1, mas temos outras opções no [link](https://docs.python.org/3/library/codecs.html#standard-encodings)** "
      ]
    },
    {
      "cell_type": "markdown",
      "metadata": {
        "id": "KvvGiISzHHCK",
        "colab_type": "text"
      },
      "source": [
        "# Análise Exploratória\n",
        "\n",
        "Dicionario das variaveis\n",
        "\n",
        "* `year` - ano do levantamento\n",
        "* `state` - estado brasileiro\n",
        "* `month` -  mês de refência\n",
        "* `number` -  numero de queimadas reportadas\n",
        "* `date` - dia/mes/ano \n",
        "\n",
        "Antes de iniciar qualquer analise. Vamos verificar nosso dataset apresentando a 5 primeiro entradas"
      ]
    },
    {
      "cell_type": "code",
      "metadata": {
        "id": "mN3YRbJ_apHp",
        "colab_type": "code",
        "outputId": "3c56c6de-beb9-4a8e-f178-11453aa31090",
        "colab": {
          "base_uri": "https://localhost:8080/",
          "height": 195
        }
      },
      "source": [
        "# mostrar a 5 primeiro entradas\n",
        "amazon_df.head()\n"
      ],
      "execution_count": 0,
      "outputs": [
        {
          "output_type": "execute_result",
          "data": {
            "text/html": [
              "<div>\n",
              "<style scoped>\n",
              "    .dataframe tbody tr th:only-of-type {\n",
              "        vertical-align: middle;\n",
              "    }\n",
              "\n",
              "    .dataframe tbody tr th {\n",
              "        vertical-align: top;\n",
              "    }\n",
              "\n",
              "    .dataframe thead th {\n",
              "        text-align: right;\n",
              "    }\n",
              "</style>\n",
              "<table border=\"1\" class=\"dataframe\">\n",
              "  <thead>\n",
              "    <tr style=\"text-align: right;\">\n",
              "      <th></th>\n",
              "      <th>year</th>\n",
              "      <th>state</th>\n",
              "      <th>month</th>\n",
              "      <th>number</th>\n",
              "      <th>date</th>\n",
              "    </tr>\n",
              "  </thead>\n",
              "  <tbody>\n",
              "    <tr>\n",
              "      <th>0</th>\n",
              "      <td>1998</td>\n",
              "      <td>Acre</td>\n",
              "      <td>Janeiro</td>\n",
              "      <td>0.0</td>\n",
              "      <td>1998-01-01</td>\n",
              "    </tr>\n",
              "    <tr>\n",
              "      <th>1</th>\n",
              "      <td>1999</td>\n",
              "      <td>Acre</td>\n",
              "      <td>Janeiro</td>\n",
              "      <td>0.0</td>\n",
              "      <td>1999-01-01</td>\n",
              "    </tr>\n",
              "    <tr>\n",
              "      <th>2</th>\n",
              "      <td>2000</td>\n",
              "      <td>Acre</td>\n",
              "      <td>Janeiro</td>\n",
              "      <td>0.0</td>\n",
              "      <td>2000-01-01</td>\n",
              "    </tr>\n",
              "    <tr>\n",
              "      <th>3</th>\n",
              "      <td>2001</td>\n",
              "      <td>Acre</td>\n",
              "      <td>Janeiro</td>\n",
              "      <td>0.0</td>\n",
              "      <td>2001-01-01</td>\n",
              "    </tr>\n",
              "    <tr>\n",
              "      <th>4</th>\n",
              "      <td>2002</td>\n",
              "      <td>Acre</td>\n",
              "      <td>Janeiro</td>\n",
              "      <td>0.0</td>\n",
              "      <td>2002-01-01</td>\n",
              "    </tr>\n",
              "  </tbody>\n",
              "</table>\n",
              "</div>"
            ],
            "text/plain": [
              "   year state    month  number        date\n",
              "0  1998  Acre  Janeiro     0.0  1998-01-01\n",
              "1  1999  Acre  Janeiro     0.0  1999-01-01\n",
              "2  2000  Acre  Janeiro     0.0  2000-01-01\n",
              "3  2001  Acre  Janeiro     0.0  2001-01-01\n",
              "4  2002  Acre  Janeiro     0.0  2002-01-01"
            ]
          },
          "metadata": {
            "tags": []
          },
          "execution_count": 4
        }
      ]
    },
    {
      "cell_type": "markdown",
      "metadata": {
        "id": "iXCZmbP8HP3Q",
        "colab_type": "text"
      },
      "source": [
        "Quantos atributos (variáveis) e quantas entradas o nosso conjunto de dados possui? Quais os tipos das variáveis?"
      ]
    },
    {
      "cell_type": "code",
      "metadata": {
        "id": "zm5seKrqbudE",
        "colab_type": "code",
        "outputId": "66b69860-1c16-4c98-b30e-6f48b5eb83ce",
        "colab": {
          "base_uri": "https://localhost:8080/",
          "height": 168
        }
      },
      "source": [
        "# atributos\n",
        "print(f\"Variaveis: {amazon_df.shape[0]}\")\n",
        "print(f\"Entradas: {amazon_df.shape[1]}\\n\")\n",
        "\n",
        "#tipos das variaveis\n",
        "print(amazon_df.dtypes)"
      ],
      "execution_count": 0,
      "outputs": [
        {
          "output_type": "stream",
          "text": [
            "Variaveis: 6454\n",
            "Entradas: 5\n",
            "\n",
            "year        int64\n",
            "state      object\n",
            "month      object\n",
            "number    float64\n",
            "date       object\n",
            "dtype: object\n"
          ],
          "name": "stdout"
        }
      ]
    },
    {
      "cell_type": "markdown",
      "metadata": {
        "id": "CoNOd2tHhx7c",
        "colab_type": "text"
      },
      "source": [
        "## Q1. Qual a porcentagem de valores ausentes no dataset?\n",
        "Um passo importante na análise de dados é verificação de dados ausentes, isso porque a qualidade de um dataset está diretamente relacionada à quantidade de valores ausentes. \n",
        "\n",
        "É importante entender logo no início se esses valores nulos são significativos comparados ao total de entradas.\n",
        "Baseado com a leitura do número de atributos e usando a função info. \n",
        "\n",
        "Foi possível verificar que nosso dataset não possui dados faltantes. Uma outra forma de verificar seria usando a função `.isnull()`\n"
      ]
    },
    {
      "cell_type": "code",
      "metadata": {
        "id": "c0lBTQWKdIW2",
        "colab_type": "code",
        "outputId": "962faba8-e583-4d89-842b-fcd933cffe17",
        "colab": {
          "base_uri": "https://localhost:8080/",
          "height": 370
        }
      },
      "source": [
        "# verificando dados ausentes\n",
        "print(\"Informacoes:\\n\")\n",
        "amazon_df.info()\n",
        "print(\"\\n--------------------------\\n\")\n",
        "# usando isnull()\n",
        "amazon_df.isnull().sum()"
      ],
      "execution_count": 0,
      "outputs": [
        {
          "output_type": "stream",
          "text": [
            "Informacoes:\n",
            "\n",
            "<class 'pandas.core.frame.DataFrame'>\n",
            "RangeIndex: 6454 entries, 0 to 6453\n",
            "Data columns (total 5 columns):\n",
            "year      6454 non-null int64\n",
            "state     6454 non-null object\n",
            "month     6454 non-null object\n",
            "number    6454 non-null float64\n",
            "date      6454 non-null object\n",
            "dtypes: float64(1), int64(1), object(3)\n",
            "memory usage: 252.2+ KB\n",
            "\n",
            "--------------------------\n",
            "\n"
          ],
          "name": "stdout"
        },
        {
          "output_type": "execute_result",
          "data": {
            "text/plain": [
              "year      0\n",
              "state     0\n",
              "month     0\n",
              "number    0\n",
              "date      0\n",
              "dtype: int64"
            ]
          },
          "metadata": {
            "tags": []
          },
          "execution_count": 7
        }
      ]
    },
    {
      "cell_type": "markdown",
      "metadata": {
        "id": "4VMfXeGzOGjR",
        "colab_type": "text"
      },
      "source": [
        "## Q2. Verificando valores unicos\n",
        "Para ver quais são todos os valores únicos de uma coluna, é conveniente usar o método unique()."
      ]
    },
    {
      "cell_type": "code",
      "metadata": {
        "id": "Mnhkf8VsOLg9",
        "colab_type": "code",
        "outputId": "c2a9814f-efbb-4a28-9668-d3515834c839",
        "colab": {
          "base_uri": "https://localhost:8080/",
          "height": 101
        }
      },
      "source": [
        "# Valores unicos para estados\n",
        "amazon_df.state.unique()"
      ],
      "execution_count": 0,
      "outputs": [
        {
          "output_type": "execute_result",
          "data": {
            "text/plain": [
              "array(['Acre', 'Alagoas', 'Amapa', 'Amazonas', 'Bahia', 'Ceara',\n",
              "       'Distrito Federal', 'Espirito Santo', 'Goias', 'Maranhao',\n",
              "       'Mato Grosso', 'Minas Gerais', 'Pará', 'Paraiba', 'Pernambuco',\n",
              "       'Piau', 'Rio', 'Rondonia', 'Roraima', 'Santa Catarina',\n",
              "       'Sao Paulo', 'Sergipe', 'Tocantins'], dtype=object)"
            ]
          },
          "metadata": {
            "tags": []
          },
          "execution_count": 8
        }
      ]
    },
    {
      "cell_type": "code",
      "metadata": {
        "id": "z8FX38prOYgk",
        "colab_type": "code",
        "outputId": "19d49ff8-865a-4345-82d1-5829f9837b07",
        "colab": {
          "base_uri": "https://localhost:8080/",
          "height": 67
        }
      },
      "source": [
        "# Valores unicos para meses\n",
        "amazon_df.month.unique()"
      ],
      "execution_count": 0,
      "outputs": [
        {
          "output_type": "execute_result",
          "data": {
            "text/plain": [
              "array(['Janeiro', 'Fevereiro', 'Março', 'Abril', 'Maio', 'Junho', 'Julho',\n",
              "       'Agosto', 'Setembro', 'Outubro', 'Novembro', 'Dezembro'],\n",
              "      dtype=object)"
            ]
          },
          "metadata": {
            "tags": []
          },
          "execution_count": 9
        }
      ]
    },
    {
      "cell_type": "code",
      "metadata": {
        "id": "uTDjnlOPEI97",
        "colab_type": "code",
        "outputId": "309d612a-bcdf-42ca-9648-8d05dcdd97d7",
        "colab": {
          "base_uri": "https://localhost:8080/",
          "height": 50
        }
      },
      "source": [
        "# Valores unicos para anos\n",
        "amazon_df.year.unique()"
      ],
      "execution_count": 0,
      "outputs": [
        {
          "output_type": "execute_result",
          "data": {
            "text/plain": [
              "array([1998, 1999, 2000, 2001, 2002, 2003, 2004, 2005, 2006, 2007, 2008,\n",
              "       2009, 2010, 2011, 2012, 2013, 2014, 2015, 2016, 2017])"
            ]
          },
          "metadata": {
            "tags": []
          },
          "execution_count": 10
        }
      ]
    },
    {
      "cell_type": "markdown",
      "metadata": {
        "id": "HP50zpx4Ogw4",
        "colab_type": "text"
      },
      "source": [
        "## Q3. Resumo das informações estatísticas\n",
        "\n",
        "Uma das maneiras mais simples de se iniciar uma análise exploratória das variáveis numéricas é utilizando o método `describe()`.\n",
        "\n",
        "Imediatamente você obtém um resumo contendo algumas das principais informações estatísticas relevantes:\n",
        "\n",
        "* **count** - quantidade de entradas válidas\n",
        "* **mean** - média dos valores\n",
        "* **std** - desvio padrão\n",
        "* **min** - menor valor da coluna\n",
        "* **25%** - percentil 25\n",
        "* **50%** - percentil 50 (e mediana)\n",
        "* **75%** - percentil 75\n",
        "* **max** - maior valor da coluna\n",
        "\n",
        "É possível identificar de cara colunas com valores ausentes e possíveis *outliers* (por exemplo, olhando o valor da mediana e comparando com valores máximos e mínimos)\n",
        "\n"
      ]
    },
    {
      "cell_type": "code",
      "metadata": {
        "id": "UNz2ENBqOyi0",
        "colab_type": "code",
        "outputId": "c0194e70-acfa-4720-c68b-62c9ea31e531",
        "colab": {
          "base_uri": "https://localhost:8080/",
          "height": 168
        }
      },
      "source": [
        "# verificando dados estatisticos de resumo\n",
        "amazon_df.number.describe()"
      ],
      "execution_count": 0,
      "outputs": [
        {
          "output_type": "execute_result",
          "data": {
            "text/plain": [
              "count    6454.000000\n",
              "mean      108.293163\n",
              "std       190.812242\n",
              "min         0.000000\n",
              "25%         3.000000\n",
              "50%        24.000000\n",
              "75%       113.000000\n",
              "max       998.000000\n",
              "Name: number, dtype: float64"
            ]
          },
          "metadata": {
            "tags": []
          },
          "execution_count": 37
        }
      ]
    },
    {
      "cell_type": "code",
      "metadata": {
        "id": "ROAglhqCO8hK",
        "colab_type": "code",
        "outputId": "d3c2e7cb-9984-4810-d420-62d9414365d9",
        "colab": {
          "base_uri": "https://localhost:8080/",
          "height": 34
        }
      },
      "source": [
        "# Numero total de queimadas reportadas em 19 anos\n",
        "print(f\"Número total de queimadas em 19 anos foi de: {amazon_df.number.sum()}\")"
      ],
      "execution_count": 0,
      "outputs": [
        {
          "output_type": "stream",
          "text": [
            "Número total de queimadas em 19 anos foi de: 698924.073\n"
          ],
          "name": "stdout"
        }
      ]
    },
    {
      "cell_type": "markdown",
      "metadata": {
        "id": "nnRGC3Vlvzhi",
        "colab_type": "text"
      },
      "source": [
        "## Q4. Qual o tipo de distribuição das variáveis?\n",
        "Para identificar essa distribuição, uma boa ideia é plotar um histograma"
      ]
    },
    {
      "cell_type": "code",
      "metadata": {
        "id": "f7II0Xhw1zcR",
        "colab_type": "code",
        "outputId": "370a18cc-5106-4e33-fcbf-3971bcddf002",
        "colab": {
          "base_uri": "https://localhost:8080/",
          "height": 281
        }
      },
      "source": [
        "amazon_df.hist();"
      ],
      "execution_count": 0,
      "outputs": [
        {
          "output_type": "display_data",
          "data": {
            "image/png": "[encoded data removed]",
            "text/plain": [
              "<Figure size 432x288 with 2 Axes>"
            ]
          },
          "metadata": {
            "tags": []
          }
        }
      ]
    },
    {
      "cell_type": "markdown",
      "metadata": {
        "id": "6RkMERDAPSNL",
        "colab_type": "text"
      },
      "source": [
        "## Q5. Removendo coluna `date`\n",
        "\n",
        "Como `year` e `date` representam a mesma informação. Podemos remover a coluna `date` por não agregar nada a nossa análise"
      ]
    },
    {
      "cell_type": "code",
      "metadata": {
        "id": "dWO3IK1NP6RH",
        "colab_type": "code",
        "colab": {}
      },
      "source": [
        "# removendo coluna `date`\n",
        "amazon_df.drop(columns='date', axis=1, inplace=True)"
      ],
      "execution_count": 0,
      "outputs": []
    },
    {
      "cell_type": "code",
      "metadata": {
        "id": "85eFU6kYQGkG",
        "colab_type": "code",
        "outputId": "5f4d18b5-5744-4b1e-cf40-d1946a4958f3",
        "colab": {
          "base_uri": "https://localhost:8080/",
          "height": 195
        }
      },
      "source": [
        "# verificando o novo dateset\n",
        "amazon_df.head()"
      ],
      "execution_count": 0,
      "outputs": [
        {
          "output_type": "execute_result",
          "data": {
            "text/html": [
              "<div>\n",
              "<style scoped>\n",
              "    .dataframe tbody tr th:only-of-type {\n",
              "        vertical-align: middle;\n",
              "    }\n",
              "\n",
              "    .dataframe tbody tr th {\n",
              "        vertical-align: top;\n",
              "    }\n",
              "\n",
              "    .dataframe thead th {\n",
              "        text-align: right;\n",
              "    }\n",
              "</style>\n",
              "<table border=\"1\" class=\"dataframe\">\n",
              "  <thead>\n",
              "    <tr style=\"text-align: right;\">\n",
              "      <th></th>\n",
              "      <th>year</th>\n",
              "      <th>state</th>\n",
              "      <th>month</th>\n",
              "      <th>number</th>\n",
              "    </tr>\n",
              "  </thead>\n",
              "  <tbody>\n",
              "    <tr>\n",
              "      <th>0</th>\n",
              "      <td>1998</td>\n",
              "      <td>Acre</td>\n",
              "      <td>Janeiro</td>\n",
              "      <td>0.0</td>\n",
              "    </tr>\n",
              "    <tr>\n",
              "      <th>1</th>\n",
              "      <td>1999</td>\n",
              "      <td>Acre</td>\n",
              "      <td>Janeiro</td>\n",
              "      <td>0.0</td>\n",
              "    </tr>\n",
              "    <tr>\n",
              "      <th>2</th>\n",
              "      <td>2000</td>\n",
              "      <td>Acre</td>\n",
              "      <td>Janeiro</td>\n",
              "      <td>0.0</td>\n",
              "    </tr>\n",
              "    <tr>\n",
              "      <th>3</th>\n",
              "      <td>2001</td>\n",
              "      <td>Acre</td>\n",
              "      <td>Janeiro</td>\n",
              "      <td>0.0</td>\n",
              "    </tr>\n",
              "    <tr>\n",
              "      <th>4</th>\n",
              "      <td>2002</td>\n",
              "      <td>Acre</td>\n",
              "      <td>Janeiro</td>\n",
              "      <td>0.0</td>\n",
              "    </tr>\n",
              "  </tbody>\n",
              "</table>\n",
              "</div>"
            ],
            "text/plain": [
              "   year state    month  number\n",
              "0  1998  Acre  Janeiro     0.0\n",
              "1  1999  Acre  Janeiro     0.0\n",
              "2  2000  Acre  Janeiro     0.0\n",
              "3  2001  Acre  Janeiro     0.0\n",
              "4  2002  Acre  Janeiro     0.0"
            ]
          },
          "metadata": {
            "tags": []
          },
          "execution_count": 16
        }
      ]
    },
    {
      "cell_type": "markdown",
      "metadata": {
        "id": "repzuoXdQL7H",
        "colab_type": "text"
      },
      "source": [
        "Por questões estéticas vou alterar o nome a ordem das nossas colunas\n"
      ]
    },
    {
      "cell_type": "code",
      "metadata": {
        "id": "2oG7edC_Qach",
        "colab_type": "code",
        "colab": {}
      },
      "source": [
        "# renomeando colunas\n",
        "amazon_df.rename(columns={'state':'State','number':'Fire_Number','month':'Month',\n",
        "                          'year':'Year'}, inplace=True)\n",
        "\n",
        "# alterando ordem\n",
        "amazon_df = amazon_df[['State',\n",
        "                       'Fire_Number',\n",
        "                       'Month',\n",
        "                       'Year']]"
      ],
      "execution_count": 0,
      "outputs": []
    },
    {
      "cell_type": "code",
      "metadata": {
        "id": "Aq6hHGFxQ4aF",
        "colab_type": "code",
        "outputId": "64aec225-9cfe-4a46-edeb-d3db133c717b",
        "colab": {
          "base_uri": "https://localhost:8080/",
          "height": 195
        }
      },
      "source": [
        "# verifcando novo formato\n",
        "amazon_df.head()"
      ],
      "execution_count": 0,
      "outputs": [
        {
          "output_type": "execute_result",
          "data": {
            "text/html": [
              "<div>\n",
              "<style scoped>\n",
              "    .dataframe tbody tr th:only-of-type {\n",
              "        vertical-align: middle;\n",
              "    }\n",
              "\n",
              "    .dataframe tbody tr th {\n",
              "        vertical-align: top;\n",
              "    }\n",
              "\n",
              "    .dataframe thead th {\n",
              "        text-align: right;\n",
              "    }\n",
              "</style>\n",
              "<table border=\"1\" class=\"dataframe\">\n",
              "  <thead>\n",
              "    <tr style=\"text-align: right;\">\n",
              "      <th></th>\n",
              "      <th>State</th>\n",
              "      <th>Fire_Number</th>\n",
              "      <th>Month</th>\n",
              "      <th>Year</th>\n",
              "    </tr>\n",
              "  </thead>\n",
              "  <tbody>\n",
              "    <tr>\n",
              "      <th>0</th>\n",
              "      <td>Acre</td>\n",
              "      <td>0.0</td>\n",
              "      <td>Janeiro</td>\n",
              "      <td>1998</td>\n",
              "    </tr>\n",
              "    <tr>\n",
              "      <th>1</th>\n",
              "      <td>Acre</td>\n",
              "      <td>0.0</td>\n",
              "      <td>Janeiro</td>\n",
              "      <td>1999</td>\n",
              "    </tr>\n",
              "    <tr>\n",
              "      <th>2</th>\n",
              "      <td>Acre</td>\n",
              "      <td>0.0</td>\n",
              "      <td>Janeiro</td>\n",
              "      <td>2000</td>\n",
              "    </tr>\n",
              "    <tr>\n",
              "      <th>3</th>\n",
              "      <td>Acre</td>\n",
              "      <td>0.0</td>\n",
              "      <td>Janeiro</td>\n",
              "      <td>2001</td>\n",
              "    </tr>\n",
              "    <tr>\n",
              "      <th>4</th>\n",
              "      <td>Acre</td>\n",
              "      <td>0.0</td>\n",
              "      <td>Janeiro</td>\n",
              "      <td>2002</td>\n",
              "    </tr>\n",
              "  </tbody>\n",
              "</table>\n",
              "</div>"
            ],
            "text/plain": [
              "  State  Fire_Number    Month  Year\n",
              "0  Acre          0.0  Janeiro  1998\n",
              "1  Acre          0.0  Janeiro  1999\n",
              "2  Acre          0.0  Janeiro  2000\n",
              "3  Acre          0.0  Janeiro  2001\n",
              "4  Acre          0.0  Janeiro  2002"
            ]
          },
          "metadata": {
            "tags": []
          },
          "execution_count": 18
        }
      ]
    },
    {
      "cell_type": "markdown",
      "metadata": {
        "id": "8VZNyhROFOzw",
        "colab_type": "text"
      },
      "source": [
        "# Visualização dos Dados\n",
        "\n",
        "A visualização de dados é a apresentação de informações quantitativas em uma forma gráfica. Em outras palavras, as visualizações de dados transformam grandes e pequenos conjuntos de dados em visuais que são mais fáceis para o cérebro humano entender e processar."
      ]
    },
    {
      "cell_type": "markdown",
      "metadata": {
        "id": "NBBF9R4dDlJC",
        "colab_type": "text"
      },
      "source": [
        "## Quantidade de queimadas reportadas por estado no espaço amostral de 19 anos"
      ]
    },
    {
      "cell_type": "code",
      "metadata": {
        "id": "m5aKlbpHrzAz",
        "colab_type": "code",
        "colab": {}
      },
      "source": [
        "# criando a variavel de armazenamento\n",
        "sum_fire_states = amazon_df.groupby(['State']).Fire_Number.sum()"
      ],
      "execution_count": 0,
      "outputs": []
    },
    {
      "cell_type": "code",
      "metadata": {
        "id": "hDQ6jxRKtz2t",
        "colab_type": "code",
        "outputId": "4b2e9517-9239-4fb5-bb1b-9c3e6f3666a5",
        "colab": {
          "base_uri": "https://localhost:8080/",
          "height": 454
        }
      },
      "source": [
        "# Numero total de queimadas reportadas por estado\n",
        "print(\"VALORES TOTAIS DE QUEIMADAS POR ESTADO:\")\n",
        "sum_fire_states.sort_values(ascending=False)\n"
      ],
      "execution_count": 0,
      "outputs": [
        {
          "output_type": "stream",
          "text": [
            "VALORES TOTAIS DE QUEIMADAS POR ESTADO:\n"
          ],
          "name": "stdout"
        },
        {
          "output_type": "execute_result",
          "data": {
            "text/plain": [
              "State\n",
              "Mato Grosso         96246.028\n",
              "Paraiba             52435.918\n",
              "Sao Paulo           51121.198\n",
              "Rio                 45160.865\n",
              "Bahia               44746.226\n",
              "Piau                37803.747\n",
              "Goias               37695.520\n",
              "Minas Gerais        37475.258\n",
              "Tocantins           33707.885\n",
              "Amazonas            30650.129\n",
              "Ceara               30428.063\n",
              "Maranhao            25129.131\n",
              "Pará                24512.144\n",
              "Pernambuco          24498.000\n",
              "Roraima             24385.074\n",
              "Santa Catarina      24359.852\n",
              "Amapa               21831.576\n",
              "Rondonia            20285.429\n",
              "Acre                18464.030\n",
              "Espirito Santo       6546.000\n",
              "Alagoas              4644.000\n",
              "Distrito Federal     3561.000\n",
              "Sergipe              3237.000\n",
              "Name: Fire_Number, dtype: float64"
            ]
          },
          "metadata": {
            "tags": []
          },
          "execution_count": 80
        }
      ]
    },
    {
      "cell_type": "code",
      "metadata": {
        "id": "tIkkIj3fXwK8",
        "colab_type": "code",
        "outputId": "f7eab073-0822-4cee-b684-ec192fd313f9",
        "colab": {
          "base_uri": "https://localhost:8080/",
          "height": 454
        }
      },
      "source": [
        "# mostrar a porcentagem de queimadas\n",
        "print(\"VALORES EM PORCENTAGEM: % \")\n",
        "(sum_fire_states.sort_values(ascending=False) / amazon_df.Fire_Number.sum())*100"
      ],
      "execution_count": 0,
      "outputs": [
        {
          "output_type": "stream",
          "text": [
            "VALORES EM PORCENTAGEM: % \n"
          ],
          "name": "stdout"
        },
        {
          "output_type": "execute_result",
          "data": {
            "text/plain": [
              "State\n",
              "Mato Grosso         13.770599\n",
              "Paraiba              7.502377\n",
              "Sao Paulo            7.314271\n",
              "Rio                  6.461484\n",
              "Bahia                6.402158\n",
              "Piau                 5.408849\n",
              "Goias                5.393364\n",
              "Minas Gerais         5.361850\n",
              "Tocantins            4.822825\n",
              "Amazonas             4.385330\n",
              "Ceara                4.353558\n",
              "Maranhao             3.595402\n",
              "Pará                 3.507125\n",
              "Pernambuco           3.505102\n",
              "Roraima              3.488945\n",
              "Santa Catarina       3.485336\n",
              "Amapa                3.123598\n",
              "Rondonia             2.902379\n",
              "Acre                 2.641779\n",
              "Espirito Santo       0.936582\n",
              "Alagoas              0.664450\n",
              "Distrito Federal     0.509497\n",
              "Sergipe              0.463140\n",
              "Name: Fire_Number, dtype: float64"
            ]
          },
          "metadata": {
            "tags": []
          },
          "execution_count": 79
        }
      ]
    },
    {
      "cell_type": "code",
      "metadata": {
        "id": "oD5JG0TjF-TK",
        "colab_type": "code",
        "outputId": "f6bc81b8-e12e-488d-ac2a-f181ece92cd4",
        "colab": {
          "base_uri": "https://localhost:8080/",
          "height": 314
        }
      },
      "source": [
        "# plotando grafico de linhas\n",
        "print(\"ESTADOS X NUMERO DE QUEIMADAS:\\n\")\n",
        "sum_fire_states.plot();\n"
      ],
      "execution_count": 0,
      "outputs": [
        {
          "output_type": "stream",
          "text": [
            "ESTADOS X NUMERO DE QUEIMADAS:\n",
            "\n"
          ],
          "name": "stdout"
        },
        {
          "output_type": "display_data",
          "data": {
            "image/png": "[encoded data removed]",
            "text/plain": [
              "<Figure size 432x288 with 1 Axes>"
            ]
          },
          "metadata": {
            "tags": []
          }
        }
      ]
    },
    {
      "cell_type": "code",
      "metadata": {
        "id": "r2W0H-Aqyd0x",
        "colab_type": "code",
        "outputId": "5cb865d8-9533-4f43-93fb-175392d950ec",
        "colab": {
          "base_uri": "https://localhost:8080/",
          "height": 382
        }
      },
      "source": [
        "# plotando grafico de barras\n",
        "print(\"ESTADOS X NUMERO DE QUEIMADAS:\\n\")\n",
        "sum_fire_states.plot(kind='bar');"
      ],
      "execution_count": 0,
      "outputs": [
        {
          "output_type": "stream",
          "text": [
            "ESTADOS X NUMERO DE QUEIMADAS:\n",
            "\n"
          ],
          "name": "stdout"
        },
        {
          "output_type": "display_data",
          "data": {
            "image/png": "[encoded data removed]",
            "text/plain": [
              "<Figure size 432x288 with 1 Axes>"
            ]
          },
          "metadata": {
            "tags": []
          }
        }
      ]
    },
    {
      "cell_type": "markdown",
      "metadata": {
        "id": "yym3QhYnWvJY",
        "colab_type": "text"
      },
      "source": [
        "### Qual estado apresentou o maior numero de queimadas reportadas?\n",
        "\n",
        "Com nossa análise foi possivel verificar que o estado que apresentou o maior numero de queimadas foi Mato Grosso com 96246.028 representando assim 13,7 % do total de queimadas"
      ]
    },
    {
      "cell_type": "markdown",
      "metadata": {
        "id": "qZ1r15PlDy85",
        "colab_type": "text"
      },
      "source": [
        "## Quantidade de queimadas reportadas pelos meses"
      ]
    },
    {
      "cell_type": "code",
      "metadata": {
        "id": "O-Tn8IMc6O1y",
        "colab_type": "code",
        "outputId": "c91a15a1-b3ee-4599-c564-37d7efef4505",
        "colab": {
          "base_uri": "https://localhost:8080/",
          "height": 269
        }
      },
      "source": [
        "# criando a variavel de armazenamento\n",
        "sum_fire_month = (amazon_df.groupby(['Month'], sort=False).Fire_Number.sum())\n",
        "\n",
        "# imprimindo variavel\n",
        "print(\"NUMERO TOTAL DE QUEIMADAS PELOS MESES:\")\n",
        "print(sum_fire_month)"
      ],
      "execution_count": 0,
      "outputs": [
        {
          "output_type": "stream",
          "text": [
            "NUMERO TOTAL DE QUEIMADAS PELOS MESES:\n",
            "Month\n",
            "Janeiro      47747.844\n",
            "Fevereiro    30848.050\n",
            "Março        30717.405\n",
            "Abril        28188.770\n",
            "Maio         34731.363\n",
            "Junho        56010.675\n",
            "Julho        92326.113\n",
            "Agosto       88050.435\n",
            "Setembro     58578.305\n",
            "Outubro      88681.579\n",
            "Novembro     85508.054\n",
            "Dezembro     57535.480\n",
            "Name: Fire_Number, dtype: float64\n"
          ],
          "name": "stdout"
        }
      ]
    },
    {
      "cell_type": "code",
      "metadata": {
        "id": "RbegW3tw8TWL",
        "colab_type": "code",
        "outputId": "b64cda30-d461-4024-a24a-daf6f1794326",
        "colab": {
          "base_uri": "https://localhost:8080/",
          "height": 279
        }
      },
      "source": [
        "# plotando grafico\n",
        "sum_fire_month.plot();"
      ],
      "execution_count": 0,
      "outputs": [
        {
          "output_type": "display_data",
          "data": {
            "image/png": "[encoded data removed]",
            "text/plain": [
              "<Figure size 432x288 with 1 Axes>"
            ]
          },
          "metadata": {
            "tags": []
          }
        }
      ]
    },
    {
      "cell_type": "markdown",
      "metadata": {
        "id": "buRDAMWh4HSp",
        "colab_type": "text"
      },
      "source": [
        "### Quais meses apresentaram o maior numero de queimadas reportadas?\n",
        "\n",
        "Os meses de Julho e Outubro sao os grandes campeões. Um ponto interesante de se analisar é que estes sao meses que apresentam temperaturas elevadas.\n"
      ]
    },
    {
      "cell_type": "markdown",
      "metadata": {
        "id": "oAMACn2tDtah",
        "colab_type": "text"
      },
      "source": [
        "## Quantidade de queimadas reportadas por ano "
      ]
    },
    {
      "cell_type": "code",
      "metadata": {
        "id": "5PRjstrTyzVm",
        "colab_type": "code",
        "outputId": "1de398d2-9818-4de8-872c-eaa47330d23c",
        "colab": {
          "base_uri": "https://localhost:8080/",
          "height": 403
        }
      },
      "source": [
        "# criando a variavel de armazenamento\n",
        "sum_fire_year = (amazon_df.groupby(['Year']).Fire_Number.sum())\n",
        "\n",
        "# imprimindo variavel\n",
        "print(\"NUMERO TOTAL DE QUEIMADAS POR ANO:\")\n",
        "print(sum_fire_year.sort_values(ascending=False))"
      ],
      "execution_count": 0,
      "outputs": [
        {
          "output_type": "stream",
          "text": [
            "NUMERO TOTAL DE QUEIMADAS POR ANO:\n",
            "Year\n",
            "2003    42760.674\n",
            "2016    42212.229\n",
            "2015    41208.292\n",
            "2012    40084.860\n",
            "2014    39621.183\n",
            "2009    39117.178\n",
            "2004    38453.163\n",
            "2002    37390.600\n",
            "2010    37037.449\n",
            "2017    36685.624\n",
            "2013    35146.118\n",
            "2005    35004.965\n",
            "2011    34633.545\n",
            "2006    33832.161\n",
            "2007    33037.413\n",
            "2008    29378.964\n",
            "2001    29071.612\n",
            "2000    27351.251\n",
            "1999    26882.821\n",
            "1998    20013.971\n",
            "Name: Fire_Number, dtype: float64\n"
          ],
          "name": "stdout"
        }
      ]
    },
    {
      "cell_type": "code",
      "metadata": {
        "id": "qHesxSlY6heO",
        "colab_type": "code",
        "outputId": "554a9e0b-c400-4d29-bdb0-5db0952485f7",
        "colab": {
          "base_uri": "https://localhost:8080/",
          "height": 295
        }
      },
      "source": [
        "amazon_df.groupby(['Year']).Fire_Number.sum().plot(kind='bar');"
      ],
      "execution_count": 0,
      "outputs": [
        {
          "output_type": "display_data",
          "data": {
            "image/png": "[encoded data removed]",
            "text/plain": [
              "<Figure size 432x288 with 1 Axes>"
            ]
          },
          "metadata": {
            "tags": []
          }
        }
      ]
    },
    {
      "cell_type": "markdown",
      "metadata": {
        "id": "H3L2heorG1cZ",
        "colab_type": "text"
      },
      "source": [
        "### Qual ano apresentou o maior numero de queimadas reportadas?\n",
        "\n"
      ]
    },
    {
      "cell_type": "code",
      "metadata": {
        "id": "IB_JfzCdIdVY",
        "colab_type": "code",
        "outputId": "f1981b34-c1b9-4e2b-f43f-7099eff6c87f",
        "colab": {
          "base_uri": "https://localhost:8080/",
          "height": 34
        }
      },
      "source": [
        "print(f\"Ano 2003 foi o grande 'campeão' com um total de: {round(sum_fire_year[2003],0)} queimadas reportadas\")"
      ],
      "execution_count": 0,
      "outputs": [
        {
          "output_type": "stream",
          "text": [
            "Ano 2003 foi o grande 'campeão' com um total de: 42761.0 queimadas reportadas\n"
          ],
          "name": "stdout"
        }
      ]
    },
    {
      "cell_type": "markdown",
      "metadata": {
        "id": "PcJektibLh22",
        "colab_type": "text"
      },
      "source": [
        "# Conclusão\n",
        "\n",
        "Conclusão\n",
        "Diante do exposto, percebe-se que há uma tendência positiva nos relatórios de incêndio nesses 20 anos - o que apenas levanta a bandeira da atenção para preservação das florestas tropicais-.\n",
        "\n",
        "Nota-se que o estado o Mato Grosso é aquele com a condição mais extrema da observação. Entretanto, o restante dos estados não fica muito atrás, como visto nos gráficos, pois não há declínio. Além disso, analisamos as distribuições estatísticas entre os meses mais quentes do Brasil e conseguimos identificar aqueles com as maiores medianas. O que pode ser útil para criar planos de combate, antecedendo possíveis surtos.\n",
        "\n",
        "No geral, esse conjunto de dados pode, definitivamente, ter mais recursos, para que mais informações possam ser analisadas e correlações identificadas - o que resultaria em previsões poderosas aplicando algoritmos de aprendizado de máquina (Machine Learning)-.\n",
        "\n",
        "Se você gostou deste post ou deseja iniciar uma discussão, deixe um comentário!"
      ]
    }
  ]
}