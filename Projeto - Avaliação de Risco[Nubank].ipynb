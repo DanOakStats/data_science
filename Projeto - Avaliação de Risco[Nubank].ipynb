{
  "nbformat": 4,
  "nbformat_minor": 0,
  "metadata": {
    "colab": {
      "name": "[PROJETO] - AVALIAÇÃO DE RISCO.ipynb",
      "provenance": [],
      "collapsed_sections": [],
      "include_colab_link": true
    },
    "kernelspec": {
      "display_name": "Python 3",
      "language": "python",
      "name": "python3"
    },
    "language_info": {
      "codemirror_mode": {
        "name": "ipython",
        "version": 3
      },
      "file_extension": ".py",
      "mimetype": "text/x-python",
      "name": "python",
      "nbconvert_exporter": "python",
      "pygments_lexer": "ipython3",
      "version": "3.7.5"
    },
    "toc": {
      "base_numbering": 1,
      "nav_menu": {},
      "number_sections": true,
      "sideBar": true,
      "skip_h1_title": false,
      "title_cell": "Table of Contents",
      "title_sidebar": "Contents",
      "toc_cell": false,
      "toc_position": {
        "height": "calc(100% - 180px)",
        "left": "10px",
        "top": "150px",
        "width": "277.031px"
      },
      "toc_section_display": true,
      "toc_window_display": true
    },
    "varInspector": {
      "cols": {
        "lenName": 16,
        "lenType": 16,
        "lenVar": 40
      },
      "kernels_config": {
        "python": {
          "delete_cmd_postfix": "",
          "delete_cmd_prefix": "del ",
          "library": "var_list.py",
          "varRefreshCmd": "print(var_dic_list())"
        },
        "r": {
          "delete_cmd_postfix": ") ",
          "delete_cmd_prefix": "rm(",
          "library": "var_list.r",
          "varRefreshCmd": "cat(var_dic_list()) "
        }
      },
      "position": {
        "height": "349.716px",
        "left": "1289.83px",
        "right": "20px",
        "top": "126px",
        "width": "367.159px"
      },
      "types_to_exclude": [
        "module",
        "function",
        "builtin_function_or_method",
        "instance",
        "_Feature"
      ],
      "window_display": false
    }
  },
  "cells": [
    {
      "cell_type": "markdown",
      "metadata": {
        "id": "view-in-github",
        "colab_type": "text"
      },
      "source": [
        "<a href=\"https://colab.research.google.com/github/DanOliveira-DS/data_science/blob/master/Projeto%20-%20Avalia%C3%A7%C3%A3o%20de%20Risco%5BNubank%5D.ipynb\" target=\"_parent\"><img src=\"https://colab.research.google.com/assets/colab-badge.svg\" alt=\"Open In Colab\"/></a>"
      ]
    },
    {
      "cell_type": "markdown",
      "metadata": {
        "colab_type": "text",
        "id": "KEkgA5mBS_vS"
      },
      "source": [
        "# Avaliação de Risco de Crédito\n",
        "\n",
        "\n",
        "Uma das área que causa mais problemas para bancos, financiadoras e empresários é a taxa de inadimplência por parte da sua carteira de clientes.\n",
        "\n",
        "Avaliar se uma pessoa irá deixar de cumprir com suas obrigações financeiras é de extrema importância, e pode causar um grande impacto no balanço da Instituição. Cada vez mais, soluções vêm sendo desenvolvidas e aprimoradas visando minimizar o risco de *default*. \n",
        "\n",
        "*Default* é o termo utilizado para indicar o não cumprimento das obrigações e/ou condições de um empréstimo (como financiamentos ou dívidas de cartão de crédito). Normalmente, o principal motivo para o descumprimento das condições de pagamento é incapacidade financeira do cliente.\n",
        "\n",
        "<center><img width=65% src=\"https://www.reachmarketing.com/wp-content/uploads/2017/07/data-enhancement.png\"</center>\n",
        "\n",
        "    \n",
        "\n",
        "\n",
        "\n"
      ]
    },
    {
      "cell_type": "markdown",
      "metadata": {
        "id": "K2qPgWe2bYaS",
        "colab_type": "text"
      },
      "source": [
        "Grandes bancos e Fintechs têm apostado cada vez mais em modelos de *Machine Learning* para previnir a inadimplência de alguns clientes.\n",
        "\n",
        "Dentre as principais instituições financeira, o [Nubank](https://nubank.com.br/sobre-nos) é uma das que mais tem se destacado no uso de Inteligência Artificial e times de *Data Science*.\n",
        "\n",
        "O conjunto de dados a ser utilizado neste Projeto de *Data Science* parte de uma competição realizada pela Startup [Nubank](https://nubank.com.br/sobre-nos) a fim de revelar talentos e potenciais contratações pela Fintech."
      ]
    },
    {
      "cell_type": "markdown",
      "metadata": {
        "id": "DW_Pt5XbbYaT",
        "colab_type": "text"
      },
      "source": [
        "**Contextualização do Problema**\n",
        "\n",
        "Neste problema, o objetivo é prever qual a probabilidade de um cliente da Startup Nubank não coumprir com suas obrigações financeiras e deixar de pagar a sua fatura do Cartão de Crédito.\n",
        "\n",
        "<center><img width=25% src=\"https://upload.wikimedia.org/wikipedia/pt/thumb/0/08/Logo_nubank.png/200px-Logo_nubank.png\"</center>\n",
        "  \n",
        "Vale ressaltar que essa avaliação deve ser realizada no momento em que o cliente solicita o cartão (normalmente no primeiro contato com a instituição).\n",
        "\n",
        "\n",
        "\n",
        "> OBJETIVO: Criar um modelo que forneça a probabilidade de um cliente virar inadimplente.\n",
        "\n",
        "\n",
        "Espera-se que um modelo seja capaz de minimizar as perdas financeiras do Nubank, porém minimizando também os falsos positivos."
      ]
    },
    {
      "cell_type": "markdown",
      "metadata": {
        "colab_type": "text",
        "id": "ia8kN01GS_vV"
      },
      "source": [
        "# Importando Bibliotecas"
      ]
    },
    {
      "cell_type": "code",
      "metadata": {
        "colab_type": "code",
        "id": "cl4rt3lqS_vW",
        "colab": {}
      },
      "source": [
        "import numpy as np  # linear algebra\n",
        "import pandas as pd  # read csv, I/O\n",
        "\n",
        "# visualização\n",
        "import matplotlib.pyplot as plt\n",
        "import seaborn as sns\n",
        "pd.set_option('display.max_columns', None)\n",
        "\n",
        "# estilo dos graficos\n",
        "sns.set_style('dark')\n",
        "\n",
        "# filtrar mensagens de warning\n",
        "import warnings\n",
        "warnings.filterwarnings('ignore')"
      ],
      "execution_count": 0,
      "outputs": []
    },
    {
      "cell_type": "markdown",
      "metadata": {
        "colab_type": "text",
        "id": "b_flEKF6S_va"
      },
      "source": [
        "# Importando dataset\n",
        "Iremos utilizar o metodo `read_csv()` da biblioteca pandas. Com isso vamos visualizar a 5 primeiras entradas do nosso dataset para verificar sua estrutura e ter uma analise inicial."
      ]
    },
    {
      "cell_type": "code",
      "metadata": {
        "colab_type": "code",
        "id": "1CNiAedzS_vb",
        "outputId": "34f99070-56f8-423c-f95b-90ecd7cc71fe",
        "colab": {
          "base_uri": "https://localhost:8080/",
          "height": 615
        }
      },
      "source": [
        "# importando dataset\n",
        "nu_df = pd.read_csv('http://dl.dropboxusercontent.com/s/xn2a4kzf0zer0xu/acquisition_train.csv?dl=0')\n",
        "#acquisition_train.csv\n",
        "#http://dl.dropboxusercontent.com/s/xn2a4kzf0zer0xu/acquisition_train.csv?dl=0\n",
        "# visualizando as 5 primeiras entradas\n",
        "nu_df.head()"
      ],
      "execution_count": 2,
      "outputs": [
        {
          "output_type": "execute_result",
          "data": {
            "text/html": [
              "<div>\n",
              "<style scoped>\n",
              "    .dataframe tbody tr th:only-of-type {\n",
              "        vertical-align: middle;\n",
              "    }\n",
              "\n",
              "    .dataframe tbody tr th {\n",
              "        vertical-align: top;\n",
              "    }\n",
              "\n",
              "    .dataframe thead th {\n",
              "        text-align: right;\n",
              "    }\n",
              "</style>\n",
              "<table border=\"1\" class=\"dataframe\">\n",
              "  <thead>\n",
              "    <tr style=\"text-align: right;\">\n",
              "      <th></th>\n",
              "      <th>ids</th>\n",
              "      <th>target_default</th>\n",
              "      <th>score_1</th>\n",
              "      <th>score_2</th>\n",
              "      <th>score_3</th>\n",
              "      <th>score_4</th>\n",
              "      <th>score_5</th>\n",
              "      <th>score_6</th>\n",
              "      <th>risk_rate</th>\n",
              "      <th>last_amount_borrowed</th>\n",
              "      <th>last_borrowed_in_months</th>\n",
              "      <th>credit_limit</th>\n",
              "      <th>reason</th>\n",
              "      <th>income</th>\n",
              "      <th>facebook_profile</th>\n",
              "      <th>state</th>\n",
              "      <th>zip</th>\n",
              "      <th>channel</th>\n",
              "      <th>job_name</th>\n",
              "      <th>real_state</th>\n",
              "      <th>ok_since</th>\n",
              "      <th>n_bankruptcies</th>\n",
              "      <th>n_defaulted_loans</th>\n",
              "      <th>n_accounts</th>\n",
              "      <th>n_issues</th>\n",
              "      <th>application_time_applied</th>\n",
              "      <th>application_time_in_funnel</th>\n",
              "      <th>email</th>\n",
              "      <th>external_data_provider_credit_checks_last_2_year</th>\n",
              "      <th>external_data_provider_credit_checks_last_month</th>\n",
              "      <th>external_data_provider_credit_checks_last_year</th>\n",
              "      <th>external_data_provider_email_seen_before</th>\n",
              "      <th>external_data_provider_first_name</th>\n",
              "      <th>external_data_provider_fraud_score</th>\n",
              "      <th>lat_lon</th>\n",
              "      <th>marketing_channel</th>\n",
              "      <th>profile_phone_number</th>\n",
              "      <th>reported_income</th>\n",
              "      <th>shipping_state</th>\n",
              "      <th>shipping_zip_code</th>\n",
              "      <th>profile_tags</th>\n",
              "      <th>user_agent</th>\n",
              "      <th>target_fraud</th>\n",
              "    </tr>\n",
              "  </thead>\n",
              "  <tbody>\n",
              "    <tr>\n",
              "      <th>0</th>\n",
              "      <td>343b7e7b-2cf8-e508-b8fd-0a0285af30aa</td>\n",
              "      <td>False</td>\n",
              "      <td>1Rk8w4Ucd5yR3KcqZzLdow==</td>\n",
              "      <td>IOVu8au3ISbo6+zmfnYwMg==</td>\n",
              "      <td>350.0</td>\n",
              "      <td>101.800832</td>\n",
              "      <td>0.259555</td>\n",
              "      <td>108.427273</td>\n",
              "      <td>0.40</td>\n",
              "      <td>25033.92</td>\n",
              "      <td>36.0</td>\n",
              "      <td>0.0</td>\n",
              "      <td>mLVIVxoGY7TUDJ1FyFoSIZi1SFcaBmO01AydRchaEiGYtU...</td>\n",
              "      <td>65014.12</td>\n",
              "      <td>True</td>\n",
              "      <td>sjJbkqJS7cXalHLBFA+EOQ==</td>\n",
              "      <td>Ernn+uVXCMq/6ARrBCcd+A==</td>\n",
              "      <td>NCqL3QBx0pscDnx3ixKwXg==</td>\n",
              "      <td>mLVIVxoGY7TUDJ1FyFoSIZi1SFcaBmO01AydRchaEiGYtU...</td>\n",
              "      <td>N5/CE7lSkAfB04hVFFwllw==</td>\n",
              "      <td>NaN</td>\n",
              "      <td>0.0</td>\n",
              "      <td>0.0</td>\n",
              "      <td>18.0</td>\n",
              "      <td>18.0</td>\n",
              "      <td>07:52:34</td>\n",
              "      <td>444</td>\n",
              "      <td>outlook.com</td>\n",
              "      <td>NaN</td>\n",
              "      <td>2</td>\n",
              "      <td>0.0</td>\n",
              "      <td>51.0</td>\n",
              "      <td>leidelaura</td>\n",
              "      <td>645</td>\n",
              "      <td>(-29.151545708122246, -51.1386461804385)</td>\n",
              "      <td>Invite-email</td>\n",
              "      <td>514-9840782</td>\n",
              "      <td>57849.0</td>\n",
              "      <td>BR-MT</td>\n",
              "      <td>17528</td>\n",
              "      <td>{'tags': ['n19', 'n8']}</td>\n",
              "      <td>Mozilla/5.0 (Linux; Android 6.0.1; SGP771 Buil...</td>\n",
              "      <td>NaN</td>\n",
              "    </tr>\n",
              "    <tr>\n",
              "      <th>1</th>\n",
              "      <td>bc2c7502-bbad-0f8c-39c3-94e881967124</td>\n",
              "      <td>False</td>\n",
              "      <td>DGCQep2AE5QRkNCshIAlFQ==</td>\n",
              "      <td>SaamrHMo23l/3TwXOWgVzw==</td>\n",
              "      <td>370.0</td>\n",
              "      <td>97.062615</td>\n",
              "      <td>0.942655</td>\n",
              "      <td>92.002546</td>\n",
              "      <td>0.24</td>\n",
              "      <td>NaN</td>\n",
              "      <td>NaN</td>\n",
              "      <td>39726.0</td>\n",
              "      <td>mLVIVxoGY7TUDJ1FyFoSIZi1SFcaBmO01AydRchaEiGYtU...</td>\n",
              "      <td>100018.91</td>\n",
              "      <td>False</td>\n",
              "      <td>xsd3ZdsI3356I3xMxZeiqQ==</td>\n",
              "      <td>rlWIXTBO+VOa34+SpGyhlQ==</td>\n",
              "      <td>NCqL3QBx0pscDnx3ixKwXg==</td>\n",
              "      <td>mLVIVxoGY7TUDJ1FyFoSIZi1SFcaBmO01AydRchaEiGYtU...</td>\n",
              "      <td>N5/CE7lSkAfB04hVFFwllw==</td>\n",
              "      <td>50.0</td>\n",
              "      <td>0.0</td>\n",
              "      <td>0.0</td>\n",
              "      <td>14.0</td>\n",
              "      <td>14.0</td>\n",
              "      <td>02:34:29</td>\n",
              "      <td>346</td>\n",
              "      <td>gmail.com</td>\n",
              "      <td>0.0</td>\n",
              "      <td>1</td>\n",
              "      <td>0.0</td>\n",
              "      <td>17.0</td>\n",
              "      <td>diocezio</td>\n",
              "      <td>243</td>\n",
              "      <td>(-19.687710705798963, -47.94151536525154)</td>\n",
              "      <td>Radio-commercial</td>\n",
              "      <td>251-3659293</td>\n",
              "      <td>4902.0</td>\n",
              "      <td>BR-RS</td>\n",
              "      <td>40933</td>\n",
              "      <td>{'tags': ['n6', 'n7', 'nim']}</td>\n",
              "      <td>Mozilla/5.0 (Linux; Android 5.0.2; SAMSUNG SM-...</td>\n",
              "      <td>NaN</td>\n",
              "    </tr>\n",
              "    <tr>\n",
              "      <th>2</th>\n",
              "      <td>669630dd-2e6a-0396-84bf-455e5009c922</td>\n",
              "      <td>True</td>\n",
              "      <td>DGCQep2AE5QRkNCshIAlFQ==</td>\n",
              "      <td>Fv28Bz0YRTVAT5kl1bAV6g==</td>\n",
              "      <td>360.0</td>\n",
              "      <td>100.027073</td>\n",
              "      <td>0.351918</td>\n",
              "      <td>112.892453</td>\n",
              "      <td>0.29</td>\n",
              "      <td>7207.92</td>\n",
              "      <td>36.0</td>\n",
              "      <td>NaN</td>\n",
              "      <td>mLVIVxoGY7TUDJ1FyFoSIZi1SFcaBmO01AydRchaEiGYtU...</td>\n",
              "      <td>65023.65</td>\n",
              "      <td>NaN</td>\n",
              "      <td>Ygq6MsM98oC8yceExr69Ig==</td>\n",
              "      <td>PjTIDfJsK0DKL9fO7vuW2g==</td>\n",
              "      <td>NCqL3QBx0pscDnx3ixKwXg==</td>\n",
              "      <td>mLVIVxoGY7TUDJ1FyFoSIZi1SFcaBmO01AydRchaEiGYtU...</td>\n",
              "      <td>n+xK9CfX0bCn77lClTWviw==</td>\n",
              "      <td>NaN</td>\n",
              "      <td>0.0</td>\n",
              "      <td>0.0</td>\n",
              "      <td>10.0</td>\n",
              "      <td>NaN</td>\n",
              "      <td>00:60:02</td>\n",
              "      <td>6</td>\n",
              "      <td>gmail.com</td>\n",
              "      <td>NaN</td>\n",
              "      <td>2</td>\n",
              "      <td>NaN</td>\n",
              "      <td>9.0</td>\n",
              "      <td>veralucia</td>\n",
              "      <td>65</td>\n",
              "      <td>(-28.748023890412284, -51.867279334353995)</td>\n",
              "      <td>Waiting-list</td>\n",
              "      <td>230-6097993</td>\n",
              "      <td>163679.0</td>\n",
              "      <td>BR-RR</td>\n",
              "      <td>50985</td>\n",
              "      <td>{'tags': ['n0', 'n17', 'nim', 'da']}</td>\n",
              "      <td>Mozilla/5.0 (Linux; Android 6.0.1; SGP771 Buil...</td>\n",
              "      <td>NaN</td>\n",
              "    </tr>\n",
              "    <tr>\n",
              "      <th>3</th>\n",
              "      <td>d235609e-b6cb-0ccc-a329-d4f12e7ebdc1</td>\n",
              "      <td>False</td>\n",
              "      <td>1Rk8w4Ucd5yR3KcqZzLdow==</td>\n",
              "      <td>dCm9hFKfdRm7ej3jW+gyxw==</td>\n",
              "      <td>510.0</td>\n",
              "      <td>101.599485</td>\n",
              "      <td>0.987673</td>\n",
              "      <td>94.902491</td>\n",
              "      <td>0.32</td>\n",
              "      <td>NaN</td>\n",
              "      <td>NaN</td>\n",
              "      <td>54591.0</td>\n",
              "      <td>mLVIVxoGY7TUDJ1FyFoSIZi1SFcaBmO01AydRchaEiGYtU...</td>\n",
              "      <td>68830.01</td>\n",
              "      <td>False</td>\n",
              "      <td>KET/Pmr6rHp1RJ/P9ymztw==</td>\n",
              "      <td>Cc/kWDLQH3dpHv5HU+pLVA==</td>\n",
              "      <td>NCqL3QBx0pscDnx3ixKwXg==</td>\n",
              "      <td>mLVIVxoGY7TUDJ1FyFoSIZi1SFcaBmO01AydRchaEiE56f...</td>\n",
              "      <td>n+xK9CfX0bCn77lClTWviw==</td>\n",
              "      <td>NaN</td>\n",
              "      <td>1.0</td>\n",
              "      <td>0.0</td>\n",
              "      <td>19.0</td>\n",
              "      <td>19.0</td>\n",
              "      <td>11:20:49</td>\n",
              "      <td>406</td>\n",
              "      <td>spgov.com</td>\n",
              "      <td>NaN</td>\n",
              "      <td>3</td>\n",
              "      <td>NaN</td>\n",
              "      <td>38.0</td>\n",
              "      <td>venice</td>\n",
              "      <td>815</td>\n",
              "      <td>(-17.520650158450454, -39.75801139933186)</td>\n",
              "      <td>Waiting-list</td>\n",
              "      <td>261-3543751</td>\n",
              "      <td>1086.0</td>\n",
              "      <td>BR-RN</td>\n",
              "      <td>37825</td>\n",
              "      <td>{'tags': ['n4']}</td>\n",
              "      <td>Mozilla/5.0 (Linux; Android 6.0; HTC One X10 B...</td>\n",
              "      <td>NaN</td>\n",
              "    </tr>\n",
              "    <tr>\n",
              "      <th>4</th>\n",
              "      <td>9e0eb880-e8f4-3faa-67d8-f5cdd2b3932b</td>\n",
              "      <td>False</td>\n",
              "      <td>8k8UDR4Yx0qasAjkGrUZLw==</td>\n",
              "      <td>+CxEO4w7jv3QPI/BQbyqAA==</td>\n",
              "      <td>500.0</td>\n",
              "      <td>98.474289</td>\n",
              "      <td>0.532539</td>\n",
              "      <td>118.126207</td>\n",
              "      <td>0.18</td>\n",
              "      <td>NaN</td>\n",
              "      <td>NaN</td>\n",
              "      <td>NaN</td>\n",
              "      <td>mLVIVxoGY7TUDJ1FyFoSIZi1SFcaBmO01AydRchaEiGYtU...</td>\n",
              "      <td>60011.29</td>\n",
              "      <td>True</td>\n",
              "      <td>xsd3ZdsI3356I3xMxZeiqQ==</td>\n",
              "      <td>i036nmJ7rfxo+3EvCD7Jnw==</td>\n",
              "      <td>NCqL3QBx0pscDnx3ixKwXg==</td>\n",
              "      <td>mLVIVxoGY7TUDJ1FyFoSIZi1SFcaBmO01AydRchaEiGYtU...</td>\n",
              "      <td>n+xK9CfX0bCn77lClTWviw==</td>\n",
              "      <td>NaN</td>\n",
              "      <td>0.0</td>\n",
              "      <td>0.0</td>\n",
              "      <td>11.0</td>\n",
              "      <td>NaN</td>\n",
              "      <td>13:39:03</td>\n",
              "      <td>240</td>\n",
              "      <td>gmail.com</td>\n",
              "      <td>0.0</td>\n",
              "      <td>2</td>\n",
              "      <td>1.0</td>\n",
              "      <td>46.0</td>\n",
              "      <td>darzisa</td>\n",
              "      <td>320</td>\n",
              "      <td>(-16.574259446978008, -39.90990074785962)</td>\n",
              "      <td>Invite-email</td>\n",
              "      <td>102-3660162</td>\n",
              "      <td>198618.0</td>\n",
              "      <td>BR-MT</td>\n",
              "      <td>52827</td>\n",
              "      <td>{'tags': ['pro+aty', 'n19', 'da', 'b19']}</td>\n",
              "      <td>Mozilla/5.0 (Linux; Android 7.0; Pixel C Build...</td>\n",
              "      <td>NaN</td>\n",
              "    </tr>\n",
              "  </tbody>\n",
              "</table>\n",
              "</div>"
            ],
            "text/plain": [
              "                                    ids target_default  \\\n",
              "0  343b7e7b-2cf8-e508-b8fd-0a0285af30aa          False   \n",
              "1  bc2c7502-bbad-0f8c-39c3-94e881967124          False   \n",
              "2  669630dd-2e6a-0396-84bf-455e5009c922           True   \n",
              "3  d235609e-b6cb-0ccc-a329-d4f12e7ebdc1          False   \n",
              "4  9e0eb880-e8f4-3faa-67d8-f5cdd2b3932b          False   \n",
              "\n",
              "                    score_1                   score_2  score_3     score_4  \\\n",
              "0  1Rk8w4Ucd5yR3KcqZzLdow==  IOVu8au3ISbo6+zmfnYwMg==    350.0  101.800832   \n",
              "1  DGCQep2AE5QRkNCshIAlFQ==  SaamrHMo23l/3TwXOWgVzw==    370.0   97.062615   \n",
              "2  DGCQep2AE5QRkNCshIAlFQ==  Fv28Bz0YRTVAT5kl1bAV6g==    360.0  100.027073   \n",
              "3  1Rk8w4Ucd5yR3KcqZzLdow==  dCm9hFKfdRm7ej3jW+gyxw==    510.0  101.599485   \n",
              "4  8k8UDR4Yx0qasAjkGrUZLw==  +CxEO4w7jv3QPI/BQbyqAA==    500.0   98.474289   \n",
              "\n",
              "    score_5     score_6  risk_rate  last_amount_borrowed  \\\n",
              "0  0.259555  108.427273       0.40              25033.92   \n",
              "1  0.942655   92.002546       0.24                   NaN   \n",
              "2  0.351918  112.892453       0.29               7207.92   \n",
              "3  0.987673   94.902491       0.32                   NaN   \n",
              "4  0.532539  118.126207       0.18                   NaN   \n",
              "\n",
              "   last_borrowed_in_months  credit_limit  \\\n",
              "0                     36.0           0.0   \n",
              "1                      NaN       39726.0   \n",
              "2                     36.0           NaN   \n",
              "3                      NaN       54591.0   \n",
              "4                      NaN           NaN   \n",
              "\n",
              "                                              reason     income  \\\n",
              "0  mLVIVxoGY7TUDJ1FyFoSIZi1SFcaBmO01AydRchaEiGYtU...   65014.12   \n",
              "1  mLVIVxoGY7TUDJ1FyFoSIZi1SFcaBmO01AydRchaEiGYtU...  100018.91   \n",
              "2  mLVIVxoGY7TUDJ1FyFoSIZi1SFcaBmO01AydRchaEiGYtU...   65023.65   \n",
              "3  mLVIVxoGY7TUDJ1FyFoSIZi1SFcaBmO01AydRchaEiGYtU...   68830.01   \n",
              "4  mLVIVxoGY7TUDJ1FyFoSIZi1SFcaBmO01AydRchaEiGYtU...   60011.29   \n",
              "\n",
              "  facebook_profile                     state                       zip  \\\n",
              "0             True  sjJbkqJS7cXalHLBFA+EOQ==  Ernn+uVXCMq/6ARrBCcd+A==   \n",
              "1            False  xsd3ZdsI3356I3xMxZeiqQ==  rlWIXTBO+VOa34+SpGyhlQ==   \n",
              "2              NaN  Ygq6MsM98oC8yceExr69Ig==  PjTIDfJsK0DKL9fO7vuW2g==   \n",
              "3            False  KET/Pmr6rHp1RJ/P9ymztw==  Cc/kWDLQH3dpHv5HU+pLVA==   \n",
              "4             True  xsd3ZdsI3356I3xMxZeiqQ==  i036nmJ7rfxo+3EvCD7Jnw==   \n",
              "\n",
              "                    channel  \\\n",
              "0  NCqL3QBx0pscDnx3ixKwXg==   \n",
              "1  NCqL3QBx0pscDnx3ixKwXg==   \n",
              "2  NCqL3QBx0pscDnx3ixKwXg==   \n",
              "3  NCqL3QBx0pscDnx3ixKwXg==   \n",
              "4  NCqL3QBx0pscDnx3ixKwXg==   \n",
              "\n",
              "                                            job_name  \\\n",
              "0  mLVIVxoGY7TUDJ1FyFoSIZi1SFcaBmO01AydRchaEiGYtU...   \n",
              "1  mLVIVxoGY7TUDJ1FyFoSIZi1SFcaBmO01AydRchaEiGYtU...   \n",
              "2  mLVIVxoGY7TUDJ1FyFoSIZi1SFcaBmO01AydRchaEiGYtU...   \n",
              "3  mLVIVxoGY7TUDJ1FyFoSIZi1SFcaBmO01AydRchaEiE56f...   \n",
              "4  mLVIVxoGY7TUDJ1FyFoSIZi1SFcaBmO01AydRchaEiGYtU...   \n",
              "\n",
              "                 real_state  ok_since  n_bankruptcies  n_defaulted_loans  \\\n",
              "0  N5/CE7lSkAfB04hVFFwllw==       NaN             0.0                0.0   \n",
              "1  N5/CE7lSkAfB04hVFFwllw==      50.0             0.0                0.0   \n",
              "2  n+xK9CfX0bCn77lClTWviw==       NaN             0.0                0.0   \n",
              "3  n+xK9CfX0bCn77lClTWviw==       NaN             1.0                0.0   \n",
              "4  n+xK9CfX0bCn77lClTWviw==       NaN             0.0                0.0   \n",
              "\n",
              "   n_accounts  n_issues application_time_applied  application_time_in_funnel  \\\n",
              "0        18.0      18.0                 07:52:34                         444   \n",
              "1        14.0      14.0                 02:34:29                         346   \n",
              "2        10.0       NaN                 00:60:02                           6   \n",
              "3        19.0      19.0                 11:20:49                         406   \n",
              "4        11.0       NaN                 13:39:03                         240   \n",
              "\n",
              "         email  external_data_provider_credit_checks_last_2_year  \\\n",
              "0  outlook.com                                               NaN   \n",
              "1    gmail.com                                               0.0   \n",
              "2    gmail.com                                               NaN   \n",
              "3    spgov.com                                               NaN   \n",
              "4    gmail.com                                               0.0   \n",
              "\n",
              "   external_data_provider_credit_checks_last_month  \\\n",
              "0                                                2   \n",
              "1                                                1   \n",
              "2                                                2   \n",
              "3                                                3   \n",
              "4                                                2   \n",
              "\n",
              "   external_data_provider_credit_checks_last_year  \\\n",
              "0                                             0.0   \n",
              "1                                             0.0   \n",
              "2                                             NaN   \n",
              "3                                             NaN   \n",
              "4                                             1.0   \n",
              "\n",
              "   external_data_provider_email_seen_before external_data_provider_first_name  \\\n",
              "0                                      51.0                        leidelaura   \n",
              "1                                      17.0                          diocezio   \n",
              "2                                       9.0                         veralucia   \n",
              "3                                      38.0                            venice   \n",
              "4                                      46.0                           darzisa   \n",
              "\n",
              "   external_data_provider_fraud_score  \\\n",
              "0                                 645   \n",
              "1                                 243   \n",
              "2                                  65   \n",
              "3                                 815   \n",
              "4                                 320   \n",
              "\n",
              "                                      lat_lon marketing_channel  \\\n",
              "0    (-29.151545708122246, -51.1386461804385)      Invite-email   \n",
              "1   (-19.687710705798963, -47.94151536525154)  Radio-commercial   \n",
              "2  (-28.748023890412284, -51.867279334353995)      Waiting-list   \n",
              "3   (-17.520650158450454, -39.75801139933186)      Waiting-list   \n",
              "4   (-16.574259446978008, -39.90990074785962)      Invite-email   \n",
              "\n",
              "  profile_phone_number  reported_income shipping_state  shipping_zip_code  \\\n",
              "0          514-9840782          57849.0          BR-MT              17528   \n",
              "1          251-3659293           4902.0          BR-RS              40933   \n",
              "2          230-6097993         163679.0          BR-RR              50985   \n",
              "3          261-3543751           1086.0          BR-RN              37825   \n",
              "4          102-3660162         198618.0          BR-MT              52827   \n",
              "\n",
              "                                profile_tags  \\\n",
              "0                    {'tags': ['n19', 'n8']}   \n",
              "1              {'tags': ['n6', 'n7', 'nim']}   \n",
              "2       {'tags': ['n0', 'n17', 'nim', 'da']}   \n",
              "3                           {'tags': ['n4']}   \n",
              "4  {'tags': ['pro+aty', 'n19', 'da', 'b19']}   \n",
              "\n",
              "                                          user_agent target_fraud  \n",
              "0  Mozilla/5.0 (Linux; Android 6.0.1; SGP771 Buil...          NaN  \n",
              "1  Mozilla/5.0 (Linux; Android 5.0.2; SAMSUNG SM-...          NaN  \n",
              "2  Mozilla/5.0 (Linux; Android 6.0.1; SGP771 Buil...          NaN  \n",
              "3  Mozilla/5.0 (Linux; Android 6.0; HTC One X10 B...          NaN  \n",
              "4  Mozilla/5.0 (Linux; Android 7.0; Pixel C Build...          NaN  "
            ]
          },
          "metadata": {
            "tags": []
          },
          "execution_count": 2
        }
      ]
    },
    {
      "cell_type": "markdown",
      "metadata": {
        "colab_type": "text",
        "id": "UskhkGT0S_ve"
      },
      "source": [
        "Pontos importantes:\n",
        "* Coluna `ids` identifica o usuario, passou por algum processo de descacterização. Pode ser descartada pois nao agrega na analise;\n",
        "* `target_default` é nossa variável alvo. \n",
        "* As colunas `[score_1, score_2]` estão codificadas, iremos verificar mais afrente se podemos extrair informações uteis. Já `[score_3, score_4, score_5 e score_6]` são numericas. Score são metricas que mostram qual a chance de determinado perfil de consumidores pagar as suas contas em dia.\n",
        "* Outras colunas como `['reason', 'state', 'zip', 'channel', 'job_name', 'real_state']` estão codificadas e também precisarão de alguma análise mais aprofundada para saber se é possível extrair alguma informação das mesmas.\n"
      ]
    },
    {
      "cell_type": "markdown",
      "metadata": {
        "colab_type": "text",
        "id": "bFV_srExS_vf"
      },
      "source": [
        "# Análise Exploratória de Dados"
      ]
    },
    {
      "cell_type": "markdown",
      "metadata": {
        "colab_type": "text",
        "id": "ZpjQoUw2S_vg"
      },
      "source": [
        "## Tamanho do dataset\n",
        "A primeira coisa que faremos após importar o dataset será examinar as dimensões do DataFrame e as primeiras entradas. Isso possibilitará criar uma consciência situacional inicial a respeito do formato de entrada e da estrutura geral dos dados.\n",
        "\n",
        "Em relação à dimensionalidade dos dados, nosso dataset é composto por 45000 entradas e 43 atributos."
      ]
    },
    {
      "cell_type": "code",
      "metadata": {
        "colab_type": "code",
        "id": "DgIZkR_WS_vh",
        "outputId": "66a3b2e2-5d97-4489-a25b-50bdc048ffca",
        "colab": {
          "base_uri": "https://localhost:8080/",
          "height": 68
        }
      },
      "source": [
        "print(\"TAMANHO DO DATASET\")\n",
        "print(f\"OBSERVATIONS:\\t {nu_df.shape[0]} \")\n",
        "print(f\"FEATURES:\\t {nu_df.shape[1]} \")"
      ],
      "execution_count": 3,
      "outputs": [
        {
          "output_type": "stream",
          "text": [
            "TAMANHO DO DATASET\n",
            "OBSERVATIONS:\t 45000 \n",
            "FEATURES:\t 43 \n"
          ],
          "name": "stdout"
        }
      ]
    },
    {
      "cell_type": "markdown",
      "metadata": {
        "colab_type": "text",
        "id": "gFPqKGVRS_vk"
      },
      "source": [
        "## Tipos dos dados\n",
        "Com o comando `nu_df.head()` é possivel ter uma noção inicial de como estão nossos dados(numéricos ou categóricos), mas nao é possivel inferir com certeza o seu tipo.\n",
        "\n",
        "Utilizando `nu_df.dtypes` vamos realizar o levantamento dos tipos de variáveis que compõem o DataFrame a fim de estabelecer a divisão entre as variáveis numéricas e as variáveis categóricas."
      ]
    },
    {
      "cell_type": "code",
      "metadata": {
        "colab_type": "code",
        "id": "j4VqAGg1S_vk",
        "outputId": "38dad00f-e550-4196-cb77-3ec1d7bf28f6",
        "colab": {
          "base_uri": "https://localhost:8080/",
          "height": 765
        }
      },
      "source": [
        "nu_df.dtypes.sort_values()"
      ],
      "execution_count": 4,
      "outputs": [
        {
          "output_type": "execute_result",
          "data": {
            "text/plain": [
              "external_data_provider_credit_checks_last_month       int64\n",
              "shipping_zip_code                                     int64\n",
              "external_data_provider_fraud_score                    int64\n",
              "application_time_in_funnel                            int64\n",
              "n_bankruptcies                                      float64\n",
              "n_issues                                            float64\n",
              "n_accounts                                          float64\n",
              "n_defaulted_loans                                   float64\n",
              "external_data_provider_credit_checks_last_year      float64\n",
              "ok_since                                            float64\n",
              "external_data_provider_email_seen_before            float64\n",
              "reported_income                                     float64\n",
              "income                                              float64\n",
              "last_borrowed_in_months                             float64\n",
              "last_amount_borrowed                                float64\n",
              "risk_rate                                           float64\n",
              "score_6                                             float64\n",
              "score_5                                             float64\n",
              "score_4                                             float64\n",
              "score_3                                             float64\n",
              "credit_limit                                        float64\n",
              "external_data_provider_credit_checks_last_2_year    float64\n",
              "profile_phone_number                                 object\n",
              "marketing_channel                                    object\n",
              "lat_lon                                              object\n",
              "external_data_provider_first_name                    object\n",
              "shipping_state                                       object\n",
              "profile_tags                                         object\n",
              "ids                                                  object\n",
              "application_time_applied                             object\n",
              "user_agent                                           object\n",
              "real_state                                           object\n",
              "job_name                                             object\n",
              "channel                                              object\n",
              "zip                                                  object\n",
              "state                                                object\n",
              "facebook_profile                                     object\n",
              "reason                                               object\n",
              "score_2                                              object\n",
              "score_1                                              object\n",
              "target_default                                       object\n",
              "email                                                object\n",
              "target_fraud                                         object\n",
              "dtype: object"
            ]
          },
          "metadata": {
            "tags": []
          },
          "execution_count": 4
        }
      ]
    },
    {
      "cell_type": "markdown",
      "metadata": {
        "colab_type": "text",
        "id": "vnBMefgES_vn"
      },
      "source": [
        "## Propriedades estatísticas do conjunto de dados\n",
        "O comando nu_df.describe() nos ajuda a visualizar as propriedades estatísticas de variáveis numéricas. Exclui variáveis categoricas.\n",
        "\n",
        "Imediatamente você obtém um resumo contendo algumas das principais informações estatísticas relevantes:\n",
        "\n",
        "* count - quantidade de entradas válidas\n",
        "* mean - média dos valores\n",
        "* std - desvio padrão\n",
        "* min - menor valor da coluna\n",
        "* 25% - (Q1) primeiro quartil 25\n",
        "* 50% - mediana\n",
        "* 75% - (Q3) terceiro quartil 75\n",
        "* max - maior valor da coluna\n",
        "\n",
        "Com método .describe() é possível identificar colunas com valores ausentes e possíveis outliers (por exemplo, olhando o valor da mediana e comparando com valores máximos e mínimos)"
      ]
    },
    {
      "cell_type": "code",
      "metadata": {
        "colab_type": "code",
        "id": "hhXUugwnS_vo",
        "outputId": "02649678-2caa-4921-fc26-3310a5db10eb",
        "scrolled": true,
        "colab": {
          "base_uri": "https://localhost:8080/",
          "height": 317
        }
      },
      "source": [
        "nu_df.describe()"
      ],
      "execution_count": 5,
      "outputs": [
        {
          "output_type": "execute_result",
          "data": {
            "text/html": [
              "<div>\n",
              "<style scoped>\n",
              "    .dataframe tbody tr th:only-of-type {\n",
              "        vertical-align: middle;\n",
              "    }\n",
              "\n",
              "    .dataframe tbody tr th {\n",
              "        vertical-align: top;\n",
              "    }\n",
              "\n",
              "    .dataframe thead th {\n",
              "        text-align: right;\n",
              "    }\n",
              "</style>\n",
              "<table border=\"1\" class=\"dataframe\">\n",
              "  <thead>\n",
              "    <tr style=\"text-align: right;\">\n",
              "      <th></th>\n",
              "      <th>score_3</th>\n",
              "      <th>score_4</th>\n",
              "      <th>score_5</th>\n",
              "      <th>score_6</th>\n",
              "      <th>risk_rate</th>\n",
              "      <th>last_amount_borrowed</th>\n",
              "      <th>last_borrowed_in_months</th>\n",
              "      <th>credit_limit</th>\n",
              "      <th>income</th>\n",
              "      <th>ok_since</th>\n",
              "      <th>n_bankruptcies</th>\n",
              "      <th>n_defaulted_loans</th>\n",
              "      <th>n_accounts</th>\n",
              "      <th>n_issues</th>\n",
              "      <th>application_time_in_funnel</th>\n",
              "      <th>external_data_provider_credit_checks_last_2_year</th>\n",
              "      <th>external_data_provider_credit_checks_last_month</th>\n",
              "      <th>external_data_provider_credit_checks_last_year</th>\n",
              "      <th>external_data_provider_email_seen_before</th>\n",
              "      <th>external_data_provider_fraud_score</th>\n",
              "      <th>reported_income</th>\n",
              "      <th>shipping_zip_code</th>\n",
              "    </tr>\n",
              "  </thead>\n",
              "  <tbody>\n",
              "    <tr>\n",
              "      <th>count</th>\n",
              "      <td>44438.000000</td>\n",
              "      <td>45000.000000</td>\n",
              "      <td>45000.000000</td>\n",
              "      <td>45000.000000</td>\n",
              "      <td>44438.000000</td>\n",
              "      <td>15044.000000</td>\n",
              "      <td>15044.000000</td>\n",
              "      <td>31200.000000</td>\n",
              "      <td>4.443800e+04</td>\n",
              "      <td>18455.000000</td>\n",
              "      <td>44303.000000</td>\n",
              "      <td>44426.000000</td>\n",
              "      <td>44438.000000</td>\n",
              "      <td>33456.000000</td>\n",
              "      <td>45000.000000</td>\n",
              "      <td>22372.0</td>\n",
              "      <td>45000.000000</td>\n",
              "      <td>29876.000000</td>\n",
              "      <td>42767.000000</td>\n",
              "      <td>45000.000000</td>\n",
              "      <td>45000.00</td>\n",
              "      <td>45000.000000</td>\n",
              "    </tr>\n",
              "    <tr>\n",
              "      <th>mean</th>\n",
              "      <td>347.983258</td>\n",
              "      <td>100.006797</td>\n",
              "      <td>0.500037</td>\n",
              "      <td>99.925228</td>\n",
              "      <td>0.296717</td>\n",
              "      <td>13782.341991</td>\n",
              "      <td>41.763893</td>\n",
              "      <td>34381.951154</td>\n",
              "      <td>7.160739e+04</td>\n",
              "      <td>35.069737</td>\n",
              "      <td>0.076270</td>\n",
              "      <td>0.004569</td>\n",
              "      <td>10.696701</td>\n",
              "      <td>11.068119</td>\n",
              "      <td>247.537000</td>\n",
              "      <td>0.0</td>\n",
              "      <td>1.501067</td>\n",
              "      <td>0.503381</td>\n",
              "      <td>12.534781</td>\n",
              "      <td>500.399800</td>\n",
              "      <td>inf</td>\n",
              "      <td>33923.514844</td>\n",
              "    </tr>\n",
              "    <tr>\n",
              "      <th>std</th>\n",
              "      <td>110.429165</td>\n",
              "      <td>3.178080</td>\n",
              "      <td>0.288326</td>\n",
              "      <td>10.016549</td>\n",
              "      <td>0.101933</td>\n",
              "      <td>8077.571933</td>\n",
              "      <td>10.252705</td>\n",
              "      <td>36586.982218</td>\n",
              "      <td>5.185897e+04</td>\n",
              "      <td>21.663194</td>\n",
              "      <td>0.274052</td>\n",
              "      <td>0.079400</td>\n",
              "      <td>4.592463</td>\n",
              "      <td>4.595501</td>\n",
              "      <td>146.118398</td>\n",
              "      <td>0.0</td>\n",
              "      <td>1.114941</td>\n",
              "      <td>0.499997</td>\n",
              "      <td>126.530487</td>\n",
              "      <td>287.968873</td>\n",
              "      <td>NaN</td>\n",
              "      <td>12692.406382</td>\n",
              "    </tr>\n",
              "    <tr>\n",
              "      <th>min</th>\n",
              "      <td>0.000000</td>\n",
              "      <td>86.191572</td>\n",
              "      <td>0.000035</td>\n",
              "      <td>60.663039</td>\n",
              "      <td>0.000000</td>\n",
              "      <td>1005.180000</td>\n",
              "      <td>36.000000</td>\n",
              "      <td>0.000000</td>\n",
              "      <td>4.821180e+03</td>\n",
              "      <td>0.000000</td>\n",
              "      <td>0.000000</td>\n",
              "      <td>0.000000</td>\n",
              "      <td>0.000000</td>\n",
              "      <td>0.000000</td>\n",
              "      <td>0.000000</td>\n",
              "      <td>0.0</td>\n",
              "      <td>0.000000</td>\n",
              "      <td>0.000000</td>\n",
              "      <td>-999.000000</td>\n",
              "      <td>0.000000</td>\n",
              "      <td>403.00</td>\n",
              "      <td>12001.000000</td>\n",
              "    </tr>\n",
              "    <tr>\n",
              "      <th>25%</th>\n",
              "      <td>270.000000</td>\n",
              "      <td>97.867036</td>\n",
              "      <td>0.252150</td>\n",
              "      <td>93.198353</td>\n",
              "      <td>0.220000</td>\n",
              "      <td>7519.502500</td>\n",
              "      <td>36.000000</td>\n",
              "      <td>10000.000000</td>\n",
              "      <td>4.501078e+04</td>\n",
              "      <td>17.000000</td>\n",
              "      <td>0.000000</td>\n",
              "      <td>0.000000</td>\n",
              "      <td>7.000000</td>\n",
              "      <td>8.000000</td>\n",
              "      <td>120.000000</td>\n",
              "      <td>0.0</td>\n",
              "      <td>1.000000</td>\n",
              "      <td>0.000000</td>\n",
              "      <td>11.000000</td>\n",
              "      <td>252.000000</td>\n",
              "      <td>50948.25</td>\n",
              "      <td>22937.000000</td>\n",
              "    </tr>\n",
              "    <tr>\n",
              "      <th>50%</th>\n",
              "      <td>340.000000</td>\n",
              "      <td>100.018900</td>\n",
              "      <td>0.500753</td>\n",
              "      <td>99.974796</td>\n",
              "      <td>0.290000</td>\n",
              "      <td>12023.465000</td>\n",
              "      <td>36.000000</td>\n",
              "      <td>25647.000000</td>\n",
              "      <td>6.126676e+04</td>\n",
              "      <td>32.000000</td>\n",
              "      <td>0.000000</td>\n",
              "      <td>0.000000</td>\n",
              "      <td>10.000000</td>\n",
              "      <td>10.000000</td>\n",
              "      <td>248.000000</td>\n",
              "      <td>0.0</td>\n",
              "      <td>2.000000</td>\n",
              "      <td>1.000000</td>\n",
              "      <td>27.000000</td>\n",
              "      <td>503.000000</td>\n",
              "      <td>101779.00</td>\n",
              "      <td>33896.000000</td>\n",
              "    </tr>\n",
              "    <tr>\n",
              "      <th>75%</th>\n",
              "      <td>420.000000</td>\n",
              "      <td>102.141797</td>\n",
              "      <td>0.748816</td>\n",
              "      <td>106.640275</td>\n",
              "      <td>0.360000</td>\n",
              "      <td>19220.270000</td>\n",
              "      <td>36.000000</td>\n",
              "      <td>47086.750000</td>\n",
              "      <td>8.601923e+04</td>\n",
              "      <td>50.000000</td>\n",
              "      <td>0.000000</td>\n",
              "      <td>0.000000</td>\n",
              "      <td>13.000000</td>\n",
              "      <td>14.000000</td>\n",
              "      <td>375.000000</td>\n",
              "      <td>0.0</td>\n",
              "      <td>2.000000</td>\n",
              "      <td>1.000000</td>\n",
              "      <td>43.000000</td>\n",
              "      <td>747.000000</td>\n",
              "      <td>151337.25</td>\n",
              "      <td>44910.000000</td>\n",
              "    </tr>\n",
              "    <tr>\n",
              "      <th>max</th>\n",
              "      <td>990.000000</td>\n",
              "      <td>113.978234</td>\n",
              "      <td>0.999973</td>\n",
              "      <td>142.192400</td>\n",
              "      <td>0.900000</td>\n",
              "      <td>35059.600000</td>\n",
              "      <td>60.000000</td>\n",
              "      <td>448269.000000</td>\n",
              "      <td>5.000028e+06</td>\n",
              "      <td>141.000000</td>\n",
              "      <td>5.000000</td>\n",
              "      <td>5.000000</td>\n",
              "      <td>49.000000</td>\n",
              "      <td>49.000000</td>\n",
              "      <td>500.000000</td>\n",
              "      <td>0.0</td>\n",
              "      <td>3.000000</td>\n",
              "      <td>1.000000</td>\n",
              "      <td>59.000000</td>\n",
              "      <td>1000.000000</td>\n",
              "      <td>inf</td>\n",
              "      <td>56000.000000</td>\n",
              "    </tr>\n",
              "  </tbody>\n",
              "</table>\n",
              "</div>"
            ],
            "text/plain": [
              "            score_3       score_4       score_5       score_6     risk_rate  \\\n",
              "count  44438.000000  45000.000000  45000.000000  45000.000000  44438.000000   \n",
              "mean     347.983258    100.006797      0.500037     99.925228      0.296717   \n",
              "std      110.429165      3.178080      0.288326     10.016549      0.101933   \n",
              "min        0.000000     86.191572      0.000035     60.663039      0.000000   \n",
              "25%      270.000000     97.867036      0.252150     93.198353      0.220000   \n",
              "50%      340.000000    100.018900      0.500753     99.974796      0.290000   \n",
              "75%      420.000000    102.141797      0.748816    106.640275      0.360000   \n",
              "max      990.000000    113.978234      0.999973    142.192400      0.900000   \n",
              "\n",
              "       last_amount_borrowed  last_borrowed_in_months   credit_limit  \\\n",
              "count          15044.000000             15044.000000   31200.000000   \n",
              "mean           13782.341991                41.763893   34381.951154   \n",
              "std             8077.571933                10.252705   36586.982218   \n",
              "min             1005.180000                36.000000       0.000000   \n",
              "25%             7519.502500                36.000000   10000.000000   \n",
              "50%            12023.465000                36.000000   25647.000000   \n",
              "75%            19220.270000                36.000000   47086.750000   \n",
              "max            35059.600000                60.000000  448269.000000   \n",
              "\n",
              "             income      ok_since  n_bankruptcies  n_defaulted_loans  \\\n",
              "count  4.443800e+04  18455.000000    44303.000000       44426.000000   \n",
              "mean   7.160739e+04     35.069737        0.076270           0.004569   \n",
              "std    5.185897e+04     21.663194        0.274052           0.079400   \n",
              "min    4.821180e+03      0.000000        0.000000           0.000000   \n",
              "25%    4.501078e+04     17.000000        0.000000           0.000000   \n",
              "50%    6.126676e+04     32.000000        0.000000           0.000000   \n",
              "75%    8.601923e+04     50.000000        0.000000           0.000000   \n",
              "max    5.000028e+06    141.000000        5.000000           5.000000   \n",
              "\n",
              "         n_accounts      n_issues  application_time_in_funnel  \\\n",
              "count  44438.000000  33456.000000                45000.000000   \n",
              "mean      10.696701     11.068119                  247.537000   \n",
              "std        4.592463      4.595501                  146.118398   \n",
              "min        0.000000      0.000000                    0.000000   \n",
              "25%        7.000000      8.000000                  120.000000   \n",
              "50%       10.000000     10.000000                  248.000000   \n",
              "75%       13.000000     14.000000                  375.000000   \n",
              "max       49.000000     49.000000                  500.000000   \n",
              "\n",
              "       external_data_provider_credit_checks_last_2_year  \\\n",
              "count                                           22372.0   \n",
              "mean                                                0.0   \n",
              "std                                                 0.0   \n",
              "min                                                 0.0   \n",
              "25%                                                 0.0   \n",
              "50%                                                 0.0   \n",
              "75%                                                 0.0   \n",
              "max                                                 0.0   \n",
              "\n",
              "       external_data_provider_credit_checks_last_month  \\\n",
              "count                                     45000.000000   \n",
              "mean                                          1.501067   \n",
              "std                                           1.114941   \n",
              "min                                           0.000000   \n",
              "25%                                           1.000000   \n",
              "50%                                           2.000000   \n",
              "75%                                           2.000000   \n",
              "max                                           3.000000   \n",
              "\n",
              "       external_data_provider_credit_checks_last_year  \\\n",
              "count                                    29876.000000   \n",
              "mean                                         0.503381   \n",
              "std                                          0.499997   \n",
              "min                                          0.000000   \n",
              "25%                                          0.000000   \n",
              "50%                                          1.000000   \n",
              "75%                                          1.000000   \n",
              "max                                          1.000000   \n",
              "\n",
              "       external_data_provider_email_seen_before  \\\n",
              "count                              42767.000000   \n",
              "mean                                  12.534781   \n",
              "std                                  126.530487   \n",
              "min                                 -999.000000   \n",
              "25%                                   11.000000   \n",
              "50%                                   27.000000   \n",
              "75%                                   43.000000   \n",
              "max                                   59.000000   \n",
              "\n",
              "       external_data_provider_fraud_score  reported_income  shipping_zip_code  \n",
              "count                        45000.000000         45000.00       45000.000000  \n",
              "mean                           500.399800              inf       33923.514844  \n",
              "std                            287.968873              NaN       12692.406382  \n",
              "min                              0.000000           403.00       12001.000000  \n",
              "25%                            252.000000         50948.25       22937.000000  \n",
              "50%                            503.000000        101779.00       33896.000000  \n",
              "75%                            747.000000        151337.25       44910.000000  \n",
              "max                           1000.000000              inf       56000.000000  "
            ]
          },
          "metadata": {
            "tags": []
          },
          "execution_count": 5
        }
      ]
    },
    {
      "cell_type": "markdown",
      "metadata": {
        "colab_type": "text",
        "id": "sMuW00WdS_vr"
      },
      "source": [
        "conclusões:\n",
        "* A coluna`external_data_provider_credit_checks_last_2_year` possui valores iguais a zero.\n",
        "* A coluna `external_data_provider_email_seen_before` possui um valor min de -999. Isso pode indicar *outliers* ou foi tratado de forma incorreta. Vamos trata-lo subtituindo esses valores -999 por np.nan\n",
        "* A coluna `reported_income` apresenta valores inf(infinito), os mesmo interfere nos nossos modelos, entao iremos trata-lo mais a frente tambem"
      ]
    },
    {
      "cell_type": "markdown",
      "metadata": {
        "colab_type": "text",
        "id": "81Z1p8OAS_vs"
      },
      "source": [
        "## Valores Ausentes\n",
        "Um passo importante na análise de dados é verificação de dados ausentes, isso porque a qualidade de um dataset está diretamente relacionada à quantidade de valores ausentes. É importante entender logo no início se esses valores nulos são significativos comparados ao total de entradas. Caso eles sejam significativos será necessario um tratamento nos dados.\n",
        "\n",
        "Temos duas formas de realizar essa leitura:\n",
        "\n",
        "O comando `nu_df.info()` nos fornece um relatorio mais completo:\n",
        " * Como o número de valores preenchidos junto com os tipos de dados das colunas.\n",
        " * A quantidade desses tipos de dados\n",
        " * Quanto de memoria esta sendo consumida\n",
        " \n",
        "O comando `nu_df.isnull().sum()` retorna o numero total de valores nulos para cada coluna do nosso DataFrame"
      ]
    },
    {
      "cell_type": "code",
      "metadata": {
        "colab_type": "code",
        "id": "fM4HLDYkS_vs",
        "outputId": "42b0b400-bb1e-4d08-f07f-ae9429e5d0d7",
        "colab": {
          "base_uri": "https://localhost:8080/",
          "height": 833
        }
      },
      "source": [
        "nu_df.info()"
      ],
      "execution_count": 6,
      "outputs": [
        {
          "output_type": "stream",
          "text": [
            "<class 'pandas.core.frame.DataFrame'>\n",
            "RangeIndex: 45000 entries, 0 to 44999\n",
            "Data columns (total 43 columns):\n",
            "ids                                                 45000 non-null object\n",
            "target_default                                      41741 non-null object\n",
            "score_1                                             44438 non-null object\n",
            "score_2                                             44438 non-null object\n",
            "score_3                                             44438 non-null float64\n",
            "score_4                                             45000 non-null float64\n",
            "score_5                                             45000 non-null float64\n",
            "score_6                                             45000 non-null float64\n",
            "risk_rate                                           44438 non-null float64\n",
            "last_amount_borrowed                                15044 non-null float64\n",
            "last_borrowed_in_months                             15044 non-null float64\n",
            "credit_limit                                        31200 non-null float64\n",
            "reason                                              44434 non-null object\n",
            "income                                              44438 non-null float64\n",
            "facebook_profile                                    40542 non-null object\n",
            "state                                               44438 non-null object\n",
            "zip                                                 44438 non-null object\n",
            "channel                                             44438 non-null object\n",
            "job_name                                            41664 non-null object\n",
            "real_state                                          44438 non-null object\n",
            "ok_since                                            18455 non-null float64\n",
            "n_bankruptcies                                      44303 non-null float64\n",
            "n_defaulted_loans                                   44426 non-null float64\n",
            "n_accounts                                          44438 non-null float64\n",
            "n_issues                                            33456 non-null float64\n",
            "application_time_applied                            45000 non-null object\n",
            "application_time_in_funnel                          45000 non-null int64\n",
            "email                                               45000 non-null object\n",
            "external_data_provider_credit_checks_last_2_year    22372 non-null float64\n",
            "external_data_provider_credit_checks_last_month     45000 non-null int64\n",
            "external_data_provider_credit_checks_last_year      29876 non-null float64\n",
            "external_data_provider_email_seen_before            42767 non-null float64\n",
            "external_data_provider_first_name                   45000 non-null object\n",
            "external_data_provider_fraud_score                  45000 non-null int64\n",
            "lat_lon                                             43637 non-null object\n",
            "marketing_channel                                   41422 non-null object\n",
            "profile_phone_number                                45000 non-null object\n",
            "reported_income                                     45000 non-null float64\n",
            "shipping_state                                      45000 non-null object\n",
            "shipping_zip_code                                   45000 non-null int64\n",
            "profile_tags                                        45000 non-null object\n",
            "user_agent                                          44278 non-null object\n",
            "target_fraud                                        1522 non-null object\n",
            "dtypes: float64(18), int64(4), object(21)\n",
            "memory usage: 14.8+ MB\n"
          ],
          "name": "stdout"
        }
      ]
    },
    {
      "cell_type": "code",
      "metadata": {
        "colab_type": "code",
        "id": "k32hpbvQS_vx",
        "outputId": "0ac3ea46-8a4e-49da-e1ba-5001ad139034",
        "colab": {
          "base_uri": "https://localhost:8080/",
          "height": 799
        }
      },
      "source": [
        "print(\"Porcentagem de valores nulos:\")\n",
        "print(f\"\\n{round((nu_df.isnull().sum()/nu_df.shape[0]).sort_values(ascending=False),3)}\")"
      ],
      "execution_count": 7,
      "outputs": [
        {
          "output_type": "stream",
          "text": [
            "Porcentagem de valores nulos:\n",
            "\n",
            "target_fraud                                        0.966\n",
            "last_amount_borrowed                                0.666\n",
            "last_borrowed_in_months                             0.666\n",
            "ok_since                                            0.590\n",
            "external_data_provider_credit_checks_last_2_year    0.503\n",
            "external_data_provider_credit_checks_last_year      0.336\n",
            "credit_limit                                        0.307\n",
            "n_issues                                            0.257\n",
            "facebook_profile                                    0.099\n",
            "marketing_channel                                   0.080\n",
            "job_name                                            0.074\n",
            "target_default                                      0.072\n",
            "external_data_provider_email_seen_before            0.050\n",
            "lat_lon                                             0.030\n",
            "user_agent                                          0.016\n",
            "n_bankruptcies                                      0.015\n",
            "n_defaulted_loans                                   0.013\n",
            "reason                                              0.013\n",
            "income                                              0.012\n",
            "real_state                                          0.012\n",
            "state                                               0.012\n",
            "zip                                                 0.012\n",
            "channel                                             0.012\n",
            "score_3                                             0.012\n",
            "score_2                                             0.012\n",
            "score_1                                             0.012\n",
            "n_accounts                                          0.012\n",
            "risk_rate                                           0.012\n",
            "shipping_zip_code                                   0.000\n",
            "score_4                                             0.000\n",
            "score_5                                             0.000\n",
            "profile_tags                                        0.000\n",
            "score_6                                             0.000\n",
            "application_time_in_funnel                          0.000\n",
            "shipping_state                                      0.000\n",
            "reported_income                                     0.000\n",
            "application_time_applied                            0.000\n",
            "profile_phone_number                                0.000\n",
            "external_data_provider_fraud_score                  0.000\n",
            "external_data_provider_first_name                   0.000\n",
            "external_data_provider_credit_checks_last_month     0.000\n",
            "email                                               0.000\n",
            "ids                                                 0.000\n",
            "dtype: float64\n"
          ],
          "name": "stdout"
        }
      ]
    },
    {
      "cell_type": "markdown",
      "metadata": {
        "colab_type": "text",
        "id": "0RT3pP9yS_v0"
      },
      "source": [
        "Pontos levantados:\n",
        "* Nosso pior caso é a variavel `target_fraud`, com mais de 90% dos dados ausentes. Como ela não interfere na nossa analise pode ser descartada\n",
        "* Outras variaveis como `'last_amount_borrowed', 'last_borrowed_in_months', 'ok_since'` e `external_data_provider_credit_checks_last_2_year'` apresentam mais de 50% dos dados ausentes.\n",
        "* As variáveis `'external_data_provider_credit_checks_last_year', 'credit_limit', 'n_issues'` possuem de 25%-33%\n",
        "\n",
        "Nossa variável alvo `targer_default` apresenta dados ausentes que serao eliminados no precesso da limpeza dos dados. As demais discutiremos mais a frente."
      ]
    },
    {
      "cell_type": "markdown",
      "metadata": {
        "colab_type": "text",
        "id": "P1k1r1CuS_v0"
      },
      "source": [
        "## Visualização variavel alvo `target_default`"
      ]
    },
    {
      "cell_type": "code",
      "metadata": {
        "colab_type": "code",
        "id": "B5lvFX0qS_v1",
        "outputId": "394ebcd7-fe34-44bc-b25b-727e15876b5f",
        "colab": {
          "base_uri": "https://localhost:8080/",
          "height": 472
        }
      },
      "source": [
        "fig, ax = plt.subplots(figsize=(10, 6))\n",
        "\n",
        "ax = sns.countplot(nu_df.target_default, data=nu_df)\n",
        "ax.set_title(\"Distribuição de Inadimplentes\")\n",
        "ax.set_xlabel(\"Valor\")\n",
        "ax.set_ylabel(\"Contagem\")\n",
        "plt.show()\n",
        "\n",
        "print(\"Proporção de inadimplentes no dataset (%)\")\n",
        "print(f\"{nu_df.target_default.value_counts()/ nu_df.shape[0]}\")"
      ],
      "execution_count": 8,
      "outputs": [
        {
          "output_type": "display_data",
          "data": {
            "image/png": "[encoded data removed]",
            "text/plain": [
              "<Figure size 720x432 with 1 Axes>"
            ]
          },
          "metadata": {
            "tags": []
          }
        },
        {
          "output_type": "stream",
          "text": [
            "Proporção de inadimplentes no dataset (%)\n",
            "False    0.779556\n",
            "True     0.148022\n",
            "Name: target_default, dtype: float64\n"
          ],
          "name": "stdout"
        }
      ]
    },
    {
      "cell_type": "markdown",
      "metadata": {
        "id": "TUd7fh71bYa0",
        "colab_type": "text"
      },
      "source": [
        "Nosso gráfico mostra o desbalancemento do nosso dataset"
      ]
    },
    {
      "cell_type": "markdown",
      "metadata": {
        "colab_type": "text",
        "id": "qEDRZGioS_v4"
      },
      "source": [
        "# Limpeza dos Dados\n",
        "A limpeza de dados é uma daquelas coisas que todos fazem, mas sobre a qual ninguém realmente fala. Na verdade, se você tiver um conjunto de dados devidamente limpo, até mesmo algoritmos simples podem aprender insights impressionantes com os dados!\n",
        "\n",
        "Antes de realizar qualquer operação no dataset é bom criar uma cópia do mesmo, salvaguardando os dados originais. Assim podemos prosseguir com nossa limpeza que foram levantadas:\n",
        "* Substituir os dados `np.inf` por `np.nan` na variavel `'reported_income'` \n",
        "* Substituir os dados -999 por `np.nan` na variavel `'external_data_provider_email_seen_before'`\n",
        "* Descartar as colunas que não agregam valor as nossas analises ou demandam mais pesquisas\n",
        "* Descartar entradas onde `'target_default'` é nula"
      ]
    },
    {
      "cell_type": "code",
      "metadata": {
        "colab_type": "code",
        "id": "vNJd-gLxS_v4",
        "colab": {}
      },
      "source": [
        "# copia do dataset original\n",
        "nu_clean = nu_df.copy()\n",
        "\n",
        "# substituir inf por nan em reported_income\n",
        "nu_clean['reported_income'] = nu_clean['reported_income'].replace(np.inf,\n",
        "                                                                  np.nan)\n",
        "\n",
        "#  substituir -999 em external_data_provider_email_seen_before por NaN\n",
        "nu_clean.loc[nu_clean['external_data_provider_email_seen_before'] == -999.0,\n",
        "             'external_data_provider_email_seen_before'] = np.nan\n",
        "\n",
        "# descartar as colunas ids, target_fraud,\n",
        "# external_data_provider_credit_checks_last_2_year e channel\n",
        "nu_clean.drop(labels=['ids', 'target_fraud',\n",
        "                      'external_data_provider_credit_checks_last_2_year',\n",
        "                      'channel'], \n",
        "              axis=1,\n",
        "              inplace=True)\n",
        "\n",
        "# elminar colunas sem informação aparente ou que demandam mais pesquisa\n",
        "drop_var = ['reason', 'zip', 'job_name', 'external_data_provider_first_name',\n",
        "            'lat_lon', 'shipping_zip_code', 'user_agent', 'profile_tags',\n",
        "            'application_time_applied', 'email', 'marketing_channel',\n",
        "            'profile_phone_number', 'shipping_state']\n",
        "\n",
        "nu_clean.drop(labels=drop_var, axis=1, inplace=True)\n",
        "\n",
        "# elminar as entradas onde target_default é NaN\n",
        "nu_clean.dropna(subset=['target_default'], inplace=True)"
      ],
      "execution_count": 0,
      "outputs": []
    },
    {
      "cell_type": "markdown",
      "metadata": {
        "colab_type": "text",
        "id": "GtlpqWvMS_v7"
      },
      "source": [
        "Vamos verificar como ficou nosso novo dataset."
      ]
    },
    {
      "cell_type": "code",
      "metadata": {
        "colab_type": "code",
        "id": "KKMgIF5hS_v8",
        "outputId": "8cab14fc-95ad-4143-c485-c4fb18db2f06",
        "colab": {
          "base_uri": "https://localhost:8080/",
          "height": 224
        }
      },
      "source": [
        "nu_clean.head()"
      ],
      "execution_count": 10,
      "outputs": [
        {
          "output_type": "execute_result",
          "data": {
            "text/html": [
              "<div>\n",
              "<style scoped>\n",
              "    .dataframe tbody tr th:only-of-type {\n",
              "        vertical-align: middle;\n",
              "    }\n",
              "\n",
              "    .dataframe tbody tr th {\n",
              "        vertical-align: top;\n",
              "    }\n",
              "\n",
              "    .dataframe thead th {\n",
              "        text-align: right;\n",
              "    }\n",
              "</style>\n",
              "<table border=\"1\" class=\"dataframe\">\n",
              "  <thead>\n",
              "    <tr style=\"text-align: right;\">\n",
              "      <th></th>\n",
              "      <th>target_default</th>\n",
              "      <th>score_1</th>\n",
              "      <th>score_2</th>\n",
              "      <th>score_3</th>\n",
              "      <th>score_4</th>\n",
              "      <th>score_5</th>\n",
              "      <th>score_6</th>\n",
              "      <th>risk_rate</th>\n",
              "      <th>last_amount_borrowed</th>\n",
              "      <th>last_borrowed_in_months</th>\n",
              "      <th>credit_limit</th>\n",
              "      <th>income</th>\n",
              "      <th>facebook_profile</th>\n",
              "      <th>state</th>\n",
              "      <th>real_state</th>\n",
              "      <th>ok_since</th>\n",
              "      <th>n_bankruptcies</th>\n",
              "      <th>n_defaulted_loans</th>\n",
              "      <th>n_accounts</th>\n",
              "      <th>n_issues</th>\n",
              "      <th>application_time_in_funnel</th>\n",
              "      <th>external_data_provider_credit_checks_last_month</th>\n",
              "      <th>external_data_provider_credit_checks_last_year</th>\n",
              "      <th>external_data_provider_email_seen_before</th>\n",
              "      <th>external_data_provider_fraud_score</th>\n",
              "      <th>reported_income</th>\n",
              "    </tr>\n",
              "  </thead>\n",
              "  <tbody>\n",
              "    <tr>\n",
              "      <th>0</th>\n",
              "      <td>False</td>\n",
              "      <td>1Rk8w4Ucd5yR3KcqZzLdow==</td>\n",
              "      <td>IOVu8au3ISbo6+zmfnYwMg==</td>\n",
              "      <td>350.0</td>\n",
              "      <td>101.800832</td>\n",
              "      <td>0.259555</td>\n",
              "      <td>108.427273</td>\n",
              "      <td>0.40</td>\n",
              "      <td>25033.92</td>\n",
              "      <td>36.0</td>\n",
              "      <td>0.0</td>\n",
              "      <td>65014.12</td>\n",
              "      <td>True</td>\n",
              "      <td>sjJbkqJS7cXalHLBFA+EOQ==</td>\n",
              "      <td>N5/CE7lSkAfB04hVFFwllw==</td>\n",
              "      <td>NaN</td>\n",
              "      <td>0.0</td>\n",
              "      <td>0.0</td>\n",
              "      <td>18.0</td>\n",
              "      <td>18.0</td>\n",
              "      <td>444</td>\n",
              "      <td>2</td>\n",
              "      <td>0.0</td>\n",
              "      <td>51.0</td>\n",
              "      <td>645</td>\n",
              "      <td>57849.0</td>\n",
              "    </tr>\n",
              "    <tr>\n",
              "      <th>1</th>\n",
              "      <td>False</td>\n",
              "      <td>DGCQep2AE5QRkNCshIAlFQ==</td>\n",
              "      <td>SaamrHMo23l/3TwXOWgVzw==</td>\n",
              "      <td>370.0</td>\n",
              "      <td>97.062615</td>\n",
              "      <td>0.942655</td>\n",
              "      <td>92.002546</td>\n",
              "      <td>0.24</td>\n",
              "      <td>NaN</td>\n",
              "      <td>NaN</td>\n",
              "      <td>39726.0</td>\n",
              "      <td>100018.91</td>\n",
              "      <td>False</td>\n",
              "      <td>xsd3ZdsI3356I3xMxZeiqQ==</td>\n",
              "      <td>N5/CE7lSkAfB04hVFFwllw==</td>\n",
              "      <td>50.0</td>\n",
              "      <td>0.0</td>\n",
              "      <td>0.0</td>\n",
              "      <td>14.0</td>\n",
              "      <td>14.0</td>\n",
              "      <td>346</td>\n",
              "      <td>1</td>\n",
              "      <td>0.0</td>\n",
              "      <td>17.0</td>\n",
              "      <td>243</td>\n",
              "      <td>4902.0</td>\n",
              "    </tr>\n",
              "    <tr>\n",
              "      <th>2</th>\n",
              "      <td>True</td>\n",
              "      <td>DGCQep2AE5QRkNCshIAlFQ==</td>\n",
              "      <td>Fv28Bz0YRTVAT5kl1bAV6g==</td>\n",
              "      <td>360.0</td>\n",
              "      <td>100.027073</td>\n",
              "      <td>0.351918</td>\n",
              "      <td>112.892453</td>\n",
              "      <td>0.29</td>\n",
              "      <td>7207.92</td>\n",
              "      <td>36.0</td>\n",
              "      <td>NaN</td>\n",
              "      <td>65023.65</td>\n",
              "      <td>NaN</td>\n",
              "      <td>Ygq6MsM98oC8yceExr69Ig==</td>\n",
              "      <td>n+xK9CfX0bCn77lClTWviw==</td>\n",
              "      <td>NaN</td>\n",
              "      <td>0.0</td>\n",
              "      <td>0.0</td>\n",
              "      <td>10.0</td>\n",
              "      <td>NaN</td>\n",
              "      <td>6</td>\n",
              "      <td>2</td>\n",
              "      <td>NaN</td>\n",
              "      <td>9.0</td>\n",
              "      <td>65</td>\n",
              "      <td>163679.0</td>\n",
              "    </tr>\n",
              "    <tr>\n",
              "      <th>3</th>\n",
              "      <td>False</td>\n",
              "      <td>1Rk8w4Ucd5yR3KcqZzLdow==</td>\n",
              "      <td>dCm9hFKfdRm7ej3jW+gyxw==</td>\n",
              "      <td>510.0</td>\n",
              "      <td>101.599485</td>\n",
              "      <td>0.987673</td>\n",
              "      <td>94.902491</td>\n",
              "      <td>0.32</td>\n",
              "      <td>NaN</td>\n",
              "      <td>NaN</td>\n",
              "      <td>54591.0</td>\n",
              "      <td>68830.01</td>\n",
              "      <td>False</td>\n",
              "      <td>KET/Pmr6rHp1RJ/P9ymztw==</td>\n",
              "      <td>n+xK9CfX0bCn77lClTWviw==</td>\n",
              "      <td>NaN</td>\n",
              "      <td>1.0</td>\n",
              "      <td>0.0</td>\n",
              "      <td>19.0</td>\n",
              "      <td>19.0</td>\n",
              "      <td>406</td>\n",
              "      <td>3</td>\n",
              "      <td>NaN</td>\n",
              "      <td>38.0</td>\n",
              "      <td>815</td>\n",
              "      <td>1086.0</td>\n",
              "    </tr>\n",
              "    <tr>\n",
              "      <th>4</th>\n",
              "      <td>False</td>\n",
              "      <td>8k8UDR4Yx0qasAjkGrUZLw==</td>\n",
              "      <td>+CxEO4w7jv3QPI/BQbyqAA==</td>\n",
              "      <td>500.0</td>\n",
              "      <td>98.474289</td>\n",
              "      <td>0.532539</td>\n",
              "      <td>118.126207</td>\n",
              "      <td>0.18</td>\n",
              "      <td>NaN</td>\n",
              "      <td>NaN</td>\n",
              "      <td>NaN</td>\n",
              "      <td>60011.29</td>\n",
              "      <td>True</td>\n",
              "      <td>xsd3ZdsI3356I3xMxZeiqQ==</td>\n",
              "      <td>n+xK9CfX0bCn77lClTWviw==</td>\n",
              "      <td>NaN</td>\n",
              "      <td>0.0</td>\n",
              "      <td>0.0</td>\n",
              "      <td>11.0</td>\n",
              "      <td>NaN</td>\n",
              "      <td>240</td>\n",
              "      <td>2</td>\n",
              "      <td>1.0</td>\n",
              "      <td>46.0</td>\n",
              "      <td>320</td>\n",
              "      <td>198618.0</td>\n",
              "    </tr>\n",
              "  </tbody>\n",
              "</table>\n",
              "</div>"
            ],
            "text/plain": [
              "  target_default                   score_1                   score_2  score_3  \\\n",
              "0          False  1Rk8w4Ucd5yR3KcqZzLdow==  IOVu8au3ISbo6+zmfnYwMg==    350.0   \n",
              "1          False  DGCQep2AE5QRkNCshIAlFQ==  SaamrHMo23l/3TwXOWgVzw==    370.0   \n",
              "2           True  DGCQep2AE5QRkNCshIAlFQ==  Fv28Bz0YRTVAT5kl1bAV6g==    360.0   \n",
              "3          False  1Rk8w4Ucd5yR3KcqZzLdow==  dCm9hFKfdRm7ej3jW+gyxw==    510.0   \n",
              "4          False  8k8UDR4Yx0qasAjkGrUZLw==  +CxEO4w7jv3QPI/BQbyqAA==    500.0   \n",
              "\n",
              "      score_4   score_5     score_6  risk_rate  last_amount_borrowed  \\\n",
              "0  101.800832  0.259555  108.427273       0.40              25033.92   \n",
              "1   97.062615  0.942655   92.002546       0.24                   NaN   \n",
              "2  100.027073  0.351918  112.892453       0.29               7207.92   \n",
              "3  101.599485  0.987673   94.902491       0.32                   NaN   \n",
              "4   98.474289  0.532539  118.126207       0.18                   NaN   \n",
              "\n",
              "   last_borrowed_in_months  credit_limit     income facebook_profile  \\\n",
              "0                     36.0           0.0   65014.12             True   \n",
              "1                      NaN       39726.0  100018.91            False   \n",
              "2                     36.0           NaN   65023.65              NaN   \n",
              "3                      NaN       54591.0   68830.01            False   \n",
              "4                      NaN           NaN   60011.29             True   \n",
              "\n",
              "                      state                real_state  ok_since  \\\n",
              "0  sjJbkqJS7cXalHLBFA+EOQ==  N5/CE7lSkAfB04hVFFwllw==       NaN   \n",
              "1  xsd3ZdsI3356I3xMxZeiqQ==  N5/CE7lSkAfB04hVFFwllw==      50.0   \n",
              "2  Ygq6MsM98oC8yceExr69Ig==  n+xK9CfX0bCn77lClTWviw==       NaN   \n",
              "3  KET/Pmr6rHp1RJ/P9ymztw==  n+xK9CfX0bCn77lClTWviw==       NaN   \n",
              "4  xsd3ZdsI3356I3xMxZeiqQ==  n+xK9CfX0bCn77lClTWviw==       NaN   \n",
              "\n",
              "   n_bankruptcies  n_defaulted_loans  n_accounts  n_issues  \\\n",
              "0             0.0                0.0        18.0      18.0   \n",
              "1             0.0                0.0        14.0      14.0   \n",
              "2             0.0                0.0        10.0       NaN   \n",
              "3             1.0                0.0        19.0      19.0   \n",
              "4             0.0                0.0        11.0       NaN   \n",
              "\n",
              "   application_time_in_funnel  \\\n",
              "0                         444   \n",
              "1                         346   \n",
              "2                           6   \n",
              "3                         406   \n",
              "4                         240   \n",
              "\n",
              "   external_data_provider_credit_checks_last_month  \\\n",
              "0                                                2   \n",
              "1                                                1   \n",
              "2                                                2   \n",
              "3                                                3   \n",
              "4                                                2   \n",
              "\n",
              "   external_data_provider_credit_checks_last_year  \\\n",
              "0                                             0.0   \n",
              "1                                             0.0   \n",
              "2                                             NaN   \n",
              "3                                             NaN   \n",
              "4                                             1.0   \n",
              "\n",
              "   external_data_provider_email_seen_before  \\\n",
              "0                                      51.0   \n",
              "1                                      17.0   \n",
              "2                                       9.0   \n",
              "3                                      38.0   \n",
              "4                                      46.0   \n",
              "\n",
              "   external_data_provider_fraud_score  reported_income  \n",
              "0                                 645          57849.0  \n",
              "1                                 243           4902.0  \n",
              "2                                  65         163679.0  \n",
              "3                                 815           1086.0  \n",
              "4                                 320         198618.0  "
            ]
          },
          "metadata": {
            "tags": []
          },
          "execution_count": 10
        }
      ]
    },
    {
      "cell_type": "markdown",
      "metadata": {
        "colab_type": "text",
        "id": "H11HVIJ-S_v-"
      },
      "source": [
        "## Lidando com os valores ausentes\n",
        "Anteriormente fizemos o levantamento dos valores ausentes, mas não os tratamos. É recomendado lidar com eles de alguma forma pela razão de que a maioria dos algoritmos não aceita valores ausentes. Temos duas formas de realizar esse processo:\n",
        "\n",
        "* **Dropping** - Eliminar as observações que têm valores ausentes\n",
        "* **Imputing** - Atribuir valores aos valores ausentes com base no que foi analisado(ex:. média dos valores, valor zero...)\n",
        "\n"
      ]
    },
    {
      "cell_type": "markdown",
      "metadata": {
        "colab_type": "text",
        "id": "N58Wj9yFS_wC"
      },
      "source": [
        "Apesar de não haver muitas informações sobre as variáveis, podemos assumir que vários dos valores ausentes se deve ao fato de que ao se preencher um formulário alguns itens não são obrigatórios, como por exemplo `profile_facebook`.\n",
        "\n",
        "\n",
        "\n",
        "Para nosso *dataset* vamos estar aplicando o metodo do Imputing, vamos importar o metodo `SimpleImputer` da biblioteca `sklearn.impute`. Vamos realizar três etapas:\n",
        "\n",
        "* 1- Substituir os valores ausentes por zero nas variaveis `last_amount_borrowed`, `last_borrowed_in_months`, `n_issues` utilizando o método `.fillna`.\n",
        "\n",
        "* 2- Para as variaveis numericas, os valores ausentes vão ser substituidos pela mediana\n",
        "\n",
        "* 3- Para as variáveis categóricas, os valores ausentes vão ser substituídos pelo valor mais frequente"
      ]
    },
    {
      "cell_type": "code",
      "metadata": {
        "colab_type": "code",
        "id": "QLVTY4b-S_wD",
        "colab": {}
      },
      "source": [
        "from sklearn.impute import SimpleImputer\n",
        "\n",
        "numeric_df = nu_clean.select_dtypes(exclude='object').columns\n",
        "catg_df = nu_clean.select_dtypes(include='object').columns\n",
        "\n",
        "# substituição de valores ausentes\n",
        "nu_clean.last_amount_borrowed.fillna(value=0, inplace=True)\n",
        "nu_clean.last_borrowed_in_months.fillna(value=0, inplace=True)\n",
        "nu_clean.n_issues.fillna(value=0, inplace=True)\n",
        "\n",
        "# variáveis numéricas\n",
        "imputer = SimpleImputer(missing_values=np.nan, strategy='median')\n",
        "imputer = imputer.fit(nu_clean.loc[:,numeric_df])\n",
        "nu_clean.loc[:,numeric_df] = imputer.transform(nu_clean.loc[:,numeric_df])\n",
        "\n",
        "# variáveis categóricas\n",
        "imputer = SimpleImputer(missing_values=np.nan, strategy='most_frequent')\n",
        "imputer = imputer.fit(nu_clean.loc[:,catg_df])\n",
        "nu_clean.loc[:,catg_df] = imputer.transform(nu_clean.loc[:,catg_df])"
      ],
      "execution_count": 0,
      "outputs": []
    },
    {
      "cell_type": "markdown",
      "metadata": {
        "colab_type": "text",
        "id": "MdWNebOY64ZL"
      },
      "source": [
        "Vamos verificar como está porcentagem dos valores ausentes"
      ]
    },
    {
      "cell_type": "code",
      "metadata": {
        "colab_type": "code",
        "id": "et4K8r6YS_wF",
        "outputId": "4e5021ce-6634-4263-ee1a-7e5bd4cf0ecf",
        "colab": {
          "base_uri": "https://localhost:8080/",
          "height": 510
        }
      },
      "source": [
        "print(f\"Porcentagem de valores nulos:\")\n",
        "print(f\"\\n{(nu_clean.isnull().sum()/nu_clean.shape[0]).sort_values(ascending=False)}\")"
      ],
      "execution_count": 12,
      "outputs": [
        {
          "output_type": "stream",
          "text": [
            "Porcentagem de valores nulos:\n",
            "\n",
            "reported_income                                    0.0\n",
            "external_data_provider_fraud_score                 0.0\n",
            "score_1                                            0.0\n",
            "score_2                                            0.0\n",
            "score_3                                            0.0\n",
            "score_4                                            0.0\n",
            "score_5                                            0.0\n",
            "score_6                                            0.0\n",
            "risk_rate                                          0.0\n",
            "last_amount_borrowed                               0.0\n",
            "last_borrowed_in_months                            0.0\n",
            "credit_limit                                       0.0\n",
            "income                                             0.0\n",
            "facebook_profile                                   0.0\n",
            "state                                              0.0\n",
            "real_state                                         0.0\n",
            "ok_since                                           0.0\n",
            "n_bankruptcies                                     0.0\n",
            "n_defaulted_loans                                  0.0\n",
            "n_accounts                                         0.0\n",
            "n_issues                                           0.0\n",
            "application_time_in_funnel                         0.0\n",
            "external_data_provider_credit_checks_last_month    0.0\n",
            "external_data_provider_credit_checks_last_year     0.0\n",
            "external_data_provider_email_seen_before           0.0\n",
            "target_default                                     0.0\n",
            "dtype: float64\n"
          ],
          "name": "stdout"
        }
      ]
    },
    {
      "cell_type": "markdown",
      "metadata": {
        "id": "scyQUwaqbYbD",
        "colab_type": "text"
      },
      "source": [
        "Agora temos um *dataset* limpo, pronto para as próximas etapas."
      ]
    },
    {
      "cell_type": "markdown",
      "metadata": {
        "colab_type": "text",
        "id": "v8PqTuBUS_wH"
      },
      "source": [
        "# Normalização dos Dados\n",
        "A normalização dos seus dados, que já estão tratados, é uma pratica para evitar que seu algoritmo fique enviesado para as variáveis com maior ordem de grandeza.\n",
        "\n",
        "Para isso vamos usar o módulo `StandardScaler` da biblioteca `sklearn.preprocessing`."
      ]
    },
    {
      "cell_type": "code",
      "metadata": {
        "colab_type": "code",
        "id": "xA4_-89nS_wI",
        "colab": {}
      },
      "source": [
        "#normalização\n",
        "from sklearn.preprocessing import StandardScaler\n",
        "\n",
        "scaled_df = nu_clean.copy()\n",
        "# normalizar as colunas numéricas\n",
        "numeric_cols = scaled_df.drop('target_default',\n",
        "                         axis=1).select_dtypes(exclude='object').columns\n",
        "\n",
        "scaled_df[numeric_cols] = StandardScaler().fit_transform(scaled_df[numeric_cols].values)"
      ],
      "execution_count": 0,
      "outputs": []
    },
    {
      "cell_type": "markdown",
      "metadata": {
        "colab_type": "text",
        "id": "Mw8VyuvzS_wK"
      },
      "source": [
        "Continuando com a preparação dos dados, irei realizar o Label Encoding para possibilitar que as variáveis categóricas possam ser codificadas em forma de labels e alimentar o modelo de Machine Learning."
      ]
    },
    {
      "cell_type": "code",
      "metadata": {
        "colab_type": "code",
        "id": "dNld7pquS_wK",
        "colab": {}
      },
      "source": [
        "# label encoder\n",
        "from sklearn.preprocessing import LabelEncoder\n",
        "\n",
        "nuEncoded_df = scaled_df.copy()\n",
        "# extrair as colunas categóricas\n",
        "catg_cols = nuEncoded_df.select_dtypes('object').columns\n",
        "\n",
        "# codificar cada coluna categórica\n",
        "for col in catg_cols:\n",
        "  nuEncoded_df[col+'_encoded'] = LabelEncoder().fit_transform(nuEncoded_df[col])\n",
        "  nuEncoded_df.drop(col, axis=1, inplace=True)"
      ],
      "execution_count": 0,
      "outputs": []
    },
    {
      "cell_type": "markdown",
      "metadata": {
        "colab_type": "text",
        "id": "nLMCezmPEHJr"
      },
      "source": [
        "abaixo vemos como ficou nosso *dataset* "
      ]
    },
    {
      "cell_type": "code",
      "metadata": {
        "colab_type": "code",
        "id": "nW6zZvRG8UhQ",
        "outputId": "795e1621-2ebf-407b-afe4-55402b76ed17",
        "colab": {
          "base_uri": "https://localhost:8080/",
          "height": 224
        }
      },
      "source": [
        "nuEncoded_df.head()"
      ],
      "execution_count": 16,
      "outputs": [
        {
          "output_type": "execute_result",
          "data": {
            "text/html": [
              "<div>\n",
              "<style scoped>\n",
              "    .dataframe tbody tr th:only-of-type {\n",
              "        vertical-align: middle;\n",
              "    }\n",
              "\n",
              "    .dataframe tbody tr th {\n",
              "        vertical-align: top;\n",
              "    }\n",
              "\n",
              "    .dataframe thead th {\n",
              "        text-align: right;\n",
              "    }\n",
              "</style>\n",
              "<table border=\"1\" class=\"dataframe\">\n",
              "  <thead>\n",
              "    <tr style=\"text-align: right;\">\n",
              "      <th></th>\n",
              "      <th>target_default</th>\n",
              "      <th>score_3</th>\n",
              "      <th>score_4</th>\n",
              "      <th>score_5</th>\n",
              "      <th>score_6</th>\n",
              "      <th>risk_rate</th>\n",
              "      <th>last_amount_borrowed</th>\n",
              "      <th>last_borrowed_in_months</th>\n",
              "      <th>credit_limit</th>\n",
              "      <th>income</th>\n",
              "      <th>facebook_profile</th>\n",
              "      <th>ok_since</th>\n",
              "      <th>n_bankruptcies</th>\n",
              "      <th>n_defaulted_loans</th>\n",
              "      <th>n_accounts</th>\n",
              "      <th>n_issues</th>\n",
              "      <th>application_time_in_funnel</th>\n",
              "      <th>external_data_provider_credit_checks_last_month</th>\n",
              "      <th>external_data_provider_credit_checks_last_year</th>\n",
              "      <th>external_data_provider_email_seen_before</th>\n",
              "      <th>external_data_provider_fraud_score</th>\n",
              "      <th>reported_income</th>\n",
              "      <th>score_1_encoded</th>\n",
              "      <th>score_2_encoded</th>\n",
              "      <th>state_encoded</th>\n",
              "      <th>real_state_encoded</th>\n",
              "    </tr>\n",
              "  </thead>\n",
              "  <tbody>\n",
              "    <tr>\n",
              "      <th>0</th>\n",
              "      <td>False</td>\n",
              "      <td>0.032154</td>\n",
              "      <td>0.563484</td>\n",
              "      <td>-0.832617</td>\n",
              "      <td>0.848870</td>\n",
              "      <td>1.039282</td>\n",
              "      <td>2.627224</td>\n",
              "      <td>1.11413</td>\n",
              "      <td>-1.031599</td>\n",
              "      <td>-0.116075</td>\n",
              "      <td>1.412589</td>\n",
              "      <td>-0.094349</td>\n",
              "      <td>-0.278592</td>\n",
              "      <td>-0.057693</td>\n",
              "      <td>1.604337</td>\n",
              "      <td>1.577495</td>\n",
              "      <td>1.341208</td>\n",
              "      <td>0.444809</td>\n",
              "      <td>-1.427247</td>\n",
              "      <td>1.322812</td>\n",
              "      <td>0.501783</td>\n",
              "      <td>-0.040691</td>\n",
              "      <td>0</td>\n",
              "      <td>10</td>\n",
              "      <td>44</td>\n",
              "      <td>1</td>\n",
              "    </tr>\n",
              "    <tr>\n",
              "      <th>1</th>\n",
              "      <td>False</td>\n",
              "      <td>0.213805</td>\n",
              "      <td>-0.924750</td>\n",
              "      <td>1.538588</td>\n",
              "      <td>-0.789902</td>\n",
              "      <td>-0.536149</td>\n",
              "      <td>-0.577743</td>\n",
              "      <td>-0.68792</td>\n",
              "      <td>0.283752</td>\n",
              "      <td>0.553756</td>\n",
              "      <td>-0.707920</td>\n",
              "      <td>1.191063</td>\n",
              "      <td>-0.278592</td>\n",
              "      <td>-0.057693</td>\n",
              "      <td>0.732520</td>\n",
              "      <td>0.937596</td>\n",
              "      <td>0.671463</td>\n",
              "      <td>-0.452701</td>\n",
              "      <td>-1.427247</td>\n",
              "      <td>-0.635622</td>\n",
              "      <td>-0.894101</td>\n",
              "      <td>-0.040691</td>\n",
              "      <td>3</td>\n",
              "      <td>16</td>\n",
              "      <td>47</td>\n",
              "      <td>1</td>\n",
              "    </tr>\n",
              "    <tr>\n",
              "      <th>2</th>\n",
              "      <td>True</td>\n",
              "      <td>0.122980</td>\n",
              "      <td>0.006361</td>\n",
              "      <td>-0.512003</td>\n",
              "      <td>1.294382</td>\n",
              "      <td>-0.043827</td>\n",
              "      <td>0.345051</td>\n",
              "      <td>1.11413</td>\n",
              "      <td>-0.196782</td>\n",
              "      <td>-0.115893</td>\n",
              "      <td>-0.707920</td>\n",
              "      <td>-0.094349</td>\n",
              "      <td>-0.278592</td>\n",
              "      <td>-0.057693</td>\n",
              "      <td>-0.139296</td>\n",
              "      <td>-1.302049</td>\n",
              "      <td>-1.652141</td>\n",
              "      <td>0.444809</td>\n",
              "      <td>0.700650</td>\n",
              "      <td>-1.096430</td>\n",
              "      <td>-1.512178</td>\n",
              "      <td>-0.040691</td>\n",
              "      <td>3</td>\n",
              "      <td>9</td>\n",
              "      <td>32</td>\n",
              "      <td>3</td>\n",
              "    </tr>\n",
              "    <tr>\n",
              "      <th>3</th>\n",
              "      <td>False</td>\n",
              "      <td>1.485366</td>\n",
              "      <td>0.500243</td>\n",
              "      <td>1.694857</td>\n",
              "      <td>-0.500560</td>\n",
              "      <td>0.251567</td>\n",
              "      <td>-0.577743</td>\n",
              "      <td>-0.68792</td>\n",
              "      <td>0.775941</td>\n",
              "      <td>-0.043057</td>\n",
              "      <td>-0.707920</td>\n",
              "      <td>-0.094349</td>\n",
              "      <td>3.365634</td>\n",
              "      <td>-0.057693</td>\n",
              "      <td>1.822291</td>\n",
              "      <td>1.737469</td>\n",
              "      <td>1.081511</td>\n",
              "      <td>1.342319</td>\n",
              "      <td>0.700650</td>\n",
              "      <td>0.573999</td>\n",
              "      <td>1.092082</td>\n",
              "      <td>-0.040691</td>\n",
              "      <td>0</td>\n",
              "      <td>21</td>\n",
              "      <td>23</td>\n",
              "      <td>3</td>\n",
              "    </tr>\n",
              "    <tr>\n",
              "      <th>4</th>\n",
              "      <td>False</td>\n",
              "      <td>1.394540</td>\n",
              "      <td>-0.481355</td>\n",
              "      <td>0.114978</td>\n",
              "      <td>1.816579</td>\n",
              "      <td>-1.126935</td>\n",
              "      <td>-0.577743</td>\n",
              "      <td>-0.68792</td>\n",
              "      <td>-0.196782</td>\n",
              "      <td>-0.211806</td>\n",
              "      <td>1.412589</td>\n",
              "      <td>-0.094349</td>\n",
              "      <td>-0.278592</td>\n",
              "      <td>-0.057693</td>\n",
              "      <td>0.078658</td>\n",
              "      <td>-1.302049</td>\n",
              "      <td>-0.052955</td>\n",
              "      <td>0.444809</td>\n",
              "      <td>0.700650</td>\n",
              "      <td>1.034807</td>\n",
              "      <td>-0.626730</td>\n",
              "      <td>-0.040691</td>\n",
              "      <td>2</td>\n",
              "      <td>1</td>\n",
              "      <td>47</td>\n",
              "      <td>3</td>\n",
              "    </tr>\n",
              "  </tbody>\n",
              "</table>\n",
              "</div>"
            ],
            "text/plain": [
              "   target_default   score_3   score_4   score_5   score_6  risk_rate  \\\n",
              "0           False  0.032154  0.563484 -0.832617  0.848870   1.039282   \n",
              "1           False  0.213805 -0.924750  1.538588 -0.789902  -0.536149   \n",
              "2            True  0.122980  0.006361 -0.512003  1.294382  -0.043827   \n",
              "3           False  1.485366  0.500243  1.694857 -0.500560   0.251567   \n",
              "4           False  1.394540 -0.481355  0.114978  1.816579  -1.126935   \n",
              "\n",
              "   last_amount_borrowed  last_borrowed_in_months  credit_limit    income  \\\n",
              "0              2.627224                  1.11413     -1.031599 -0.116075   \n",
              "1             -0.577743                 -0.68792      0.283752  0.553756   \n",
              "2              0.345051                  1.11413     -0.196782 -0.115893   \n",
              "3             -0.577743                 -0.68792      0.775941 -0.043057   \n",
              "4             -0.577743                 -0.68792     -0.196782 -0.211806   \n",
              "\n",
              "   facebook_profile  ok_since  n_bankruptcies  n_defaulted_loans  n_accounts  \\\n",
              "0          1.412589 -0.094349       -0.278592          -0.057693    1.604337   \n",
              "1         -0.707920  1.191063       -0.278592          -0.057693    0.732520   \n",
              "2         -0.707920 -0.094349       -0.278592          -0.057693   -0.139296   \n",
              "3         -0.707920 -0.094349        3.365634          -0.057693    1.822291   \n",
              "4          1.412589 -0.094349       -0.278592          -0.057693    0.078658   \n",
              "\n",
              "   n_issues  application_time_in_funnel  \\\n",
              "0  1.577495                    1.341208   \n",
              "1  0.937596                    0.671463   \n",
              "2 -1.302049                   -1.652141   \n",
              "3  1.737469                    1.081511   \n",
              "4 -1.302049                   -0.052955   \n",
              "\n",
              "   external_data_provider_credit_checks_last_month  \\\n",
              "0                                         0.444809   \n",
              "1                                        -0.452701   \n",
              "2                                         0.444809   \n",
              "3                                         1.342319   \n",
              "4                                         0.444809   \n",
              "\n",
              "   external_data_provider_credit_checks_last_year  \\\n",
              "0                                       -1.427247   \n",
              "1                                       -1.427247   \n",
              "2                                        0.700650   \n",
              "3                                        0.700650   \n",
              "4                                        0.700650   \n",
              "\n",
              "   external_data_provider_email_seen_before  \\\n",
              "0                                  1.322812   \n",
              "1                                 -0.635622   \n",
              "2                                 -1.096430   \n",
              "3                                  0.573999   \n",
              "4                                  1.034807   \n",
              "\n",
              "   external_data_provider_fraud_score  reported_income  score_1_encoded  \\\n",
              "0                            0.501783        -0.040691                0   \n",
              "1                           -0.894101        -0.040691                3   \n",
              "2                           -1.512178        -0.040691                3   \n",
              "3                            1.092082        -0.040691                0   \n",
              "4                           -0.626730        -0.040691                2   \n",
              "\n",
              "   score_2_encoded  state_encoded  real_state_encoded  \n",
              "0               10             44                   1  \n",
              "1               16             47                   1  \n",
              "2                9             32                   3  \n",
              "3               21             23                   3  \n",
              "4                1             47                   3  "
            ]
          },
          "metadata": {
            "tags": []
          },
          "execution_count": 16
        }
      ]
    },
    {
      "cell_type": "markdown",
      "metadata": {
        "colab_type": "text",
        "id": "CCkMyeWiBmLN"
      },
      "source": [
        "# Train/Test Split\n",
        "Por fim, irei separar a variável alvo das demais e dividir o *dataset* entre dados de treino e teste com a função `train_test_split`."
      ]
    },
    {
      "cell_type": "code",
      "metadata": {
        "colab_type": "code",
        "id": "H8nZmxDGS_wN",
        "colab": {}
      },
      "source": [
        "from sklearn.model_selection import train_test_split\n",
        "\n",
        "# separar as variáveis independentes da variável alvo\n",
        "X = nuEncoded_df.drop('target_default', axis=1).select_dtypes(exclude='object')\n",
        "y = nuEncoded_df['target_default']\n",
        "\n",
        "# dividir o dataset entre treino e teste\n",
        "X_train, X_test, y_train, y_test = train_test_split(X, y, test_size=0.3)"
      ],
      "execution_count": 0,
      "outputs": []
    },
    {
      "cell_type": "markdown",
      "metadata": {
        "colab_type": "text",
        "id": "MQAh22-pS_wP"
      },
      "source": [
        "# Aplicando Modelos de ML\n",
        "\n",
        "Não foi realizada uma análise mais aprofundada sobre as variáveis e nem um tunning de parâmetros, mas construído um modelo simples para servir de baseline. Ressalta-se que os valores dos parâmetros foram generalistas e arbitrários. Trabalhamos com um dataset desbalanceado, o que pode gerar métricas que não representam a realidade da situação problemática do mundo real.\n",
        "\n",
        "Será apresentada apenas a acurácia do modelo como métrica simples de avaliação. Pode-se assumir a premissa de que este é um problema multiobjetivo de otimização, onde espera-se minimizar tanto a quantidade de false positives quanto maximizar a quantidade de true positives.\n",
        "\n",
        "Para esta etapa inicial, a utilizacão da métrica acurácia pode ser estabelecida a fim de comparação entre diferentes modelos de Machine Learning (ou estabelecer um benchmark).\n",
        "\n",
        "Os modelos que iremos utilizar são:\n",
        "\n",
        " * XGBoost\n",
        " * Regressão Logistica\n",
        " * Decision Trees\n",
        " * Naive Bayes\n",
        " * Random Forest"
      ]
    },
    {
      "cell_type": "markdown",
      "metadata": {
        "id": "AwncZ19MbYbQ",
        "colab_type": "text"
      },
      "source": [
        "## XGBoost"
      ]
    },
    {
      "cell_type": "code",
      "metadata": {
        "colab_type": "code",
        "id": "bIlYcl0bS_wQ",
        "outputId": "cea94c35-136b-491a-cfc3-dbfa5ee28317",
        "colab": {
          "base_uri": "https://localhost:8080/",
          "height": 136
        }
      },
      "source": [
        "from xgboost import XGBClassifier\n",
        "from sklearn.metrics import classification_report, confusion_matrix\n",
        "from sklearn.metrics import roc_auc_score, roc_curve, accuracy_score\n",
        "\n",
        "\n",
        "score = {}\n",
        "\n",
        "# instanciando o modelo e treinando o mesmo\n",
        "xgb_model = XGBClassifier(learning_rate=0.01, n_estimators=1000,\n",
        "                         max_depth=6, subsample = 0.9,\n",
        "                         colsample_bytree = 0.1, gamma=1,\n",
        "                         random_state=42)\n",
        "xgb_model.fit(X_train, y_train)"
      ],
      "execution_count": 18,
      "outputs": [
        {
          "output_type": "execute_result",
          "data": {
            "text/plain": [
              "XGBClassifier(base_score=0.5, booster='gbtree', colsample_bylevel=1,\n",
              "              colsample_bynode=1, colsample_bytree=0.1, gamma=1,\n",
              "              learning_rate=0.01, max_delta_step=0, max_depth=6,\n",
              "              min_child_weight=1, missing=None, n_estimators=1000, n_jobs=1,\n",
              "              nthread=None, objective='binary:logistic', random_state=42,\n",
              "              reg_alpha=0, reg_lambda=1, scale_pos_weight=1, seed=None,\n",
              "              silent=None, subsample=0.9, verbosity=1)"
            ]
          },
          "metadata": {
            "tags": []
          },
          "execution_count": 18
        }
      ]
    },
    {
      "cell_type": "code",
      "metadata": {
        "colab_type": "code",
        "id": "w-wDn6uDS_wS",
        "outputId": "378e06cd-6d0b-4dd0-a047-9122744c69d9",
        "colab": {
          "base_uri": "https://localhost:8080/",
          "height": 306
        }
      },
      "source": [
        "# previsões e probabilidades em cima do dataset de teste\n",
        "y_pred = xgb_model.predict(X_test)\n",
        "xgb_acc_score = accuracy_score(y_test, y_pred)\n",
        "xgb_conf_matrix = confusion_matrix(y_test, y_pred)\n",
        "\n",
        "# ver performance do algoritmo\n",
        "print(\"Matriz de Confusão:\")\n",
        "print(xgb_conf_matrix)\n",
        "\n",
        "print(\"\\nAcuracia do modelo:\")\n",
        "print (xgb_acc_score*100)\n",
        "\n",
        "print(\"\\nRelatorio de Classificação:\")\n",
        "print(classification_report(y_test, y_pred))\n",
        "\n",
        "\n",
        "\n",
        "score.update({'XGBClassifier': xgb_acc_score*100})\n"
      ],
      "execution_count": 19,
      "outputs": [
        {
          "output_type": "stream",
          "text": [
            "Matriz de Confusão:\n",
            "[[10560     8]\n",
            " [ 1943    12]]\n",
            "\n",
            "Acuracia do modelo:\n",
            "84.42066597460672\n",
            "\n",
            "Relatorio de Classificação:\n",
            "              precision    recall  f1-score   support\n",
            "\n",
            "       False       0.84      1.00      0.92     10568\n",
            "        True       0.60      0.01      0.01      1955\n",
            "\n",
            "    accuracy                           0.84     12523\n",
            "   macro avg       0.72      0.50      0.46     12523\n",
            "weighted avg       0.81      0.84      0.77     12523\n",
            "\n"
          ],
          "name": "stdout"
        }
      ]
    },
    {
      "cell_type": "markdown",
      "metadata": {
        "id": "7qe542WeGr0v",
        "colab_type": "text"
      },
      "source": [
        "## Regressão Logistica"
      ]
    },
    {
      "cell_type": "code",
      "metadata": {
        "id": "pfoqyeqZbYbX",
        "colab_type": "code",
        "colab": {}
      },
      "source": [
        "from sklearn.linear_model import LogisticRegression\n",
        "\n",
        "# instanciando o modelo e treinando o mesmo\n",
        "lr = LogisticRegression()\n",
        "lr.fit(X_train, y_train)\n",
        "lr_predict = lr.predict(X_test)"
      ],
      "execution_count": 0,
      "outputs": []
    },
    {
      "cell_type": "code",
      "metadata": {
        "id": "PPrSziP-bYbZ",
        "colab_type": "code",
        "colab": {
          "base_uri": "https://localhost:8080/",
          "height": 306
        },
        "outputId": "d9384ac6-d8dd-4a7e-ce88-dcfa9d4fffba"
      },
      "source": [
        "# previsões e probabilidades em cima do dataset de teste\n",
        "lr_conf_matrix = confusion_matrix(y_test, lr_predict)\n",
        "lr_acc_score = accuracy_score(y_test, lr_predict)\n",
        "\n",
        "print(\"Matriz de Confusão:\")\n",
        "print(lr_conf_matrix)\n",
        "\n",
        "print(\"\\nAcuracia do modelo:\")\n",
        "print(lr_acc_score * 100)\n",
        "\n",
        "print(\"\\nRelatorio de Classificação:\")\n",
        "print(classification_report(y_test, lr_predict))\n",
        "\n",
        "\n",
        "\n",
        "score.update({'Logistic_Regression': lr_acc_score * 100})"
      ],
      "execution_count": 21,
      "outputs": [
        {
          "output_type": "stream",
          "text": [
            "Matriz de Confusão:\n",
            "[[10558    10]\n",
            " [ 1945    10]]\n",
            "\n",
            "Acuracia do modelo:\n",
            "84.38872474646651\n",
            "\n",
            "Relatorio de Classificação:\n",
            "              precision    recall  f1-score   support\n",
            "\n",
            "       False       0.84      1.00      0.92     10568\n",
            "        True       0.50      0.01      0.01      1955\n",
            "\n",
            "    accuracy                           0.84     12523\n",
            "   macro avg       0.67      0.50      0.46     12523\n",
            "weighted avg       0.79      0.84      0.77     12523\n",
            "\n"
          ],
          "name": "stdout"
        }
      ]
    },
    {
      "cell_type": "markdown",
      "metadata": {
        "id": "N_38ASnHbYbb",
        "colab_type": "text"
      },
      "source": [
        "## Arvore de Decisão\n"
      ]
    },
    {
      "cell_type": "code",
      "metadata": {
        "id": "wg_EKrmGbYbc",
        "colab_type": "code",
        "colab": {}
      },
      "source": [
        "from sklearn.tree import DecisionTreeClassifier\n",
        "\n",
        "# instanciando o modelo e treinando o mesmo\n",
        "dt = DecisionTreeClassifier()\n",
        "dt.fit(X_train,y_train)\n",
        "dt_predict = dt.predict(X_test)"
      ],
      "execution_count": 0,
      "outputs": []
    },
    {
      "cell_type": "code",
      "metadata": {
        "id": "kcYGH64SbYbe",
        "colab_type": "code",
        "colab": {
          "base_uri": "https://localhost:8080/",
          "height": 306
        },
        "outputId": "90b7e1fd-7835-4ee3-f569-ed1ceb4af407"
      },
      "source": [
        "# previsões e probabilidades em cima do dataset de teste\n",
        "dt_conf_matrix = confusion_matrix(y_test, dt_predict)\n",
        "dt_acc_score = accuracy_score(y_test, dt_predict)\n",
        "\n",
        "print(\"Matriz de Confusão:\")\n",
        "print(dt_conf_matrix)\n",
        "\n",
        "print(\"\\nAcuracia do modelo:\")\n",
        "print(dt_acc_score*100)\n",
        "\n",
        "print(\"\\nRelatorio de Classificação:\")\n",
        "print(classification_report(y_test, dt_predict))\n",
        "\n",
        "\n",
        "score.update({'Decision_Tree_Classifier': dt_acc_score*100})"
      ],
      "execution_count": 23,
      "outputs": [
        {
          "output_type": "stream",
          "text": [
            "Matriz de Confusão:\n",
            "[[8833 1735]\n",
            " [1438  517]]\n",
            "\n",
            "Acuracia do modelo:\n",
            "74.66262077776891\n",
            "\n",
            "Relatorio de Classificação:\n",
            "              precision    recall  f1-score   support\n",
            "\n",
            "       False       0.86      0.84      0.85     10568\n",
            "        True       0.23      0.26      0.25      1955\n",
            "\n",
            "    accuracy                           0.75     12523\n",
            "   macro avg       0.54      0.55      0.55     12523\n",
            "weighted avg       0.76      0.75      0.75     12523\n",
            "\n"
          ],
          "name": "stdout"
        }
      ]
    },
    {
      "cell_type": "markdown",
      "metadata": {
        "id": "yriI5hqBbYbh",
        "colab_type": "text"
      },
      "source": [
        "## Naive Bayes\n"
      ]
    },
    {
      "cell_type": "code",
      "metadata": {
        "id": "FqZBcG9KbYbi",
        "colab_type": "code",
        "colab": {}
      },
      "source": [
        "from sklearn.naive_bayes import GaussianNB\n",
        "\n",
        "# instanciando o modelo e treinando o mesmo\n",
        "nb = GaussianNB()\n",
        "nb.fit(X_train,y_train)\n",
        "nb_predict=nb.predict(X_test)"
      ],
      "execution_count": 0,
      "outputs": []
    },
    {
      "cell_type": "code",
      "metadata": {
        "id": "BGVwMJ-kbYbk",
        "colab_type": "code",
        "colab": {
          "base_uri": "https://localhost:8080/",
          "height": 306
        },
        "outputId": "9e44ed8c-d046-4d72-a744-0fd8ab944d7e"
      },
      "source": [
        "# previsões e probabilidades em cima do dataset de teste\n",
        "nb_conf_matrix = confusion_matrix(y_test, nb_predict)\n",
        "nb_acc_score = accuracy_score(y_test, nb_predict)\n",
        "\n",
        "print(\"Matriz de Confusão:\")\n",
        "print(nb_conf_matrix)\n",
        "\n",
        "print(\"\\nAcuracia do modelo:\")\n",
        "print(nb_acc_score*100)\n",
        "\n",
        "print(\"\\nRelatorio de Classificação:\")\n",
        "print(classification_report(y_test, nb_predict))\n",
        "\n",
        "\n",
        "\n",
        "score.update({'GaussianNB': nb_acc_score*100})"
      ],
      "execution_count": 25,
      "outputs": [
        {
          "output_type": "stream",
          "text": [
            "Matriz de Confusão:\n",
            "[[10125   443]\n",
            " [ 1712   243]]\n",
            "\n",
            "Acuracia do modelo:\n",
            "82.7916633394554\n",
            "\n",
            "Relatorio de Classificação:\n",
            "              precision    recall  f1-score   support\n",
            "\n",
            "       False       0.86      0.96      0.90     10568\n",
            "        True       0.35      0.12      0.18      1955\n",
            "\n",
            "    accuracy                           0.83     12523\n",
            "   macro avg       0.60      0.54      0.54     12523\n",
            "weighted avg       0.78      0.83      0.79     12523\n",
            "\n"
          ],
          "name": "stdout"
        }
      ]
    },
    {
      "cell_type": "markdown",
      "metadata": {
        "id": "Ck4iOdHtbYbo",
        "colab_type": "text"
      },
      "source": [
        "## Random Forest"
      ]
    },
    {
      "cell_type": "code",
      "metadata": {
        "id": "fp_7wh5KbYbp",
        "colab_type": "code",
        "colab": {}
      },
      "source": [
        "from sklearn.ensemble import RandomForestClassifier\n",
        "\n",
        "# instanciando o modelo e treinando o mesmo\n",
        "rf = RandomForestClassifier()\n",
        "rf.fit(X_train, y_train)\n",
        "rf_predict=rf.predict(X_test)"
      ],
      "execution_count": 0,
      "outputs": []
    },
    {
      "cell_type": "code",
      "metadata": {
        "id": "04KTNHPmbYbr",
        "colab_type": "code",
        "colab": {
          "base_uri": "https://localhost:8080/",
          "height": 306
        },
        "outputId": "be326184-6b16-4210-e97e-52b4652ffe7a"
      },
      "source": [
        "# previsões e probabilidades em cima do dataset de teste\n",
        "rf_conf_matrix = confusion_matrix(y_test, rf_predict)\n",
        "rf_acc_score = accuracy_score(y_test, rf_predict)\n",
        "\n",
        "print(\"Matriz de Confusão:\")\n",
        "print(rf_conf_matrix)\n",
        "\n",
        "print(\"\\nAcuracia do modelo:\")\n",
        "print(rf_acc_score*100)\n",
        "\n",
        "print(\"\\nRelatorio de Classificação:\")\n",
        "print(classification_report(y_test, rf_predict))\n",
        "\n",
        "\n",
        "score.update({'Random_Forest_Classifier': rf_acc_score*100})"
      ],
      "execution_count": 28,
      "outputs": [
        {
          "output_type": "stream",
          "text": [
            "Matriz de Confusão:\n",
            "[[10521    47]\n",
            " [ 1902    53]]\n",
            "\n",
            "Acuracia do modelo:\n",
            "84.43663658867683\n",
            "\n",
            "Relatorio de Classificação:\n",
            "              precision    recall  f1-score   support\n",
            "\n",
            "       False       0.85      1.00      0.92     10568\n",
            "        True       0.53      0.03      0.05      1955\n",
            "\n",
            "    accuracy                           0.84     12523\n",
            "   macro avg       0.69      0.51      0.48     12523\n",
            "weighted avg       0.80      0.84      0.78     12523\n",
            "\n"
          ],
          "name": "stdout"
        }
      ]
    },
    {
      "cell_type": "markdown",
      "metadata": {
        "id": "lAS7ocaJbYbt",
        "colab_type": "text"
      },
      "source": [
        "# Comparação entre os modelos"
      ]
    },
    {
      "cell_type": "code",
      "metadata": {
        "scrolled": false,
        "id": "Zs2y915YbYbt",
        "colab_type": "code",
        "colab": {
          "base_uri": "https://localhost:8080/",
          "height": 204
        },
        "outputId": "dce998a4-05c9-435d-890e-0adfb24e0c3b"
      },
      "source": [
        "modelScores = pd.DataFrame()\n",
        "modelScores['Models'] = score.keys()\n",
        "modelScores['Accuracy'] = score.values()\n",
        "modelScores"
      ],
      "execution_count": 29,
      "outputs": [
        {
          "output_type": "execute_result",
          "data": {
            "text/html": [
              "<div>\n",
              "<style scoped>\n",
              "    .dataframe tbody tr th:only-of-type {\n",
              "        vertical-align: middle;\n",
              "    }\n",
              "\n",
              "    .dataframe tbody tr th {\n",
              "        vertical-align: top;\n",
              "    }\n",
              "\n",
              "    .dataframe thead th {\n",
              "        text-align: right;\n",
              "    }\n",
              "</style>\n",
              "<table border=\"1\" class=\"dataframe\">\n",
              "  <thead>\n",
              "    <tr style=\"text-align: right;\">\n",
              "      <th></th>\n",
              "      <th>Models</th>\n",
              "      <th>Accuracy</th>\n",
              "    </tr>\n",
              "  </thead>\n",
              "  <tbody>\n",
              "    <tr>\n",
              "      <th>0</th>\n",
              "      <td>XGBClassifier</td>\n",
              "      <td>84.420666</td>\n",
              "    </tr>\n",
              "    <tr>\n",
              "      <th>1</th>\n",
              "      <td>Logistic_Regression</td>\n",
              "      <td>84.388725</td>\n",
              "    </tr>\n",
              "    <tr>\n",
              "      <th>2</th>\n",
              "      <td>Decision_Tree_Classifier</td>\n",
              "      <td>74.662621</td>\n",
              "    </tr>\n",
              "    <tr>\n",
              "      <th>3</th>\n",
              "      <td>GaussianNB</td>\n",
              "      <td>82.791663</td>\n",
              "    </tr>\n",
              "    <tr>\n",
              "      <th>4</th>\n",
              "      <td>Random_Forest_Classifier</td>\n",
              "      <td>84.436637</td>\n",
              "    </tr>\n",
              "  </tbody>\n",
              "</table>\n",
              "</div>"
            ],
            "text/plain": [
              "                     Models   Accuracy\n",
              "0             XGBClassifier  84.420666\n",
              "1       Logistic_Regression  84.388725\n",
              "2  Decision_Tree_Classifier  74.662621\n",
              "3                GaussianNB  82.791663\n",
              "4  Random_Forest_Classifier  84.436637"
            ]
          },
          "metadata": {
            "tags": []
          },
          "execution_count": 29
        }
      ]
    },
    {
      "cell_type": "code",
      "metadata": {
        "scrolled": false,
        "id": "wAxwCgQKbYbw",
        "colab_type": "code",
        "colab": {
          "base_uri": "https://localhost:8080/",
          "height": 441
        },
        "outputId": "fbf571a3-26d2-4410-8ef9-2d6be1623d9a"
      },
      "source": [
        "fig, ax = plt.subplots(figsize=(8, 6))\n",
        "ax = sns.lineplot(x='Models', y='Accuracy', data=modelScores)\n",
        "\n",
        "\n",
        "plt.tight_layout()"
      ],
      "execution_count": 30,
      "outputs": [
        {
          "output_type": "display_data",
          "data": {
            "image/png": "[encoded data removed]",
            "text/plain": [
              "<Figure size 576x432 with 1 Axes>"
            ]
          },
          "metadata": {
            "tags": []
          }
        }
      ]
    },
    {
      "cell_type": "markdown",
      "metadata": {
        "id": "5D-3yUavbYbx",
        "colab_type": "text"
      },
      "source": [
        "Avaliando somente pela acurácia o modelo de `Random Forest` foi aquele que teve melhor desempenho."
      ]
    },
    {
      "cell_type": "code",
      "metadata": {
        "id": "5w2Mg_QNdF4c",
        "colab_type": "code",
        "colab": {}
      },
      "source": [
        ""
      ],
      "execution_count": 0,
      "outputs": []
    }
  ]
}