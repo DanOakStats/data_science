{
 "cells": [
  {
   "cell_type": "markdown",
   "metadata": {
    "colab_type": "text",
    "id": "rSHfNbKc0aOD"
   },
   "source": [
    "# Análise Exploratória de Dados - Doenças Cardiovasculares\n",
    "\n",
    "Doenças cardiovasculares são uma classe contendo diferentes tipos de doenças que afetam de alguma maneira o coração ou os vasos sanguíneos. Dentro da classe, existem várias doenças comoangina de peito, cardiopatia, arritmia cardíaca e aneurisma da aorta.\n",
    "\n",
    "Segundo a OMS (Organização Mundial da Saúde), as doenças cardiovasculares são as principais causas mundiais de morte. No Brasil, 300 mil pessoas morrem anualmente, ou seja, um óbito a cada dois minutos é causado por esse tipo de enfermidade.\n",
    "\n",
    "Embora fatores não modificáveis, como predisposição genética, contribuam para a ocorrência de tais doenças, essas estatísticas podem ser explicadas principalmente pelos maus hábitos de vida da população. “Alimentação não balanceada, rica em gordura saturada, aliada ao sedentarismo, ao sobrepeso, à hipertensão, ao diabetes e ao tabagismo, por exemplo, aumenta consideravelmente o risco de o indivíduo ter um problema cardíaco no futuro”.\n",
    "\n",
    "Várias enfermidades estão no guarda-chuva das doenças cardiovasculares.\n",
    "\n",
    "<center><img width=\"60%\" src=\"https://www.bancodasaude.com/cdn/press/0000000008640.jpg\"></center>\n",
    "\n",
    "Existem hoje várias pesquisas na área de *Machine Learning* visando a construções de modelos preditivos que ajudem os médicos a descobrirem doenças cardiovasculares em seus pacientes.\n",
    "\n",
    "Estudos publicados na revista *na revista Nature Biomedical Engineering* mostram que algoritmos de *Deep Learning* foram capazes de antecipar doenças cardíacas em até 5 anos.\n",
    "\n",
    "Definitivamente, o uso de Inteligência Artificial tem impactado profundamente a área da saúde, e tem proporcionado aos profissionais médicos insumos de inteligência cada vez mais precisos.\n",
    "\n",
    "\n",
    "O objetivo principal da EDA é analisar os dados para distribuição, outliers e anomalias no conjunto de dados. Isso nos permite direcionar testes específicos da hipótese. Inclui análise dos dados para encontrar a distribuição dos dados, suas principais características, identificação de padrões e visualizações. Ele também fornece ferramentas para geração de hipóteses, visualizando e compreendendo os dados por meio de representação gráfica.\n",
    "\n"
   ]
  },
  {
   "cell_type": "markdown",
   "metadata": {
    "colab_type": "text",
    "id": "yocBiNd00aOF"
   },
   "source": [
    "## Obtenção dos Dados\n",
    "\n",
    "O conjunto principal de dados usado neste projeto foi coletado da ***Cleveland Clinic Foundation*** e se encontra disponível no conhecido [Repositório UCI *Machine Learning*](https://archive.ics.uci.edu/ml/datasets/heart+Disease). Ressalta-se que os nomes, identidade e documentos pessoais dos pacientes foram removidos completamente do banco de dados.\n",
    "\n",
    "O *dataset* processado contém dados de 303 pessoas e 76 atributos. Entretanto, os principais artigos e estudos publicados optaram por usar apenas 14 atributos, considerados de maior relevância. Da mesma maneira, este projeto de *Data Science* usará essas mesmas 14 variáveis principais.\n",
    "\n",
    "<p><img alt=\"Colaboratory logo\" height=\"100\" src=\"https://raw.githubusercontent.com/carlosfab/curso_data_science_na_pratica/master/modulo_03/Large45.jpg\" align=\"right\" hspace=\"20px\" vspace=\"0px\"></p>\n",
    "\n",
    "* O arquivo `csv` com os dados de 303 pessoas e 14 atributos pode ser baixado [neste link](https://raw.githubusercontent.com/DanOliveira-DS/data_science/master/datasets/heart.csv).\n",
    "\n",
    "* O arquivo contendo todos os detalhes e documentação do *dataset* usado neste projeto se encontra [neste link](https://raw.githubusercontent.com/DanOliveira-DS/data_science/master/datasets/heart-disease.names).\n",
    "\n",
    "\n",
    "\n"
   ]
  },
  {
   "cell_type": "markdown",
   "metadata": {
    "colab_type": "text",
    "id": "ihkyt5eI0aOJ"
   },
   "source": [
    "# Checklist\n",
    "\n",
    "\n",
    "1.   Introdução a Análise Explorátoria de Dados\n",
    "\n",
    "\n",
    "2.   Objetivos da Análise Explorátoria de Dados\n",
    "\n",
    "\n",
    "3.   Importando bibliotecas\n",
    "\n",
    "\n",
    "4.   Importando dataset\n",
    "\n",
    "\n",
    "5.   Analise Exploratoria dos Dados\n",
    "    * Tamanho do conjunto de dados\n",
    "    * Visualização do conjunto de dados\n",
    "    * Lidando com valores ausentes\n",
    "    * Informação sobre os atributos\n",
    "    * Verificando os tipos de dados das colunas\n",
    "    * Propriedades estatísticas do conjunto de dados\n",
    "    * Analise da variavel alvo(`target`)\n",
    "    * Relação entre varíavel alvo `target` e `sex`\n",
    "    * Estimativa de coeficientes de correlação\n",
    "    * Análise da variável `target` e `cp`\n",
    "    * Análise da variável `target` e `thalach`\n",
    "    * Mapa de calor\n",
    "\n",
    "6. Detecção de Outlier\n",
    "\n",
    "\n",
    "7. Conclusão\n",
    "\n",
    "\n",
    "\n",
    "\n",
    "\n",
    "\n",
    "\n",
    "\n",
    "\n"
   ]
  },
  {
   "cell_type": "markdown",
   "metadata": {
    "colab_type": "text",
    "id": "XDbxiNUV_yr2"
   },
   "source": [
    "# 1. Introdução a Análise Explorátoria de Dados\n",
    "Antes de resolver um problema, é preciso conhecer os dados. A Análise Exploratória de Dados reúne um conjunto de ferramentas úteis para resumir e visualizar as características de uma base de dados. Deve ser parte fundamental de qualquer projeto que utilize variáveis em sua pesquisa. Essas técnicas possibilitam criar uma primeira intuição sobre os dados, o que permite conhecer as suas informações e padrões, lançar hipóteses e melhor entender resultados de modelos ou análises subsequentes mais complexas."
   ]
  },
  {
   "cell_type": "markdown",
   "metadata": {
    "colab_type": "text",
    "id": "Cm55CwW9_8YI"
   },
   "source": [
    "# 2. Objetivos da Análise Explorátoria de Dados\n",
    "O objetivo principal da AED é maximizar a percepção do analista sobre um conjunto de dados e sobre a estrutura subjacente de um conjunto de dados. Fornecendo todos os itens específicos que um analista deseja extrair de um conjunto de dados, como:\n",
    "\n",
    "* Obter uma visão geral da distribuição do conjunto de dados.\n",
    "* Verificar se há valores numéricos ausentes, outliers ou outras anomalias no conjunto de dados.\n",
    "* Descobrir padrões e relacionamentos entre variáveis no conjunto de dados."
   ]
  },
  {
   "cell_type": "markdown",
   "metadata": {
    "colab_type": "text",
    "id": "9q3IVLIzHzow"
   },
   "source": [
    "# 3. Importando bibliotecas"
   ]
  },
  {
   "cell_type": "code",
   "execution_count": 0,
   "metadata": {
    "colab": {},
    "colab_type": "code",
    "id": "-KqqZ90-0aOH"
   },
   "outputs": [],
   "source": [
    "# Bibliotecas\n",
    "import numpy as np # Algebra linear\n",
    "import pandas as pd # Processamento de dados, E/S de arquivo CSV (ex:. pd.read_csv\n",
    "\n",
    "# visualização\n",
    "import matplotlib.pyplot as plt\n",
    "import seaborn as sns\n"
   ]
  },
  {
   "cell_type": "markdown",
   "metadata": {
    "colab_type": "text",
    "id": "ZeVlKgHtRsek"
   },
   "source": [
    "# 4. Importando dataset"
   ]
  },
  {
   "cell_type": "code",
   "execution_count": 0,
   "metadata": {
    "colab": {},
    "colab_type": "code",
    "id": "haZv_3L_Rsel"
   },
   "outputs": [],
   "source": [
    "uci_df = pd.read_csv(\"https://raw.githubusercontent.com/DanOliveira-DS/data_science/master/datasets/heart.csv\")"
   ]
  },
  {
   "cell_type": "markdown",
   "metadata": {
    "colab_type": "text",
    "id": "3ucXhzcERsen"
   },
   "source": [
    "# 5. Analise Exploratoria dos Dados"
   ]
  },
  {
   "cell_type": "markdown",
   "metadata": {
    "colab_type": "text",
    "id": "u4EnVwyvRsen"
   },
   "source": [
    "## Tamanho do conjunto de dados\n",
    "A primeira coisa que faremos após importar o dataset será examinar as dimensões do DataFrame e as primeiras entradas. Isso possibilitará criar uma consciência situacional inicial a respeito do formato de entrada e da estrutura geral dos dados.\n",
    "\n",
    "Em relação à dimensionalidade dos dados, nosso dataset é composto por 303 entradas e 14 colunas."
   ]
  },
  {
   "cell_type": "code",
   "execution_count": 3,
   "metadata": {
    "colab": {
     "base_uri": "https://localhost:8080/",
     "height": 85
    },
    "colab_type": "code",
    "executionInfo": {
     "elapsed": 2338,
     "status": "ok",
     "timestamp": 1577129347306,
     "user": {
      "displayName": "Danilo Oliveira",
      "photoUrl": "https://lh3.googleusercontent.com/a-/AAuE7mA96PDjf3AlIUVVpD04WpcVFsjs_NDSpoce3UyMZA=s64",
      "userId": "05448819522936834813"
     },
     "user_tz": 180
    },
    "id": "1n40jW4SRseo",
    "outputId": "3e304ff2-8c98-452a-86d9-5f14498d9acc",
    "scrolled": true
   },
   "outputs": [
    {
     "name": "stdout",
     "output_type": "stream",
     "text": [
      "DIMENSÃO DO CONJUNTO DE DADOS: (303, 14)\n",
      "\n",
      "LINHAS(ENTRADAS): 303\n",
      "COLUNAS(VARIÁVEIS): 14\n"
     ]
    }
   ],
   "source": [
    "print(f\"DIMENSÃO DO CONJUNTO DE DADOS: {uci_df.shape}\")\n",
    "\n",
    "print(f\"\\nLINHAS(ENTRADAS): {uci_df.shape[0]}\")\n",
    "print(f\"COLUNAS(VARIÁVEIS): {uci_df.shape[1]}\")"
   ]
  },
  {
   "cell_type": "markdown",
   "metadata": {
    "colab_type": "text",
    "id": "qUEVOh2FRses"
   },
   "source": [
    "## Visualização do conjunto de dados\n",
    "Visualizar as 5 entradas desse conjunto de dados nos permitem adquirirmos uma noção inicial sobre o tipo de formato, exemplos de entrada e formulação das hipóteses iniciais do processo investigativo."
   ]
  },
  {
   "cell_type": "code",
   "execution_count": 4,
   "metadata": {
    "colab": {
     "base_uri": "https://localhost:8080/",
     "height": 204
    },
    "colab_type": "code",
    "executionInfo": {
     "elapsed": 2333,
     "status": "ok",
     "timestamp": 1577129347307,
     "user": {
      "displayName": "Danilo Oliveira",
      "photoUrl": "https://lh3.googleusercontent.com/a-/AAuE7mA96PDjf3AlIUVVpD04WpcVFsjs_NDSpoce3UyMZA=s64",
      "userId": "05448819522936834813"
     },
     "user_tz": 180
    },
    "id": "22_9Lxc7Rses",
    "outputId": "82c50774-476a-44cb-bcee-5dbf85585b8c"
   },
   "outputs": [
    {
     "data": {
      "text/html": [
       "<div>\n",
       "<style scoped>\n",
       "    .dataframe tbody tr th:only-of-type {\n",
       "        vertical-align: middle;\n",
       "    }\n",
       "\n",
       "    .dataframe tbody tr th {\n",
       "        vertical-align: top;\n",
       "    }\n",
       "\n",
       "    .dataframe thead th {\n",
       "        text-align: right;\n",
       "    }\n",
       "</style>\n",
       "<table border=\"1\" class=\"dataframe\">\n",
       "  <thead>\n",
       "    <tr style=\"text-align: right;\">\n",
       "      <th></th>\n",
       "      <th>age</th>\n",
       "      <th>sex</th>\n",
       "      <th>cp</th>\n",
       "      <th>trestbps</th>\n",
       "      <th>chol</th>\n",
       "      <th>fbs</th>\n",
       "      <th>restecg</th>\n",
       "      <th>thalach</th>\n",
       "      <th>exang</th>\n",
       "      <th>oldpeak</th>\n",
       "      <th>slope</th>\n",
       "      <th>ca</th>\n",
       "      <th>thal</th>\n",
       "      <th>target</th>\n",
       "    </tr>\n",
       "  </thead>\n",
       "  <tbody>\n",
       "    <tr>\n",
       "      <th>0</th>\n",
       "      <td>63</td>\n",
       "      <td>1</td>\n",
       "      <td>3</td>\n",
       "      <td>145</td>\n",
       "      <td>233</td>\n",
       "      <td>1</td>\n",
       "      <td>0</td>\n",
       "      <td>150</td>\n",
       "      <td>0</td>\n",
       "      <td>2.3</td>\n",
       "      <td>0</td>\n",
       "      <td>0</td>\n",
       "      <td>1</td>\n",
       "      <td>1</td>\n",
       "    </tr>\n",
       "    <tr>\n",
       "      <th>1</th>\n",
       "      <td>37</td>\n",
       "      <td>1</td>\n",
       "      <td>2</td>\n",
       "      <td>130</td>\n",
       "      <td>250</td>\n",
       "      <td>0</td>\n",
       "      <td>1</td>\n",
       "      <td>187</td>\n",
       "      <td>0</td>\n",
       "      <td>3.5</td>\n",
       "      <td>0</td>\n",
       "      <td>0</td>\n",
       "      <td>2</td>\n",
       "      <td>1</td>\n",
       "    </tr>\n",
       "    <tr>\n",
       "      <th>2</th>\n",
       "      <td>41</td>\n",
       "      <td>0</td>\n",
       "      <td>1</td>\n",
       "      <td>130</td>\n",
       "      <td>204</td>\n",
       "      <td>0</td>\n",
       "      <td>0</td>\n",
       "      <td>172</td>\n",
       "      <td>0</td>\n",
       "      <td>1.4</td>\n",
       "      <td>2</td>\n",
       "      <td>0</td>\n",
       "      <td>2</td>\n",
       "      <td>1</td>\n",
       "    </tr>\n",
       "    <tr>\n",
       "      <th>3</th>\n",
       "      <td>56</td>\n",
       "      <td>1</td>\n",
       "      <td>1</td>\n",
       "      <td>120</td>\n",
       "      <td>236</td>\n",
       "      <td>0</td>\n",
       "      <td>1</td>\n",
       "      <td>178</td>\n",
       "      <td>0</td>\n",
       "      <td>0.8</td>\n",
       "      <td>2</td>\n",
       "      <td>0</td>\n",
       "      <td>2</td>\n",
       "      <td>1</td>\n",
       "    </tr>\n",
       "    <tr>\n",
       "      <th>4</th>\n",
       "      <td>57</td>\n",
       "      <td>0</td>\n",
       "      <td>0</td>\n",
       "      <td>120</td>\n",
       "      <td>354</td>\n",
       "      <td>0</td>\n",
       "      <td>1</td>\n",
       "      <td>163</td>\n",
       "      <td>1</td>\n",
       "      <td>0.6</td>\n",
       "      <td>2</td>\n",
       "      <td>0</td>\n",
       "      <td>2</td>\n",
       "      <td>1</td>\n",
       "    </tr>\n",
       "  </tbody>\n",
       "</table>\n",
       "</div>"
      ],
      "text/plain": [
       "   age  sex  cp  trestbps  chol  fbs  ...  exang  oldpeak  slope  ca  thal  target\n",
       "0   63    1   3       145   233    1  ...      0      2.3      0   0     1       1\n",
       "1   37    1   2       130   250    0  ...      0      3.5      0   0     2       1\n",
       "2   41    0   1       130   204    0  ...      0      1.4      2   0     2       1\n",
       "3   56    1   1       120   236    0  ...      0      0.8      2   0     2       1\n",
       "4   57    0   0       120   354    0  ...      1      0.6      2   0     2       1\n",
       "\n",
       "[5 rows x 14 columns]"
      ]
     },
     "execution_count": 4,
     "metadata": {
      "tags": []
     },
     "output_type": "execute_result"
    }
   ],
   "source": [
    "uci_df.head()"
   ]
  },
  {
   "cell_type": "markdown",
   "metadata": {
    "colab_type": "text",
    "id": "xnX3G7lwRsex"
   },
   "source": [
    "## Lidando com valores ausentes\n",
    "Um passo importante na análise de dados é verificação de dados ausentes, isso porque a qualidade de um dataset está diretamente relacionada à quantidade de valores ausentes. É importante entender logo no início se esses valores nulos são significativos comparados ao total de entradas. Caso eles sejam significativos será necessario um tratamento nos dados antes de realizarmos nossas analises.\n",
    "\n",
    "Temos duas formas de realizar essa leitura:\n",
    "\n",
    "- O comando `uci_df.info()` nos fornece o número de valores preenchidos junto com os tipos de dados das colunas. Este método nos possibilita uma rapida leitura para possíveis valores ausentes.\n",
    "\n",
    "- O comando uci_df.isnull().sum() retorna o numero total de valores nulos para cada coluna do nosso DataFrame"
   ]
  },
  {
   "cell_type": "code",
   "execution_count": 5,
   "metadata": {
    "colab": {
     "base_uri": "https://localhost:8080/",
     "height": 340
    },
    "colab_type": "code",
    "executionInfo": {
     "elapsed": 2328,
     "status": "ok",
     "timestamp": 1577129347307,
     "user": {
      "displayName": "Danilo Oliveira",
      "photoUrl": "https://lh3.googleusercontent.com/a-/AAuE7mA96PDjf3AlIUVVpD04WpcVFsjs_NDSpoce3UyMZA=s64",
      "userId": "05448819522936834813"
     },
     "user_tz": 180
    },
    "id": "m26OYahsRsey",
    "outputId": "25a3de85-c3f4-43a3-a12d-3a1dfb00c94c"
   },
   "outputs": [
    {
     "name": "stdout",
     "output_type": "stream",
     "text": [
      "<class 'pandas.core.frame.DataFrame'>\n",
      "RangeIndex: 303 entries, 0 to 302\n",
      "Data columns (total 14 columns):\n",
      "age         303 non-null int64\n",
      "sex         303 non-null int64\n",
      "cp          303 non-null int64\n",
      "trestbps    303 non-null int64\n",
      "chol        303 non-null int64\n",
      "fbs         303 non-null int64\n",
      "restecg     303 non-null int64\n",
      "thalach     303 non-null int64\n",
      "exang       303 non-null int64\n",
      "oldpeak     303 non-null float64\n",
      "slope       303 non-null int64\n",
      "ca          303 non-null int64\n",
      "thal        303 non-null int64\n",
      "target      303 non-null int64\n",
      "dtypes: float64(1), int64(13)\n",
      "memory usage: 33.3 KB\n"
     ]
    }
   ],
   "source": [
    "# resumo do conjunto de dados\n",
    "uci_df.info()"
   ]
  },
  {
   "cell_type": "code",
   "execution_count": 6,
   "metadata": {
    "colab": {
     "base_uri": "https://localhost:8080/",
     "height": 272
    },
    "colab_type": "code",
    "executionInfo": {
     "elapsed": 2324,
     "status": "ok",
     "timestamp": 1577129347308,
     "user": {
      "displayName": "Danilo Oliveira",
      "photoUrl": "https://lh3.googleusercontent.com/a-/AAuE7mA96PDjf3AlIUVVpD04WpcVFsjs_NDSpoce3UyMZA=s64",
      "userId": "05448819522936834813"
     },
     "user_tz": 180
    },
    "id": "lXEzZYVBRsfm",
    "outputId": "bbf3fe6e-8ce5-49b4-c80c-b63fa0795a06"
   },
   "outputs": [
    {
     "data": {
      "text/plain": [
       "age         0\n",
       "sex         0\n",
       "cp          0\n",
       "trestbps    0\n",
       "chol        0\n",
       "fbs         0\n",
       "restecg     0\n",
       "thalach     0\n",
       "exang       0\n",
       "oldpeak     0\n",
       "slope       0\n",
       "ca          0\n",
       "thal        0\n",
       "target      0\n",
       "dtype: int64"
      ]
     },
     "execution_count": 6,
     "metadata": {
      "tags": []
     },
     "output_type": "execute_result"
    }
   ],
   "source": [
    "#  numero total de valores nulos para cada coluna do nosso DataFrame\n",
    "uci_df.isnull().sum()"
   ]
  },
  {
   "cell_type": "markdown",
   "metadata": {
    "colab_type": "text",
    "id": "tR71OKdtRsfn"
   },
   "source": [
    "Percebesse que nao há valores ausentes no conjunto de dados"
   ]
  },
  {
   "cell_type": "markdown",
   "metadata": {
    "colab_type": "text",
    "id": "F4jy2D_10aOG"
   },
   "source": [
    "## Informações sobre os atributos:\n",
    "\n",
    "\n",
    "* `age` - idade em anos\n",
    "* `sex` - sexo do paciente\n",
    "  * 0: mulher\n",
    "  * 1: homem\n",
    "* `cp` - tipo da dor torácica\n",
    "  * 1: angina típica\n",
    "  * 2: angina atípica\n",
    "  * 3: dor não cardíaca\n",
    "  * 4: assintomática\n",
    "* `trestbps` - pressão arterial em repouso\n",
    "* `chol` - colesterol sérico (*mg/dl*)\n",
    "* `fbs` - açucar no sangue em jejum > 120*mg/dl*\n",
    "  * 0: `False`\n",
    "  * 1: `True`\n",
    "* `restecg` - resultado do eletrocardiografia de repouso\n",
    "  * 0: normal\n",
    "  * 1: anormalidades de ST-T  (inversão da onda T e elevação ou depressão de > 0.05*mV*)\n",
    "  * 2: hipertrofia ventricular esquerda provável ou definitiva (pelos critérios de Romhilt-Estes)\n",
    "* `thalach` - frequência cardíaca máxima atingida\n",
    "* `exang` - angina induzida pelo exercício\n",
    "  * 0: não\n",
    "  * 1: sim\n",
    "* `oldpeak` - depessão do segmento ST induzida pelo exercício em relação ao repouso\n",
    "* `slope` - inclinação do segmento ST no pico do exercício\n",
    "* `ca` - número de vasos principais colorido por fluoroscopia\n",
    "* `thal` - *thallium stress test*\n",
    "  * 3: normal\n",
    "  * 6: defeito fixo\n",
    "  * 7: defeito reversível\n",
    "* `target` - diagnóstico de doença cardíaca (diagnóstico angiográfico)\n",
    "  * 0: não há doença cardíaca ( < 50% de estreitamento do diâmetro)\n",
    "  * 1: há doença cardíaca ( > 50% de estreitamento do diâmetro)"
   ]
  },
  {
   "cell_type": "markdown",
   "metadata": {
    "colab_type": "text",
    "id": "1xYymarqRse1"
   },
   "source": [
    "## Verificando os tipos de dados das colunas\n",
    "Vamos realizar o levantamento dos tipos de variáveis que compõem o DataFrame a fim de estabelecer a divisão entre as variáveis numéricas e as variáveis categóricas."
   ]
  },
  {
   "cell_type": "code",
   "execution_count": 7,
   "metadata": {
    "colab": {
     "base_uri": "https://localhost:8080/",
     "height": 272
    },
    "colab_type": "code",
    "executionInfo": {
     "elapsed": 2319,
     "status": "ok",
     "timestamp": 1577129347309,
     "user": {
      "displayName": "Danilo Oliveira",
      "photoUrl": "https://lh3.googleusercontent.com/a-/AAuE7mA96PDjf3AlIUVVpD04WpcVFsjs_NDSpoce3UyMZA=s64",
      "userId": "05448819522936834813"
     },
     "user_tz": 180
    },
    "id": "ysFP08U0Rse2",
    "outputId": "57e2add1-3704-45ed-b294-d09f3ebe53f0"
   },
   "outputs": [
    {
     "data": {
      "text/plain": [
       "age           int64\n",
       "sex           int64\n",
       "cp            int64\n",
       "trestbps      int64\n",
       "chol          int64\n",
       "fbs           int64\n",
       "restecg       int64\n",
       "thalach       int64\n",
       "exang         int64\n",
       "oldpeak     float64\n",
       "slope         int64\n",
       "ca            int64\n",
       "thal          int64\n",
       "target        int64\n",
       "dtype: object"
      ]
     },
     "execution_count": 7,
     "metadata": {
      "tags": []
     },
     "output_type": "execute_result"
    }
   ],
   "source": [
    "uci_df.dtypes"
   ]
  },
  {
   "cell_type": "markdown",
   "metadata": {
    "colab_type": "text",
    "id": "IxoEeOZhRse3"
   },
   "source": [
    "Aqui podemos levantar alguns pontos interessantes:\n",
    "   * A varíavel `sex` é categorica. Seu tipo de dado deveria ser `object`, mas foi codificada como (1 = Masculino, 0 = Feminino). Portanto seu tipo de dado é `int64`\n",
    "   * O mesmo acontece com outras variaveis - `fbs` `exang` e `target`\n",
    "\n",
    "Esse tratamento nos tipos de dados facilita nossas análises\n",
    "   "
   ]
  },
  {
   "cell_type": "markdown",
   "metadata": {
    "colab_type": "text",
    "id": "fxvI3a31Rse4"
   },
   "source": [
    "## Propriedades estatísticas do conjunto de dados\n",
    "O comando `uci_df.describe()` nos ajuda a visualizar as propriedades estatísticas de variáveis `numéricas`. Exclui variáveis de `caracteres`.\n",
    "\n",
    "Imediatamente você obtém um resumo contendo algumas das principais informações estatísticas relevantes:\n",
    "\n",
    "* count - quantidade de entradas válidas\n",
    "* mean - média dos valores\n",
    "* std - desvio padrão\n",
    "* min - menor valor da coluna\n",
    "* 25% - (Q1) primeiro quartil 25\n",
    "* 50% - mediana\n",
    "* 75% - (Q3) terceiro quartil 75\n",
    "* max - maior valor da coluna\n",
    "\n",
    "Com método `.describe()` é possível identificar colunas com valores ausentes e possíveis outliers (por exemplo, olhando o valor da mediana e comparando com valores máximos e mínimos)"
   ]
  },
  {
   "cell_type": "code",
   "execution_count": 8,
   "metadata": {
    "colab": {
     "base_uri": "https://localhost:8080/",
     "height": 297
    },
    "colab_type": "code",
    "executionInfo": {
     "elapsed": 2314,
     "status": "ok",
     "timestamp": 1577129347309,
     "user": {
      "displayName": "Danilo Oliveira",
      "photoUrl": "https://lh3.googleusercontent.com/a-/AAuE7mA96PDjf3AlIUVVpD04WpcVFsjs_NDSpoce3UyMZA=s64",
      "userId": "05448819522936834813"
     },
     "user_tz": 180
    },
    "id": "B26OWDY1Rse5",
    "outputId": "26136e0e-1fcf-4f06-8301-06be47c88618"
   },
   "outputs": [
    {
     "data": {
      "text/html": [
       "<div>\n",
       "<style scoped>\n",
       "    .dataframe tbody tr th:only-of-type {\n",
       "        vertical-align: middle;\n",
       "    }\n",
       "\n",
       "    .dataframe tbody tr th {\n",
       "        vertical-align: top;\n",
       "    }\n",
       "\n",
       "    .dataframe thead th {\n",
       "        text-align: right;\n",
       "    }\n",
       "</style>\n",
       "<table border=\"1\" class=\"dataframe\">\n",
       "  <thead>\n",
       "    <tr style=\"text-align: right;\">\n",
       "      <th></th>\n",
       "      <th>age</th>\n",
       "      <th>sex</th>\n",
       "      <th>cp</th>\n",
       "      <th>trestbps</th>\n",
       "      <th>chol</th>\n",
       "      <th>fbs</th>\n",
       "      <th>restecg</th>\n",
       "      <th>thalach</th>\n",
       "      <th>exang</th>\n",
       "      <th>oldpeak</th>\n",
       "      <th>slope</th>\n",
       "      <th>ca</th>\n",
       "      <th>thal</th>\n",
       "      <th>target</th>\n",
       "    </tr>\n",
       "  </thead>\n",
       "  <tbody>\n",
       "    <tr>\n",
       "      <th>count</th>\n",
       "      <td>303.000000</td>\n",
       "      <td>303.000000</td>\n",
       "      <td>303.000000</td>\n",
       "      <td>303.000000</td>\n",
       "      <td>303.000000</td>\n",
       "      <td>303.000000</td>\n",
       "      <td>303.000000</td>\n",
       "      <td>303.000000</td>\n",
       "      <td>303.000000</td>\n",
       "      <td>303.000000</td>\n",
       "      <td>303.000000</td>\n",
       "      <td>303.000000</td>\n",
       "      <td>303.000000</td>\n",
       "      <td>303.000000</td>\n",
       "    </tr>\n",
       "    <tr>\n",
       "      <th>mean</th>\n",
       "      <td>54.366337</td>\n",
       "      <td>0.683168</td>\n",
       "      <td>0.966997</td>\n",
       "      <td>131.623762</td>\n",
       "      <td>246.264026</td>\n",
       "      <td>0.148515</td>\n",
       "      <td>0.528053</td>\n",
       "      <td>149.646865</td>\n",
       "      <td>0.326733</td>\n",
       "      <td>1.039604</td>\n",
       "      <td>1.399340</td>\n",
       "      <td>0.729373</td>\n",
       "      <td>2.313531</td>\n",
       "      <td>0.544554</td>\n",
       "    </tr>\n",
       "    <tr>\n",
       "      <th>std</th>\n",
       "      <td>9.082101</td>\n",
       "      <td>0.466011</td>\n",
       "      <td>1.032052</td>\n",
       "      <td>17.538143</td>\n",
       "      <td>51.830751</td>\n",
       "      <td>0.356198</td>\n",
       "      <td>0.525860</td>\n",
       "      <td>22.905161</td>\n",
       "      <td>0.469794</td>\n",
       "      <td>1.161075</td>\n",
       "      <td>0.616226</td>\n",
       "      <td>1.022606</td>\n",
       "      <td>0.612277</td>\n",
       "      <td>0.498835</td>\n",
       "    </tr>\n",
       "    <tr>\n",
       "      <th>min</th>\n",
       "      <td>29.000000</td>\n",
       "      <td>0.000000</td>\n",
       "      <td>0.000000</td>\n",
       "      <td>94.000000</td>\n",
       "      <td>126.000000</td>\n",
       "      <td>0.000000</td>\n",
       "      <td>0.000000</td>\n",
       "      <td>71.000000</td>\n",
       "      <td>0.000000</td>\n",
       "      <td>0.000000</td>\n",
       "      <td>0.000000</td>\n",
       "      <td>0.000000</td>\n",
       "      <td>0.000000</td>\n",
       "      <td>0.000000</td>\n",
       "    </tr>\n",
       "    <tr>\n",
       "      <th>25%</th>\n",
       "      <td>47.500000</td>\n",
       "      <td>0.000000</td>\n",
       "      <td>0.000000</td>\n",
       "      <td>120.000000</td>\n",
       "      <td>211.000000</td>\n",
       "      <td>0.000000</td>\n",
       "      <td>0.000000</td>\n",
       "      <td>133.500000</td>\n",
       "      <td>0.000000</td>\n",
       "      <td>0.000000</td>\n",
       "      <td>1.000000</td>\n",
       "      <td>0.000000</td>\n",
       "      <td>2.000000</td>\n",
       "      <td>0.000000</td>\n",
       "    </tr>\n",
       "    <tr>\n",
       "      <th>50%</th>\n",
       "      <td>55.000000</td>\n",
       "      <td>1.000000</td>\n",
       "      <td>1.000000</td>\n",
       "      <td>130.000000</td>\n",
       "      <td>240.000000</td>\n",
       "      <td>0.000000</td>\n",
       "      <td>1.000000</td>\n",
       "      <td>153.000000</td>\n",
       "      <td>0.000000</td>\n",
       "      <td>0.800000</td>\n",
       "      <td>1.000000</td>\n",
       "      <td>0.000000</td>\n",
       "      <td>2.000000</td>\n",
       "      <td>1.000000</td>\n",
       "    </tr>\n",
       "    <tr>\n",
       "      <th>75%</th>\n",
       "      <td>61.000000</td>\n",
       "      <td>1.000000</td>\n",
       "      <td>2.000000</td>\n",
       "      <td>140.000000</td>\n",
       "      <td>274.500000</td>\n",
       "      <td>0.000000</td>\n",
       "      <td>1.000000</td>\n",
       "      <td>166.000000</td>\n",
       "      <td>1.000000</td>\n",
       "      <td>1.600000</td>\n",
       "      <td>2.000000</td>\n",
       "      <td>1.000000</td>\n",
       "      <td>3.000000</td>\n",
       "      <td>1.000000</td>\n",
       "    </tr>\n",
       "    <tr>\n",
       "      <th>max</th>\n",
       "      <td>77.000000</td>\n",
       "      <td>1.000000</td>\n",
       "      <td>3.000000</td>\n",
       "      <td>200.000000</td>\n",
       "      <td>564.000000</td>\n",
       "      <td>1.000000</td>\n",
       "      <td>2.000000</td>\n",
       "      <td>202.000000</td>\n",
       "      <td>1.000000</td>\n",
       "      <td>6.200000</td>\n",
       "      <td>2.000000</td>\n",
       "      <td>4.000000</td>\n",
       "      <td>3.000000</td>\n",
       "      <td>1.000000</td>\n",
       "    </tr>\n",
       "  </tbody>\n",
       "</table>\n",
       "</div>"
      ],
      "text/plain": [
       "              age         sex          cp  ...          ca        thal      target\n",
       "count  303.000000  303.000000  303.000000  ...  303.000000  303.000000  303.000000\n",
       "mean    54.366337    0.683168    0.966997  ...    0.729373    2.313531    0.544554\n",
       "std      9.082101    0.466011    1.032052  ...    1.022606    0.612277    0.498835\n",
       "min     29.000000    0.000000    0.000000  ...    0.000000    0.000000    0.000000\n",
       "25%     47.500000    0.000000    0.000000  ...    0.000000    2.000000    0.000000\n",
       "50%     55.000000    1.000000    1.000000  ...    0.000000    2.000000    1.000000\n",
       "75%     61.000000    1.000000    2.000000  ...    1.000000    3.000000    1.000000\n",
       "max     77.000000    1.000000    3.000000  ...    4.000000    3.000000    1.000000\n",
       "\n",
       "[8 rows x 14 columns]"
      ]
     },
     "execution_count": 8,
     "metadata": {
      "tags": []
     },
     "output_type": "execute_result"
    }
   ],
   "source": [
    "uci_df.describe()"
   ]
  },
  {
   "cell_type": "markdown",
   "metadata": {
    "colab_type": "text",
    "id": "nd0Fxs5NxnAf"
   },
   "source": [
    "Analisando a matriz acima percebesse que:\n",
    "\n",
    " * As varíaveis `trestbps`, `chol`, `thalach` e `oldpeak` estão apreentando possíveis *outliers*. Para termos certeza iremos investiga-las mais a frente.\n",
    " \n",
    " "
   ]
  },
  {
   "cell_type": "markdown",
   "metadata": {
    "colab_type": "text",
    "id": "vwrx_kvoRse6"
   },
   "source": [
    "## Analise da variavel alvo(`target`)\n",
    "Nossa varíavel alvo `target` representa a presença de doença cardíaca no paciente. Caracterizada por numeros inteiros no dataset:\n",
    " * 0 = ausência de doença cardíaca;\n",
    " * 1 = presença de doença cardíaca.\n",
    " \n",
    "Portanto vamos analisa-la."
   ]
  },
  {
   "cell_type": "code",
   "execution_count": 9,
   "metadata": {
    "colab": {
     "base_uri": "https://localhost:8080/",
     "height": 34
    },
    "colab_type": "code",
    "executionInfo": {
     "elapsed": 2310,
     "status": "ok",
     "timestamp": 1577129347310,
     "user": {
      "displayName": "Danilo Oliveira",
      "photoUrl": "https://lh3.googleusercontent.com/a-/AAuE7mA96PDjf3AlIUVVpD04WpcVFsjs_NDSpoce3UyMZA=s64",
      "userId": "05448819522936834813"
     },
     "user_tz": 180
    },
    "id": "O0MdFGcRRse7",
    "outputId": "6c03268b-d457-495a-a9b5-21a92e54f5d6"
   },
   "outputs": [
    {
     "data": {
      "text/plain": [
       "2"
      ]
     },
     "execution_count": 9,
     "metadata": {
      "tags": []
     },
     "output_type": "execute_result"
    }
   ],
   "source": [
    "# Verifando o numero de valores unicos na variavel alvo\n",
    "uci_df.target.nunique()"
   ]
  },
  {
   "cell_type": "code",
   "execution_count": 10,
   "metadata": {
    "colab": {
     "base_uri": "https://localhost:8080/",
     "height": 34
    },
    "colab_type": "code",
    "executionInfo": {
     "elapsed": 2304,
     "status": "ok",
     "timestamp": 1577129347310,
     "user": {
      "displayName": "Danilo Oliveira",
      "photoUrl": "https://lh3.googleusercontent.com/a-/AAuE7mA96PDjf3AlIUVVpD04WpcVFsjs_NDSpoce3UyMZA=s64",
      "userId": "05448819522936834813"
     },
     "user_tz": 180
    },
    "id": "dtIRuqTZRse-",
    "outputId": "da2f6c4f-4fa8-4ffb-aadb-0bcb1573490e"
   },
   "outputs": [
    {
     "data": {
      "text/plain": [
       "array([1, 0])"
      ]
     },
     "execution_count": 10,
     "metadata": {
      "tags": []
     },
     "output_type": "execute_result"
    }
   ],
   "source": [
    "# Vericando os valores unicos da variavel alvo\n",
    "uci_df.target.unique()"
   ]
  },
  {
   "cell_type": "code",
   "execution_count": 11,
   "metadata": {
    "colab": {
     "base_uri": "https://localhost:8080/",
     "height": 68
    },
    "colab_type": "code",
    "executionInfo": {
     "elapsed": 2300,
     "status": "ok",
     "timestamp": 1577129347311,
     "user": {
      "displayName": "Danilo Oliveira",
      "photoUrl": "https://lh3.googleusercontent.com/a-/AAuE7mA96PDjf3AlIUVVpD04WpcVFsjs_NDSpoce3UyMZA=s64",
      "userId": "05448819522936834813"
     },
     "user_tz": 180
    },
    "id": "A3rx670uRsfA",
    "outputId": "1d928bd8-0faa-472e-c497-300017c79483"
   },
   "outputs": [
    {
     "data": {
      "text/plain": [
       "1    165\n",
       "0    138\n",
       "Name: target, dtype: int64"
      ]
     },
     "execution_count": 11,
     "metadata": {
      "tags": []
     },
     "output_type": "execute_result"
    }
   ],
   "source": [
    "# frequencia dos valores da varíavel alvo\n",
    "uci_df.target.value_counts()"
   ]
  },
  {
   "cell_type": "code",
   "execution_count": 12,
   "metadata": {
    "colab": {
     "base_uri": "https://localhost:8080/",
     "height": 279
    },
    "colab_type": "code",
    "executionInfo": {
     "elapsed": 2671,
     "status": "ok",
     "timestamp": 1577129347688,
     "user": {
      "displayName": "Danilo Oliveira",
      "photoUrl": "https://lh3.googleusercontent.com/a-/AAuE7mA96PDjf3AlIUVVpD04WpcVFsjs_NDSpoce3UyMZA=s64",
      "userId": "05448819522936834813"
     },
     "user_tz": 180
    },
    "id": "VYt-t94NRsfC",
    "outputId": "28ff0951-9395-4c2d-b847-6d20ad7857a8"
   },
   "outputs": [
    {
     "data": {
      "image/png": "[encoded data removed]",
      "text/plain": [
       "<Figure size 432x288 with 1 Axes>"
      ]
     },
     "metadata": {
      "tags": []
     },
     "output_type": "display_data"
    }
   ],
   "source": [
    "# visualização da frequencia dos valores da varíavel alvo\n",
    "f, ax = plt.subplots(figsize=(6,4))\n",
    "ax = sns.countplot(x=\"target\", data=uci_df)\n",
    "plt.show()"
   ]
  },
  {
   "cell_type": "markdown",
   "metadata": {
    "colab_type": "text",
    "id": "_hEdquvKRsfD"
   },
   "source": [
    "Nosso gráfico confirma que:\n",
    " * **165** dos pacientes sofrem de doenças cardíacas;\n",
    "\n",
    " * **138** dos pacientes não sofrem de nenhuma doença cardíaca.\n"
   ]
  },
  {
   "cell_type": "markdown",
   "metadata": {
    "colab_type": "text",
    "id": "RuzmVuTGRsfE"
   },
   "source": [
    "## Relação entre varíavel alvo `target` e `sex`"
   ]
  },
  {
   "cell_type": "code",
   "execution_count": 13,
   "metadata": {
    "colab": {
     "base_uri": "https://localhost:8080/",
     "height": 119
    },
    "colab_type": "code",
    "executionInfo": {
     "elapsed": 2666,
     "status": "ok",
     "timestamp": 1577129347688,
     "user": {
      "displayName": "Danilo Oliveira",
      "photoUrl": "https://lh3.googleusercontent.com/a-/AAuE7mA96PDjf3AlIUVVpD04WpcVFsjs_NDSpoce3UyMZA=s64",
      "userId": "05448819522936834813"
     },
     "user_tz": 180
    },
    "id": "6MMZH8z3RsfF",
    "outputId": "a764b51a-899d-436a-953c-d0d1edc35881"
   },
   "outputs": [
    {
     "data": {
      "text/plain": [
       "sex  target\n",
       "0    1          72\n",
       "     0          24\n",
       "1    0         114\n",
       "     1          93\n",
       "Name: target, dtype: int64"
      ]
     },
     "execution_count": 13,
     "metadata": {
      "tags": []
     },
     "output_type": "execute_result"
    }
   ],
   "source": [
    "uci_df.groupby(['sex']).target.value_counts()"
   ]
  },
  {
   "cell_type": "markdown",
   "metadata": {
    "colab_type": "text",
    "id": "P3t7akeVRsfH"
   },
   "source": [
    "A variavel `sex` e caracterizada por inteiros 1 e 0:(1= masculino; 0= feminino).\n",
    "\n",
    "Assim conseguimos deduzir:\n",
    "\n",
    " * De 96 pacientes femininas - 72 apresentam doenca cardiaca e 24 a ausência da doença cardíaca\n",
    " \n",
    " * Dos 207 pacientes masculinos - 93 apresenta doença cardíaca e 114 a ausência da doença cardíaca\n",
    " \n",
    "Abaixo apresentamos de forma gráfica esses resultados."
   ]
  },
  {
   "cell_type": "code",
   "execution_count": 14,
   "metadata": {
    "colab": {
     "base_uri": "https://localhost:8080/",
     "height": 297
    },
    "colab_type": "code",
    "executionInfo": {
     "elapsed": 3495,
     "status": "ok",
     "timestamp": 1577129348522,
     "user": {
      "displayName": "Danilo Oliveira",
      "photoUrl": "https://lh3.googleusercontent.com/a-/AAuE7mA96PDjf3AlIUVVpD04WpcVFsjs_NDSpoce3UyMZA=s64",
      "userId": "05448819522936834813"
     },
     "user_tz": 180
    },
    "id": "VpiuRk42RsfI",
    "outputId": "cd9e8c51-c464-473c-cb29-f9ea166e0421"
   },
   "outputs": [
    {
     "data": {
      "image/png": "[encoded data removed]",
      "text/plain": [
       "<Figure size 460.8x288 with 2 Axes>"
      ]
     },
     "metadata": {
      "tags": []
     },
     "output_type": "display_data"
    }
   ],
   "source": [
    "sns.catplot(x=\"target\", col=\"sex\", data=uci_df, kind=\"count\", height=4, aspect=0.8);"
   ]
  },
  {
   "cell_type": "markdown",
   "metadata": {
    "colab_type": "text",
    "id": "NAjPy3AURsfL"
   },
   "source": [
    "## Coeficientes de correlação\n",
    "Correlação significa que existe uma relação entre duas coisas. No nosso contexto, estamos buscando relação ou semelhança entre duas variáveis. Essa relação pode ser medida, e é função do coeficiente de correlação estabelecer qual a intensidade dela.\n",
    " - O coeficiente de correlação varia de -1 a + 1; \n",
    " - Quando estiver próximo de +1, isso significa que há uma forte correlação positiva; \n",
    " - Quando estiver proximo -1, significa que há uma forte correlação negativa.\n",
    "\n",
    "Para identificar as correlações existentes entre as variáveis de interesse, vou:\n",
    "\n",
    " - Criar uma matriz de correlação;\n",
    " - Analisar a correlação das nossas variaveis em relação a nossa variavel alvo `target`\n",
    " - Para uma visualização mais macro vamos plotar um heatmap(mapa de calor)\n"
   ]
  },
  {
   "cell_type": "code",
   "execution_count": 0,
   "metadata": {
    "colab": {},
    "colab_type": "code",
    "id": "sfclcVkMRsfM"
   },
   "outputs": [],
   "source": [
    "# matriz de correlação\n",
    "corr = uci_df.corr()"
   ]
  },
  {
   "cell_type": "code",
   "execution_count": 16,
   "metadata": {
    "colab": {
     "base_uri": "https://localhost:8080/",
     "height": 0
    },
    "colab_type": "code",
    "executionInfo": {
     "elapsed": 3488,
     "status": "ok",
     "timestamp": 1577129348523,
     "user": {
      "displayName": "Danilo Oliveira",
      "photoUrl": "https://lh3.googleusercontent.com/a-/AAuE7mA96PDjf3AlIUVVpD04WpcVFsjs_NDSpoce3UyMZA=s64",
      "userId": "05448819522936834813"
     },
     "user_tz": 180
    },
    "id": "xOFycuyZRsfO",
    "outputId": "2cc25afa-7ac5-4a7b-9b8d-d82b830b6405"
   },
   "outputs": [
    {
     "data": {
      "text/plain": [
       "target      1.000000\n",
       "cp          0.433798\n",
       "thalach     0.421741\n",
       "slope       0.345877\n",
       "restecg     0.137230\n",
       "fbs        -0.028046\n",
       "chol       -0.085239\n",
       "trestbps   -0.144931\n",
       "age        -0.225439\n",
       "sex        -0.280937\n",
       "thal       -0.344029\n",
       "ca         -0.391724\n",
       "oldpeak    -0.430696\n",
       "exang      -0.436757\n",
       "Name: target, dtype: float64"
      ]
     },
     "execution_count": 16,
     "metadata": {
      "tags": []
     },
     "output_type": "execute_result"
    }
   ],
   "source": [
    "# correlação da varíavel target em relação as outras\n",
    "corr.target.sort_values(ascending=False)"
   ]
  },
  {
   "cell_type": "markdown",
   "metadata": {
    "colab_type": "text",
    "id": "FPZbYi-kRsfj"
   },
   "source": [
    "## Mapa de calor\n",
    "Um mapa de calor é uma representação gráfica em que valores individuais de uma matriz são representados como cores. Um mapa de calor é muito útil para visualizar a concentração de valores entre duas dimensões de uma matriz. Isso ajuda a encontrar padrões e fornece uma perspectiva de profundidade.\n"
   ]
  },
  {
   "cell_type": "code",
   "execution_count": 17,
   "metadata": {
    "colab": {
     "base_uri": "https://localhost:8080/",
     "height": 747
    },
    "colab_type": "code",
    "executionInfo": {
     "elapsed": 5208,
     "status": "ok",
     "timestamp": 1577129350247,
     "user": {
      "displayName": "Danilo Oliveira",
      "photoUrl": "https://lh3.googleusercontent.com/a-/AAuE7mA96PDjf3AlIUVVpD04WpcVFsjs_NDSpoce3UyMZA=s64",
      "userId": "05448819522936834813"
     },
     "user_tz": 180
    },
    "id": "ioeCnD4VRsfk",
    "outputId": "33ad4909-0825-4267-d1c3-933bd359bf39"
   },
   "outputs": [
    {
     "data": {
      "image/png": "[encoded data removed]",
      "text/plain": [
       "<Figure size 1152x864 with 2 Axes>"
      ]
     },
     "metadata": {
      "tags": []
     },
     "output_type": "display_data"
    }
   ],
   "source": [
    "plt.figure(figsize=(16,12))\n",
    "plt.title('Mapa de calor da correlação do dataset de doenças cardíacas')\n",
    "a = sns.heatmap(corr, cmap='bone', square=True, annot=True, fmt='.2f', linecolor='white')\n",
    "a.set_xticklabels(a.get_xticklabels(), rotation=90)\n",
    "a.set_yticklabels(a.get_yticklabels(), rotation=30)           \n",
    "plt.show()"
   ]
  },
  {
   "cell_type": "markdown",
   "metadata": {
    "colab_type": "text",
    "id": "V6Ui4NYZRsfR"
   },
   "source": [
    "De acordo com resultado acima:\n",
    " * As variaveis `cp` e `thalach` foram a que apresentaram uma melhor correlação positiva com nossa varíavel alvo (`target`) - (0.43 e 0.42) respectivamente\n",
    " * Resultados proximo de 0 não representam nenhum tipo de correlação. Como é o caso das varíaveis `fbs` e `chol`\n",
    " \n",
    " \n",
    "Vamos analisar as variaveis `cp` e `thalach` mais de perto"
   ]
  },
  {
   "cell_type": "markdown",
   "metadata": {
    "colab_type": "text",
    "id": "0fOELu1JRsfR"
   },
   "source": [
    "## Análise da variável target e cp"
   ]
  },
  {
   "cell_type": "markdown",
   "metadata": {
    "colab_type": "text",
    "id": "PQmUJzQ6RsfS"
   },
   "source": [
    "A angina é uma síndrome clínica caracterizada por dor ou desconforto em qualquer das seguintes regiões: tórax, epigástrio, mandíbula, ombro, dorso ou membros superiores, sendo tipicamente desencadeada ou agravada com atividade física ou estresse emocional e atenuada com uso de nitroglicerina e derivados. A angina usualmente acomete portadores de DAC com comprometimento de, pelo menos, uma artéria epicárdica. Entretanto, pode também ocorrer em casos de doença cardíaca valvar, cardiomiopatia hipertrófica e hipertensão não controlada. Pacientes com coronárias normais e isquemia miocárdica relacionada ao espasmo ou disfunção endotelial também podem apresentar angina.\n",
    "\n",
    "<center><img width=\"45%\" src=\"http://www.scielo.br/img/revistas/abc/v83s2/21516t1.gif\"></center>\n",
    "\n",
    "fonte: Arq. Bras. Cardiol. vol.83  suppl.2 São Paulo Sept. 2004 [Scielo](http://www.scielo.br/scielo.php?script=sci_arttext&pid=S0066-782X2004002100001)\n",
    "\n",
    "No nossa dataset a varíavel `cp`(chest pain) dor no peito é caracterizada por inteiros:\n",
    "\n",
    " * 0: angina típica\n",
    " * 1: angina atípica\n",
    " * 2: dor não cardíaca\n",
    " * 3: assintomática"
   ]
  },
  {
   "cell_type": "code",
   "execution_count": 18,
   "metadata": {
    "colab": {
     "base_uri": "https://localhost:8080/",
     "height": 34
    },
    "colab_type": "code",
    "executionInfo": {
     "elapsed": 5203,
     "status": "ok",
     "timestamp": 1577129350247,
     "user": {
      "displayName": "Danilo Oliveira",
      "photoUrl": "https://lh3.googleusercontent.com/a-/AAuE7mA96PDjf3AlIUVVpD04WpcVFsjs_NDSpoce3UyMZA=s64",
      "userId": "05448819522936834813"
     },
     "user_tz": 180
    },
    "id": "QVSjjsCMRsfS",
    "outputId": "f7e1b6d9-6378-4dfa-f4e2-d7f259657aff"
   },
   "outputs": [
    {
     "data": {
      "text/plain": [
       "4"
      ]
     },
     "execution_count": 18,
     "metadata": {
      "tags": []
     },
     "output_type": "execute_result"
    }
   ],
   "source": [
    "# valores unicos\n",
    "uci_df.cp.nunique()"
   ]
  },
  {
   "cell_type": "code",
   "execution_count": 19,
   "metadata": {
    "colab": {
     "base_uri": "https://localhost:8080/",
     "height": 102
    },
    "colab_type": "code",
    "executionInfo": {
     "elapsed": 5199,
     "status": "ok",
     "timestamp": 1577129350248,
     "user": {
      "displayName": "Danilo Oliveira",
      "photoUrl": "https://lh3.googleusercontent.com/a-/AAuE7mA96PDjf3AlIUVVpD04WpcVFsjs_NDSpoce3UyMZA=s64",
      "userId": "05448819522936834813"
     },
     "user_tz": 180
    },
    "id": "G9kD0zojRsfU",
    "outputId": "7060daa4-2419-4e6f-ae00-88802d0bb220"
   },
   "outputs": [
    {
     "data": {
      "text/plain": [
       "0    143\n",
       "2     87\n",
       "1     50\n",
       "3     23\n",
       "Name: cp, dtype: int64"
      ]
     },
     "execution_count": 19,
     "metadata": {
      "tags": []
     },
     "output_type": "execute_result"
    }
   ],
   "source": [
    "# frequencia desses valores\n",
    "uci_df.cp.value_counts()"
   ]
  },
  {
   "cell_type": "code",
   "execution_count": 20,
   "metadata": {
    "colab": {
     "base_uri": "https://localhost:8080/",
     "height": 279
    },
    "colab_type": "code",
    "executionInfo": {
     "elapsed": 5195,
     "status": "ok",
     "timestamp": 1577129350249,
     "user": {
      "displayName": "Danilo Oliveira",
      "photoUrl": "https://lh3.googleusercontent.com/a-/AAuE7mA96PDjf3AlIUVVpD04WpcVFsjs_NDSpoce3UyMZA=s64",
      "userId": "05448819522936834813"
     },
     "user_tz": 180
    },
    "id": "VGN3qwhGRsfW",
    "outputId": "8aa52da9-a9d8-42ba-9a2b-56b18ab3cdca"
   },
   "outputs": [
    {
     "data": {
      "image/png": "[encoded data removed]",
      "text/plain": [
       "<Figure size 432x288 with 1 Axes>"
      ]
     },
     "metadata": {
      "tags": []
     },
     "output_type": "display_data"
    }
   ],
   "source": [
    "# visualizando frequencia\n",
    "f, ax = plt.subplots(figsize=(6,4))\n",
    "ax = sns.countplot(x='cp', data=uci_df)\n",
    "plt.show()"
   ]
  },
  {
   "cell_type": "code",
   "execution_count": 21,
   "metadata": {
    "colab": {
     "base_uri": "https://localhost:8080/",
     "height": 187
    },
    "colab_type": "code",
    "executionInfo": {
     "elapsed": 5190,
     "status": "ok",
     "timestamp": 1577129350249,
     "user": {
      "displayName": "Danilo Oliveira",
      "photoUrl": "https://lh3.googleusercontent.com/a-/AAuE7mA96PDjf3AlIUVVpD04WpcVFsjs_NDSpoce3UyMZA=s64",
      "userId": "05448819522936834813"
     },
     "user_tz": 180
    },
    "id": "Xg_aXE4pRsfX",
    "outputId": "7970a42d-87ca-41ae-9dd1-713821f29980"
   },
   "outputs": [
    {
     "data": {
      "text/plain": [
       "cp  target\n",
       "0   0         104\n",
       "    1          39\n",
       "1   1          41\n",
       "    0           9\n",
       "2   1          69\n",
       "    0          18\n",
       "3   1          16\n",
       "    0           7\n",
       "Name: target, dtype: int64"
      ]
     },
     "execution_count": 21,
     "metadata": {
      "tags": []
     },
     "output_type": "execute_result"
    }
   ],
   "source": [
    "# frequencia entre target em relacao cp\n",
    "uci_df.groupby(['cp']).target.value_counts()"
   ]
  },
  {
   "cell_type": "markdown",
   "metadata": {
    "colab_type": "text",
    "id": "Qo3n60QQxnA-"
   },
   "source": [
    "Assim conseguimos deduzir:\n",
    " * Em 143 pessoas com dor no peito (cp) = 0 (angina típica) - 39 apresentam doença cardíaca e 104 a ausência da doença cardíaca\n",
    " * Em 50 pessoas com dor no peito (cp) = 1 (angina atípica) - 41 apresentam doença cardíaca e 9 a ausência da doença cardiaca\n",
    " * Em 87 pessoas com dor no peito (cp) = 2 (dor não cardíaca) - 69 apresentam doença cardíaca e 18 a ausência da doença cardíaca\n",
    " * Em 27 pessoas com dor no peito (cp) = 3 (assintomática) - 16 apresentam doença cardíaca e 7 a ausência da doença cardiaca\n",
    " \n",
    "Abaixo apresentamos de forma gráfica esses resultados."
   ]
  },
  {
   "cell_type": "code",
   "execution_count": 22,
   "metadata": {
    "colab": {
     "base_uri": "https://localhost:8080/",
     "height": 297
    },
    "colab_type": "code",
    "executionInfo": {
     "elapsed": 5803,
     "status": "ok",
     "timestamp": 1577129350867,
     "user": {
      "displayName": "Danilo Oliveira",
      "photoUrl": "https://lh3.googleusercontent.com/a-/AAuE7mA96PDjf3AlIUVVpD04WpcVFsjs_NDSpoce3UyMZA=s64",
      "userId": "05448819522936834813"
     },
     "user_tz": 180
    },
    "id": "rFYqPO6_Rsfa",
    "outputId": "4246049e-18f5-475e-ee59-01e3c2264da7"
   },
   "outputs": [
    {
     "data": {
      "image/png": "[encoded data removed]",
      "text/plain": [
       "<Figure size 921.6x288 with 4 Axes>"
      ]
     },
     "metadata": {
      "tags": []
     },
     "output_type": "display_data"
    }
   ],
   "source": [
    "# visualizando relacao\n",
    "sns.catplot(x=\"target\", col=\"cp\", data=uci_df, kind=\"count\", height=4, aspect=0.8);"
   ]
  },
  {
   "cell_type": "markdown",
   "metadata": {
    "colab_type": "text",
    "id": "7BGnUi_gRsfb"
   },
   "source": [
    "## Análise da variável target e thalach\n",
    "A frequência cardíaca (FC) é um parâmetro fisiológico de fácil mensuração, comumente utilizado para avaliar a resposta cardiovascular durante o exercício e a fase de recuperação.A FC aumenta linearmente com a intensidade do esforço, sendo denominado frequência cardíaca máxima (FCmáx) o maior valor alcançado pelo indivíduo durante um esforço físico até o ponto de exaustão.\n",
    "\n",
    "fonte: [Scielo](http://www.scielo.br/pdf/rpp/v36n3/0103-0582-rpp-36-03-309.pdf)\n",
    "\n",
    "A varíavel `thalach` representa a frequência cardíaca máxima atingida"
   ]
  },
  {
   "cell_type": "code",
   "execution_count": 23,
   "metadata": {
    "colab": {
     "base_uri": "https://localhost:8080/",
     "height": 34
    },
    "colab_type": "code",
    "executionInfo": {
     "elapsed": 5799,
     "status": "ok",
     "timestamp": 1577129350868,
     "user": {
      "displayName": "Danilo Oliveira",
      "photoUrl": "https://lh3.googleusercontent.com/a-/AAuE7mA96PDjf3AlIUVVpD04WpcVFsjs_NDSpoce3UyMZA=s64",
      "userId": "05448819522936834813"
     },
     "user_tz": 180
    },
    "id": "URK0rebLRsfc",
    "outputId": "af482962-3ec9-4701-f5a5-6cd27c81d9d4"
   },
   "outputs": [
    {
     "data": {
      "text/plain": [
       "91"
      ]
     },
     "execution_count": 23,
     "metadata": {
      "tags": []
     },
     "output_type": "execute_result"
    }
   ],
   "source": [
    "# verificando valores unicos\n",
    "uci_df.thalach.nunique()"
   ]
  },
  {
   "cell_type": "code",
   "execution_count": 24,
   "metadata": {
    "colab": {
     "base_uri": "https://localhost:8080/",
     "height": 279
    },
    "colab_type": "code",
    "executionInfo": {
     "elapsed": 5794,
     "status": "ok",
     "timestamp": 1577129350868,
     "user": {
      "displayName": "Danilo Oliveira",
      "photoUrl": "https://lh3.googleusercontent.com/a-/AAuE7mA96PDjf3AlIUVVpD04WpcVFsjs_NDSpoce3UyMZA=s64",
      "userId": "05448819522936834813"
     },
     "user_tz": 180
    },
    "id": "rCJE58uCRsfe",
    "outputId": "00f4589e-8cb6-4d97-8ab6-29aa31530c8f"
   },
   "outputs": [
    {
     "data": {
      "image/png": "[encoded data removed]",
      "text/plain": [
       "<Figure size 432x288 with 1 Axes>"
      ]
     },
     "metadata": {
      "tags": []
     },
     "output_type": "display_data"
    }
   ],
   "source": [
    "# frequencia desse valores\n",
    "f, ax = plt.subplots(figsize=(6,4))\n",
    "x = uci_df.thalach\n",
    "ax = sns.distplot(x, bins=10)\n",
    "plt.show()"
   ]
  },
  {
   "cell_type": "code",
   "execution_count": 25,
   "metadata": {
    "colab": {
     "base_uri": "https://localhost:8080/",
     "height": 279
    },
    "colab_type": "code",
    "executionInfo": {
     "elapsed": 5790,
     "status": "ok",
     "timestamp": 1577129350869,
     "user": {
      "displayName": "Danilo Oliveira",
      "photoUrl": "https://lh3.googleusercontent.com/a-/AAuE7mA96PDjf3AlIUVVpD04WpcVFsjs_NDSpoce3UyMZA=s64",
      "userId": "05448819522936834813"
     },
     "user_tz": 180
    },
    "id": "lCMzb0vwRsfg",
    "outputId": "0057c953-e5d4-4cc0-e4f1-1755d7031a5f"
   },
   "outputs": [
    {
     "data": {
      "image/png": "[encoded data removed]",
      "text/plain": [
       "<Figure size 432x288 with 1 Axes>"
      ]
     },
     "metadata": {
      "tags": []
     },
     "output_type": "display_data"
    }
   ],
   "source": [
    "# visualizando distribuição dos valores em relacão target\n",
    "ax = sns.boxplot(x=\"target\", y=\"thalach\", data=uci_df)\n",
    "plt.show()\n"
   ]
  },
  {
   "cell_type": "markdown",
   "metadata": {
    "colab_type": "text",
    "id": "TXbh_PZoRsfj"
   },
   "source": [
    "Diante do exposto podemos ver que as pessoas que sofrem de doenças cardíacas (target = 1) têm frequência cardíaca relativamente mais alta (thalach) em comparação com as pessoas que não sofrem de doença cardíaca (target = 0)."
   ]
  },
  {
   "cell_type": "markdown",
   "metadata": {
    "colab_type": "text",
    "id": "emfMaMncRsfo"
   },
   "source": [
    "# 6. Detecção de Outlier\n",
    "\n",
    "Os *outliers* assim como os valores ausentes inteferem nas qualidade da nossa analise. Eles são registros de dados que diferem dramaticamente de todos os outros, eles se distinguem em uma ou mais características. Em outras palavras, um outlier é um valor que escapa à normalidade e pode (e provavelmente causará) anomalias nos resultados obtidos.\n",
    "\n",
    "Compreender os outliers é fundamental na análise de dados para pelo menos dois aspectos:\n",
    "\n",
    "* Os *outliers* podem influenciar negativamente todo o resultado de uma análise;\n",
    "* o comportamento dos *outliers* pode ser exatamente o que está sendo procurado.\n",
    "\n",
    "Uma das melhores maneiras de identificar dados discrepantes alem do metodo `.describe()` que utilizamos acima é usar gráficos. Ao traçar um gráfico, podemos ver claramente que existe algo diferente."
   ]
  },
  {
   "cell_type": "markdown",
   "metadata": {
    "colab_type": "text",
    "id": "EMeBGkL5Rsfo"
   },
   "source": [
    "## Gráfico boxplot\n",
    "O gráfico boxplot tem uma estrutura que casa muito bem com o método `describe()` que vimos anteriormente. São uma maneira padronizada de exibir a distribuição de dados com base em um resumo de cinco números (“mínimo”, primeiro quartil (Q1), mediana, terceiro quartil (Q3) e “máximo”).\n",
    "\n",
    "<center><img width=\"30%\" src=\"https://caetreinamentos.com.br/blog/wp-content/uploads/2019/01/grafico-box-plot.png\"></center>\n",
    "\n",
    "Vamos realizar o boxplots das variaveis numericas:\n",
    "  * `age`;\n",
    "  * `trestbps`;\n",
    "  * `chol`; \n",
    "  * `thalach`;\n",
    "  * `oldpeak`.\n",
    "\n"
   ]
  },
  {
   "cell_type": "markdown",
   "metadata": {
    "colab_type": "text",
    "id": "LjPEr47ORsfp"
   },
   "source": [
    "### varíavel `age`"
   ]
  },
  {
   "cell_type": "code",
   "execution_count": 26,
   "metadata": {
    "colab": {
     "base_uri": "https://localhost:8080/",
     "height": 0
    },
    "colab_type": "code",
    "executionInfo": {
     "elapsed": 5780,
     "status": "ok",
     "timestamp": 1577129350869,
     "user": {
      "displayName": "Danilo Oliveira",
      "photoUrl": "https://lh3.googleusercontent.com/a-/AAuE7mA96PDjf3AlIUVVpD04WpcVFsjs_NDSpoce3UyMZA=s64",
      "userId": "05448819522936834813"
     },
     "user_tz": 180
    },
    "id": "o8bOA4ZkRsfp",
    "outputId": "bfa76e70-9ebe-450c-cc0a-5d65f8ad2323"
   },
   "outputs": [
    {
     "data": {
      "text/plain": [
       "count    303.000000\n",
       "mean      54.366337\n",
       "std        9.082101\n",
       "min       29.000000\n",
       "25%       47.500000\n",
       "50%       55.000000\n",
       "75%       61.000000\n",
       "max       77.000000\n",
       "Name: age, dtype: float64"
      ]
     },
     "execution_count": 26,
     "metadata": {
      "tags": []
     },
     "output_type": "execute_result"
    }
   ],
   "source": [
    "uci_df.age.describe()"
   ]
  },
  {
   "cell_type": "code",
   "execution_count": 27,
   "metadata": {
    "colab": {
     "base_uri": "https://localhost:8080/",
     "height": 0
    },
    "colab_type": "code",
    "executionInfo": {
     "elapsed": 5777,
     "status": "ok",
     "timestamp": 1577129350870,
     "user": {
      "displayName": "Danilo Oliveira",
      "photoUrl": "https://lh3.googleusercontent.com/a-/AAuE7mA96PDjf3AlIUVVpD04WpcVFsjs_NDSpoce3UyMZA=s64",
      "userId": "05448819522936834813"
     },
     "user_tz": 180
    },
    "id": "2DS6i7sbRsfr",
    "outputId": "602eace3-6265-4c4a-e5ad-a13735928293"
   },
   "outputs": [
    {
     "data": {
      "image/png": "[encoded data removed]",
      "text/plain": [
       "<Figure size 432x288 with 1 Axes>"
      ]
     },
     "metadata": {
      "tags": []
     },
     "output_type": "display_data"
    }
   ],
   "source": [
    "f, ax = plt.subplots(figsize=(6, 4))\n",
    "sns.boxplot(x=uci_df.age, ax=ax)\n",
    "plt.show()"
   ]
  },
  {
   "cell_type": "markdown",
   "metadata": {
    "colab_type": "text",
    "id": "0VLAkur3Rsfs"
   },
   "source": [
    "### varíavel `trestbps`"
   ]
  },
  {
   "cell_type": "code",
   "execution_count": 28,
   "metadata": {
    "colab": {
     "base_uri": "https://localhost:8080/",
     "height": 0
    },
    "colab_type": "code",
    "executionInfo": {
     "elapsed": 5772,
     "status": "ok",
     "timestamp": 1577129350870,
     "user": {
      "displayName": "Danilo Oliveira",
      "photoUrl": "https://lh3.googleusercontent.com/a-/AAuE7mA96PDjf3AlIUVVpD04WpcVFsjs_NDSpoce3UyMZA=s64",
      "userId": "05448819522936834813"
     },
     "user_tz": 180
    },
    "id": "dr5X8neRRsft",
    "outputId": "8bcddf77-344c-49a5-ad93-728bc31b5b6c"
   },
   "outputs": [
    {
     "data": {
      "text/plain": [
       "count    303.000000\n",
       "mean     131.623762\n",
       "std       17.538143\n",
       "min       94.000000\n",
       "25%      120.000000\n",
       "50%      130.000000\n",
       "75%      140.000000\n",
       "max      200.000000\n",
       "Name: trestbps, dtype: float64"
      ]
     },
     "execution_count": 28,
     "metadata": {
      "tags": []
     },
     "output_type": "execute_result"
    }
   ],
   "source": [
    "uci_df.trestbps.describe()"
   ]
  },
  {
   "cell_type": "code",
   "execution_count": 29,
   "metadata": {
    "colab": {
     "base_uri": "https://localhost:8080/",
     "height": 0
    },
    "colab_type": "code",
    "executionInfo": {
     "elapsed": 5768,
     "status": "ok",
     "timestamp": 1577129350871,
     "user": {
      "displayName": "Danilo Oliveira",
      "photoUrl": "https://lh3.googleusercontent.com/a-/AAuE7mA96PDjf3AlIUVVpD04WpcVFsjs_NDSpoce3UyMZA=s64",
      "userId": "05448819522936834813"
     },
     "user_tz": 180
    },
    "id": "jS-hM0yORsfv",
    "outputId": "58a09833-5199-4cfb-a3a5-383ba6600e4c"
   },
   "outputs": [
    {
     "data": {
      "image/png": "[encoded data removed]",
      "text/plain": [
       "<Figure size 432x288 with 1 Axes>"
      ]
     },
     "metadata": {
      "tags": []
     },
     "output_type": "display_data"
    }
   ],
   "source": [
    "f, ax = plt.subplots(figsize=(6,4))\n",
    "sns.boxplot(x=uci_df.trestbps)\n",
    "plt.show()"
   ]
  },
  {
   "cell_type": "markdown",
   "metadata": {
    "colab_type": "text",
    "id": "HPnFX0u2Rsfx"
   },
   "source": [
    "### varíavel `chol`"
   ]
  },
  {
   "cell_type": "code",
   "execution_count": 30,
   "metadata": {
    "colab": {
     "base_uri": "https://localhost:8080/",
     "height": 0
    },
    "colab_type": "code",
    "executionInfo": {
     "elapsed": 5763,
     "status": "ok",
     "timestamp": 1577129350871,
     "user": {
      "displayName": "Danilo Oliveira",
      "photoUrl": "https://lh3.googleusercontent.com/a-/AAuE7mA96PDjf3AlIUVVpD04WpcVFsjs_NDSpoce3UyMZA=s64",
      "userId": "05448819522936834813"
     },
     "user_tz": 180
    },
    "id": "XIxjH7LSRsfx",
    "outputId": "186e3319-7cdf-4a1c-a541-77c153b1f29b"
   },
   "outputs": [
    {
     "data": {
      "text/plain": [
       "count    303.000000\n",
       "mean     246.264026\n",
       "std       51.830751\n",
       "min      126.000000\n",
       "25%      211.000000\n",
       "50%      240.000000\n",
       "75%      274.500000\n",
       "max      564.000000\n",
       "Name: chol, dtype: float64"
      ]
     },
     "execution_count": 30,
     "metadata": {
      "tags": []
     },
     "output_type": "execute_result"
    }
   ],
   "source": [
    "uci_df.chol.describe()"
   ]
  },
  {
   "cell_type": "code",
   "execution_count": 31,
   "metadata": {
    "colab": {
     "base_uri": "https://localhost:8080/",
     "height": 0
    },
    "colab_type": "code",
    "executionInfo": {
     "elapsed": 5758,
     "status": "ok",
     "timestamp": 1577129350871,
     "user": {
      "displayName": "Danilo Oliveira",
      "photoUrl": "https://lh3.googleusercontent.com/a-/AAuE7mA96PDjf3AlIUVVpD04WpcVFsjs_NDSpoce3UyMZA=s64",
      "userId": "05448819522936834813"
     },
     "user_tz": 180
    },
    "id": "l6gOjCsORsfz",
    "outputId": "aa22d7ed-7a1d-4701-df67-fe9ed4af43fa"
   },
   "outputs": [
    {
     "data": {
      "image/png": "[encoded data removed]",
      "text/plain": [
       "<Figure size 432x288 with 1 Axes>"
      ]
     },
     "metadata": {
      "tags": []
     },
     "output_type": "display_data"
    }
   ],
   "source": [
    "f, ax = plt.subplots(figsize=(6,4))\n",
    "sns.boxplot(x=uci_df.chol)\n",
    "plt.show()"
   ]
  },
  {
   "cell_type": "markdown",
   "metadata": {
    "colab_type": "text",
    "id": "UBF3Ns7_Rsf1"
   },
   "source": [
    "### varíavel `thalach`\n"
   ]
  },
  {
   "cell_type": "code",
   "execution_count": 32,
   "metadata": {
    "colab": {
     "base_uri": "https://localhost:8080/",
     "height": 0
    },
    "colab_type": "code",
    "executionInfo": {
     "elapsed": 5754,
     "status": "ok",
     "timestamp": 1577129350872,
     "user": {
      "displayName": "Danilo Oliveira",
      "photoUrl": "https://lh3.googleusercontent.com/a-/AAuE7mA96PDjf3AlIUVVpD04WpcVFsjs_NDSpoce3UyMZA=s64",
      "userId": "05448819522936834813"
     },
     "user_tz": 180
    },
    "id": "o430Ye05Rsf1",
    "outputId": "98f062d9-b4da-4eea-bdc4-85860a251cde"
   },
   "outputs": [
    {
     "data": {
      "text/plain": [
       "count    303.000000\n",
       "mean     149.646865\n",
       "std       22.905161\n",
       "min       71.000000\n",
       "25%      133.500000\n",
       "50%      153.000000\n",
       "75%      166.000000\n",
       "max      202.000000\n",
       "Name: thalach, dtype: float64"
      ]
     },
     "execution_count": 32,
     "metadata": {
      "tags": []
     },
     "output_type": "execute_result"
    }
   ],
   "source": [
    "uci_df.thalach.describe()"
   ]
  },
  {
   "cell_type": "code",
   "execution_count": 33,
   "metadata": {
    "colab": {
     "base_uri": "https://localhost:8080/",
     "height": 0
    },
    "colab_type": "code",
    "executionInfo": {
     "elapsed": 7675,
     "status": "ok",
     "timestamp": 1577129352798,
     "user": {
      "displayName": "Danilo Oliveira",
      "photoUrl": "https://lh3.googleusercontent.com/a-/AAuE7mA96PDjf3AlIUVVpD04WpcVFsjs_NDSpoce3UyMZA=s64",
      "userId": "05448819522936834813"
     },
     "user_tz": 180
    },
    "id": "ejJVPQqhRsf4",
    "outputId": "f7563c5a-2443-4d22-baa3-47ceb99ad034"
   },
   "outputs": [
    {
     "data": {
      "image/png": "[encoded data removed]",
      "text/plain": [
       "<Figure size 432x288 with 1 Axes>"
      ]
     },
     "metadata": {
      "tags": []
     },
     "output_type": "display_data"
    }
   ],
   "source": [
    "f, ax = plt.subplots(figsize=(6,4))\n",
    "sns.boxplot(x=uci_df.thalach)\n",
    "plt.show()"
   ]
  },
  {
   "cell_type": "markdown",
   "metadata": {
    "colab_type": "text",
    "id": "kzvShf_nRsf6"
   },
   "source": [
    "### varíavel `oldpeak`"
   ]
  },
  {
   "cell_type": "code",
   "execution_count": 34,
   "metadata": {
    "colab": {
     "base_uri": "https://localhost:8080/",
     "height": 0
    },
    "colab_type": "code",
    "executionInfo": {
     "elapsed": 7672,
     "status": "ok",
     "timestamp": 1577129352799,
     "user": {
      "displayName": "Danilo Oliveira",
      "photoUrl": "https://lh3.googleusercontent.com/a-/AAuE7mA96PDjf3AlIUVVpD04WpcVFsjs_NDSpoce3UyMZA=s64",
      "userId": "05448819522936834813"
     },
     "user_tz": 180
    },
    "id": "nF-LhlTeRsf7",
    "outputId": "2e8e94a5-900d-4cf7-ed18-b8fd9e154662"
   },
   "outputs": [
    {
     "data": {
      "text/plain": [
       "count    303.000000\n",
       "mean       1.039604\n",
       "std        1.161075\n",
       "min        0.000000\n",
       "25%        0.000000\n",
       "50%        0.800000\n",
       "75%        1.600000\n",
       "max        6.200000\n",
       "Name: oldpeak, dtype: float64"
      ]
     },
     "execution_count": 34,
     "metadata": {
      "tags": []
     },
     "output_type": "execute_result"
    }
   ],
   "source": [
    "uci_df.oldpeak.describe()"
   ]
  },
  {
   "cell_type": "code",
   "execution_count": 35,
   "metadata": {
    "colab": {
     "base_uri": "https://localhost:8080/",
     "height": 0
    },
    "colab_type": "code",
    "executionInfo": {
     "elapsed": 7668,
     "status": "ok",
     "timestamp": 1577129352800,
     "user": {
      "displayName": "Danilo Oliveira",
      "photoUrl": "https://lh3.googleusercontent.com/a-/AAuE7mA96PDjf3AlIUVVpD04WpcVFsjs_NDSpoce3UyMZA=s64",
      "userId": "05448819522936834813"
     },
     "user_tz": 180
    },
    "id": "BCzBaYzDRsf8",
    "outputId": "19fa9ee6-daff-487a-f9e5-a844a93b793f"
   },
   "outputs": [
    {
     "data": {
      "image/png": "[encoded data removed]",
      "text/plain": [
       "<Figure size 432x288 with 1 Axes>"
      ]
     },
     "metadata": {
      "tags": []
     },
     "output_type": "display_data"
    }
   ],
   "source": [
    "f, ax = plt.subplots(figsize=(6,4))\n",
    "sns.boxplot(x=uci_df.oldpeak)\n",
    "plt.show()"
   ]
  },
  {
   "cell_type": "markdown",
   "metadata": {
    "colab_type": "text",
    "id": "JhtMt2dTRsf9"
   },
   "source": [
    "### Resultados\n",
    "\n",
    "* A variável `age` não contém nenhum valor externo.\n",
    "\n",
    "* A variável `trestbps` contém valores discrepantes para o lado direito.\n",
    "\n",
    "* A variável `chol` também contém valores discrepantes para o lado direito.\n",
    "\n",
    "* A variável `thalach` contém um único valor externo para o lado esquerdo.\n",
    "\n",
    "* A variável `oldpeak` contém valores discrepantes para o lado direito.\n",
    "\n",
    "Essas variáveis que contêm valores discrepantes precisam de mais investigação."
   ]
  },
  {
   "cell_type": "markdown",
   "metadata": {
    "colab_type": "text",
    "id": "IoEY7LKLEkiq"
   },
   "source": [
    "# 7. Conclusão\n",
    "\n",
    "Chegamos ao final de mais uma análise, nosso objetivo foi explorar o conjunto de dados de doenças cardíacas que foi coletado da **Cleveland Clinic Foundation**. Nossa variável de interesse foi a variável `target` ela indica se o paciente possui doença cardiaca ou a ausência da mesmo (1= Possui doença cardíaca; 0= Ausência de doença cardíaca). Nós a analisamos de forma individual e sua interação com outras variáveis onde fomos capazes de concluir que:\n",
    "\n",
    "\n",
    " * Existem 165 pacientes que sofrem de doenças cardíacas e 138 pacientes que não têm nenhuma doença cardíaca.\n",
    " * Das 96 mulheres, 72 têm doenças cardíacas e 24 não têm doenças cardíacas.\n",
    " * Da mesma forma, dos 207 homens - 93 têm doenças cardíacas e 114 não têm doenças cardíacas. \n",
    " * Não há variável que tenha forte correlação positiva ou negativa com a variável alvo(`target`).\n",
    " * Não há correlação entre varíavel alvo (`target`) com `fbs` e `chol`.\n",
    " * As variáveis `cp ; thalach` estão ligeiramente correlacionadas positivamente com a variável alvo.\n",
    " * Podemos ver que a variável thalach está ligeiramente inclinada negativamente.\n",
    " * As pessoas que sofrem de doenças cardíacas (`target`= 1) têm uma freqüência cardíaca relativamente mais alta (`thalach`) em comparação com as pessoas que não sofrem de doenças cardíacas (`target`= 0).\n",
    "\n",
    "Também discutimos como detectar outliers e mostramos que algumas das nossas variáveis apresentaram valores discrepantes. Iremos trata-las em um próximo projeto onde iremos aplicar algoritmos de aprendizado de máquina (Machine Learning) para realizar predições\n",
    "\n",
    "Se você gostou ou deseja iniciar uma discussão, deixe um comentário!"
   ]
  },
  {
   "cell_type": "code",
   "execution_count": 0,
   "metadata": {
    "colab": {},
    "colab_type": "code",
    "id": "70_fLJSDEkiq"
   },
   "outputs": [],
   "source": []
  }
 ],
 "metadata": {
  "colab": {
   "collapsed_sections": [
    "F4jy2D_10aOG",
    "NAjPy3AURsfL",
    "EMeBGkL5Rsfo",
    "LjPEr47ORsfp",
    "0VLAkur3Rsfs",
    "HPnFX0u2Rsfx",
    "UBF3Ns7_Rsf1",
    "kzvShf_nRsf6",
    "JhtMt2dTRsf9"
   ],
   "name": "Análise Exploratoória de Dados - Doenças Cardiovasculares .ipynb",
   "provenance": [
    {
     "file_id": "1U3mDSs3Z8xFz2jyf-nO_xRhLQspyINHy",
     "timestamp": 1577121827098
    }
   ]
  },
  "kernelspec": {
   "display_name": "Python 3",
   "language": "python",
   "name": "python3"
  },
  "language_info": {
   "codemirror_mode": {
    "name": "ipython",
    "version": 3
   },
   "file_extension": ".py",
   "mimetype": "text/x-python",
   "name": "python",
   "nbconvert_exporter": "python",
   "pygments_lexer": "ipython3",
   "version": "3.7.5"
  }
 },
 "nbformat": 4,
 "nbformat_minor": 1
}
